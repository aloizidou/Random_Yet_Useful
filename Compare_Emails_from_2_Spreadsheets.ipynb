{
 "cells": [
  {
   "cell_type": "code",
   "execution_count": 9,
   "id": "5298bd3f",
   "metadata": {
    "scrolled": true
   },
   "outputs": [
    {
     "name": "stdout",
     "output_type": "stream",
     "text": [
      "database 1\n",
      "                                 Email\n",
      "0                     mcauvi@gmail.com\n",
      "1  josenrique.martinez@veratech.com.mx\n",
      "2             dstewart_123@outlook.com\n",
      "3          fernando.angel@sbseguros.co\n",
      "4          egiraldovargas@munichre.com\n",
      "=================\n",
      "database 3\n",
      "=================\n",
      "         Nombre   Apellido                     Email Compañía  Posición  \\\n",
      "0         Rocio  Dominguez  Rocio.Dominguez@aexp.com     Amex       NaN   \n",
      "1        Sergio       Toro       storor@argos.com.co    Argos       NaN   \n",
      "2        Simon      Little       Slittle@azamara.com  Azamara       NaN   \n",
      "3        Robert      Klock        RKlock@azamara.com  Azamara       NaN   \n",
      "4  Juan Alberto   Escudero                       NaN  Belcorp       NaN   \n",
      "\n",
      "                            REF Confirmado  Panel  \n",
      "0                           NaN         Si    NaN  \n",
      "1                           NaN         Si    NaN  \n",
      "2                           NaN         Si    NaN  \n",
      "3                           NaN         Si    NaN  \n",
      "4  A través de Angel Diaz Chubb         Si    NaN  \n"
     ]
    },
    {
     "data": {
      "text/html": [
       "<a href='matching_emails.xlsx' target='_blank'>matching_emails.xlsx</a><br>"
      ],
      "text/plain": [
       "/Users/andrealoizidou/email_comparison/matching_emails.xlsx"
      ]
     },
     "execution_count": 9,
     "metadata": {},
     "output_type": "execute_result"
    }
   ],
   "source": [
    "import pandas as pd\n",
    "from IPython.display import FileLink\n",
    "\n",
    "# excel files\n",
    "database1 = pd.read_excel('database_one.xlsx', header=None, names=['Email'])  # Update with your file path\n",
    "database2 = pd.read_excel('database_three.xlsx')  # Update with your file path\n",
    "\n",
    "#first few rows of each database (optional)\n",
    "print(\"database 1\")\n",
    "print(database1.head())\n",
    "print(\"=================\")\n",
    "print(\"database 3\")\n",
    "print(\"=================\")\n",
    "print(database2.head())\n",
    "\n",
    "# check which emails from database2 are in database1\n",
    "matching_emails = database2[database2['Email'].isin(database1['Email'])]\n",
    "\n",
    "\n",
    "# save the matching emails to an Excel file\n",
    "output_file = 'matching_emails.xlsx'\n",
    "matching_emails.to_excel(output_file, index=False)\n",
    "\n",
    "# Create a download link\n",
    "file_link = FileLink(output_file)\n",
    "file_link  "
   ]
  },
  {
   "cell_type": "code",
   "execution_count": 12,
   "id": "7c149859",
   "metadata": {},
   "outputs": [
    {
     "data": {
      "text/html": [
       "<a href='non_matching_emails.xlsx' target='_blank'>non_matching_emails.xlsx</a><br>"
      ],
      "text/plain": [
       "/Users/andrealoizidou/email_comparison/non_matching_emails.xlsx"
      ]
     },
     "execution_count": 12,
     "metadata": {},
     "output_type": "execute_result"
    }
   ],
   "source": [
    "# Find emails from database2 that are NOT in database1\n",
    "non_matching_emails = database2[~database2['Email'].isin(database1['Email'])]\n",
    "\n",
    "# Save the non-matching emails to a new Excel file\n",
    "output_file_non = 'non_matching_emails.xlsx'\n",
    "non_matching_emails.to_excel(output_file_non, index=False)\n",
    "\n",
    "# Create a download link\n",
    "file_link = FileLink(output_file_non)\n",
    "file_link  "
   ]
  }
 ],
 "metadata": {
  "kernelspec": {
   "display_name": "Python 3 (ipykernel)",
   "language": "python",
   "name": "python3"
  },
  "language_info": {
   "codemirror_mode": {
    "name": "ipython",
    "version": 3
   },
   "file_extension": ".py",
   "mimetype": "text/x-python",
   "name": "python",
   "nbconvert_exporter": "python",
   "pygments_lexer": "ipython3",
   "version": "3.11.5"
  }
 },
 "nbformat": 4,
 "nbformat_minor": 5
}
