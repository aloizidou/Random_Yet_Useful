{
 "cells": [
  {
   "cell_type": "markdown",
   "metadata": {},
   "source": [
    "## DOB Similarity \n",
    "A method that takes an input dataframe with columns dob_x and dob_y and caculates the similarity of the 2 dates."
   ]
  },
  {
   "cell_type": "markdown",
   "metadata": {},
   "source": [
    "### Install libs"
   ]
  },
  {
   "cell_type": "code",
   "execution_count": 2,
   "metadata": {},
   "outputs": [
    {
     "name": "stdout",
     "output_type": "stream",
     "text": [
      "Requirement already satisfied: pandas in ./anaconda3/lib/python3.11/site-packages (2.1.4)\n",
      "Requirement already satisfied: numpy<2,>=1.23.2 in ./anaconda3/lib/python3.11/site-packages (from pandas) (1.24.3)\n",
      "Requirement already satisfied: python-dateutil>=2.8.2 in ./anaconda3/lib/python3.11/site-packages (from pandas) (2.8.2)\n",
      "Requirement already satisfied: pytz>=2020.1 in ./anaconda3/lib/python3.11/site-packages (from pandas) (2023.3.post1)\n",
      "Requirement already satisfied: tzdata>=2022.1 in ./anaconda3/lib/python3.11/site-packages (from pandas) (2023.3)\n",
      "Requirement already satisfied: six>=1.5 in ./anaconda3/lib/python3.11/site-packages (from python-dateutil>=2.8.2->pandas) (1.16.0)\n",
      "Note: you may need to restart the kernel to use updated packages.\n"
     ]
    }
   ],
   "source": [
    "%pip install pandas"
   ]
  },
  {
   "cell_type": "markdown",
   "metadata": {},
   "source": [
    "### Sample input"
   ]
  },
  {
   "cell_type": "code",
   "execution_count": 47,
   "metadata": {},
   "outputs": [
    {
     "name": "stdout",
     "output_type": "stream",
     "text": [
      "  input_dob_x input_dob_y\n",
      "0  1984-07-11            \n",
      "1  2020-04-20  2020-04-20\n",
      "2  2020-04-20  2020-11-07\n",
      "3  2020-04-05  2020-05-04\n",
      "4        None  2024-01-01\n"
     ]
    }
   ],
   "source": [
    "import pandas as pd\n",
    "\n",
    "#create a list of data\n",
    "data = [\n",
    "    [\"1984-07-11\", \"\"],\n",
    "    [\"2020-04-20\", \"2020-04-20\"],\n",
    "    [\"2020-04-20\", \"2020-11-07\"],\n",
    "    [\"2020-04-05\", \"2020-05-04\"],\n",
    "    [None, \"2024-01-01\"],\n",
    "]\n",
    "\n",
    "# Create a DataFrame\n",
    "df = pd.DataFrame(data, columns=[\"input_dob_x\", \"input_dob_y\"])\n",
    "\n",
    "# print the Df\n",
    "print(df)"
   ]
  },
  {
   "cell_type": "code",
   "execution_count": 48,
   "metadata": {},
   "outputs": [
    {
     "name": "stdout",
     "output_type": "stream",
     "text": [
      "  input_dob_x input_dob_y  dob_x_nul  dob_y_nul  dob_match\n",
      "0  1984-07-11                      0          1        0.0\n",
      "1  2020-04-20  2020-04-20          0          0        1.0\n",
      "2  2020-04-20  2020-11-07          0          0        0.0\n",
      "3  2020-04-05  2020-05-04          0          0        0.5\n",
      "4        None  2024-01-01          1          0        0.0\n"
     ]
    }
   ],
   "source": [
    "from datetime import datetime\n",
    "\n",
    "# function to validate the format of the date\n",
    "def is_valid_date(date_str):\n",
    "    if date_str:\n",
    "        try:\n",
    "            datetime.strptime(date_str, \"%Y-%m-%d\")\n",
    "            return 0\n",
    "        except ValueError as e:\n",
    "            print(f\"Invalid date format: {date_str} - Error: {e}\")\n",
    "            return 1\n",
    "    return 1\n",
    "\n",
    "#Function to compare dates\n",
    "def compare_dates(a):\n",
    "    \n",
    "    dob_x = a['input_dob_x']\n",
    "    dob_y = a['input_dob_y']\n",
    "    \n",
    "    if dob_x and dob_y:\n",
    "        \n",
    "        try:\n",
    "            date_x = datetime.strptime(dob_x, \"%Y-%m-%d\")\n",
    "            date_y = datetime.strptime(dob_y, \"%Y-%m-%d\")\n",
    "            \n",
    "            if date_x == date_y:\n",
    "                return 1.0\n",
    "            elif date_x.year == date_y.year and date_x.day == date_y.month and date_x.month == date_y.day:\n",
    "                return 0.5\n",
    "        except (ValueError, TypeError):\n",
    "            pass\n",
    "    \n",
    "    return 0.0\n",
    "\n",
    "\n",
    "# apply the function to each column\n",
    "df['dob_x_nul'] = df['input_dob_x'].apply(is_valid_date)\n",
    "df['dob_y_nul'] = df['input_dob_y'].apply(is_valid_date)\n",
    "df['dob_match'] = df.apply(compare_dates, axis=1)\n",
    "\n",
    "print(df)"
   ]
  },
  {
   "cell_type": "markdown",
   "metadata": {},
   "source": [
    "### Logic\n",
    "- The output will be 3 columns, a floationg point for similarity \"dob_match\" and 2 binary null intcators dob_x_null and dob_y_null.\n",
    "- First validate that the string in each column is a valid non empty date, format yyyy-mm-dd. (use datetime.datetime.strptime((<input_date>), \"%Y-%m-%d\"))\n",
    "- If either dob_x or dob_y are not a valid date as indicated above then mark the inticator as 1, 0 otherwise\n",
    "- If both dates are valid, then comapre them. If its the same date the similarity is 1.0, if the dd and mm are revesed the the similarity is 0.5, similarity is 0 otherwise.   "
   ]
  },
  {
   "cell_type": "markdown",
   "metadata": {},
   "source": [
    "### Sample Output"
   ]
  },
  {
   "cell_type": "code",
   "execution_count": 4,
   "metadata": {},
   "outputs": [
    {
     "name": "stdout",
     "output_type": "stream",
     "text": [
      "  input_dob_x input_dob_y  dob_x_null  dob_y_null  dob_match\n",
      "0  1984-07-11                       0           1        0.0\n",
      "1  2020-04-20  2020-04-20           0           0        1.0\n",
      "2  2020-04-20  2020-11-07           0           0        0.0\n",
      "3  2020-04-05  2020-05-04           0           0        0.5\n",
      "4        None  2024-01-01           1           0        0.0\n"
     ]
    }
   ],
   "source": [
    "import pandas as pd\n",
    "\n",
    "# Create a list of data\n",
    "data = [\n",
    "    [\"1984-07-11\", \"\",0,1,0.0],\n",
    "    [\"2020-04-20\", \"2020-04-20\",0,0,1.0],\n",
    "    [\"2020-04-20\", \"2020-11-07\",0,0,0.0],\n",
    "    [\"2020-04-05\", \"2020-05-04\",0,0,0.5],\n",
    "    [None, \"2024-01-01\",1,0,0.0],\n",
    "]\n",
    "\n",
    "# Create a DataFrame\n",
    "df = pd.DataFrame(data, columns=[\"input_dob_x\", \"input_dob_y\",\"dob_x_null\",\"dob_y_null\",'dob_match'])\n",
    "\n",
    "# Print the DataFrame\n",
    "print(df)"
   ]
  },
  {
   "cell_type": "markdown",
   "metadata": {},
   "source": [
    "### Example format"
   ]
  },
  {
   "cell_type": "code",
   "execution_count": 5,
   "metadata": {
    "scrolled": true
   },
   "outputs": [
    {
     "name": "stdout",
     "output_type": "stream",
     "text": [
      "       date1      date2  same_date_flag\n",
      "0 2024-06-20 2024-06-20               1\n",
      "1 2024-06-21 2024-06-22               0\n",
      "2 2024-06-23 2024-06-23               1\n"
     ]
    }
   ],
   "source": [
    "import pandas as pd\n",
    "\n",
    "# sample DataFrame with two date columns\n",
    "data = [[\"2024-06-20\", \"2024-06-20\"], [\"2024-06-21\", \"2024-06-22\"], [\"2024-06-23\", \"2024-06-23\"]]\n",
    "df = pd.DataFrame(data, columns=[\"date1\", \"date2\"])\n",
    "\n",
    "# convert date strings to datetime format\n",
    "df[\"date1\"] = pd.to_datetime(df[\"date1\"])\n",
    "df[\"date2\"] = pd.to_datetime(df[\"date2\"])\n",
    "\n",
    "# Define function to compare dates and return 1 if the same\n",
    "def are_same_date(row):\n",
    "  return (row[\"date1\"] == row[\"date2\"])*1\n",
    "\n",
    "# Apply the function with apply\n",
    "df[\"same_date_flag\"] = df.apply(are_same_date, axis=1) #axis=(0 for columns; and 1 for rows).\n",
    "\n",
    "print(df)"
   ]
  },
  {
   "cell_type": "code",
   "execution_count": 46,
   "metadata": {},
   "outputs": [
    {
     "ename": "KeyError",
     "evalue": "'input_dob_x'",
     "output_type": "error",
     "traceback": [
      "\u001b[0;31m---------------------------------------------------------------------------\u001b[0m",
      "\u001b[0;31mKeyError\u001b[0m                                  Traceback (most recent call last)",
      "File \u001b[0;32m~/anaconda3/lib/python3.11/site-packages/pandas/core/indexes/base.py:3791\u001b[0m, in \u001b[0;36mIndex.get_loc\u001b[0;34m(self, key)\u001b[0m\n\u001b[1;32m   3790\u001b[0m \u001b[38;5;28;01mtry\u001b[39;00m:\n\u001b[0;32m-> 3791\u001b[0m     \u001b[38;5;28;01mreturn\u001b[39;00m \u001b[38;5;28mself\u001b[39m\u001b[38;5;241m.\u001b[39m_engine\u001b[38;5;241m.\u001b[39mget_loc(casted_key)\n\u001b[1;32m   3792\u001b[0m \u001b[38;5;28;01mexcept\u001b[39;00m \u001b[38;5;167;01mKeyError\u001b[39;00m \u001b[38;5;28;01mas\u001b[39;00m err:\n",
      "File \u001b[0;32mindex.pyx:152\u001b[0m, in \u001b[0;36mpandas._libs.index.IndexEngine.get_loc\u001b[0;34m()\u001b[0m\n",
      "File \u001b[0;32mindex.pyx:181\u001b[0m, in \u001b[0;36mpandas._libs.index.IndexEngine.get_loc\u001b[0;34m()\u001b[0m\n",
      "File \u001b[0;32mpandas/_libs/hashtable_class_helper.pxi:7080\u001b[0m, in \u001b[0;36mpandas._libs.hashtable.PyObjectHashTable.get_item\u001b[0;34m()\u001b[0m\n",
      "File \u001b[0;32mpandas/_libs/hashtable_class_helper.pxi:7088\u001b[0m, in \u001b[0;36mpandas._libs.hashtable.PyObjectHashTable.get_item\u001b[0;34m()\u001b[0m\n",
      "\u001b[0;31mKeyError\u001b[0m: 'input_dob_x'",
      "\nThe above exception was the direct cause of the following exception:\n",
      "\u001b[0;31mKeyError\u001b[0m                                  Traceback (most recent call last)",
      "Cell \u001b[0;32mIn[46], line 37\u001b[0m\n\u001b[1;32m     33\u001b[0m     \u001b[38;5;28;01mreturn\u001b[39;00m \u001b[38;5;241m0.0\u001b[39m\n\u001b[1;32m     36\u001b[0m \u001b[38;5;66;03m# Apply the function to each column\u001b[39;00m\n\u001b[0;32m---> 37\u001b[0m df[\u001b[38;5;124m'\u001b[39m\u001b[38;5;124mdob_x_nul\u001b[39m\u001b[38;5;124m'\u001b[39m] \u001b[38;5;241m=\u001b[39m df[\u001b[38;5;124m'\u001b[39m\u001b[38;5;124minput_dob_x\u001b[39m\u001b[38;5;124m'\u001b[39m]\u001b[38;5;241m.\u001b[39mapply(is_valid_date)\n\u001b[1;32m     38\u001b[0m df[\u001b[38;5;124m'\u001b[39m\u001b[38;5;124mdob_y_nul\u001b[39m\u001b[38;5;124m'\u001b[39m] \u001b[38;5;241m=\u001b[39m df[\u001b[38;5;124m'\u001b[39m\u001b[38;5;124minput_dob_y\u001b[39m\u001b[38;5;124m'\u001b[39m]\u001b[38;5;241m.\u001b[39mapply(is_valid_date)\n\u001b[1;32m     39\u001b[0m df[\u001b[38;5;124m'\u001b[39m\u001b[38;5;124mdob_match\u001b[39m\u001b[38;5;124m'\u001b[39m] \u001b[38;5;241m=\u001b[39m df\u001b[38;5;241m.\u001b[39mapply(compare_dates, axis\u001b[38;5;241m=\u001b[39m\u001b[38;5;241m1\u001b[39m)\n",
      "File \u001b[0;32m~/anaconda3/lib/python3.11/site-packages/pandas/core/frame.py:3893\u001b[0m, in \u001b[0;36mDataFrame.__getitem__\u001b[0;34m(self, key)\u001b[0m\n\u001b[1;32m   3891\u001b[0m \u001b[38;5;28;01mif\u001b[39;00m \u001b[38;5;28mself\u001b[39m\u001b[38;5;241m.\u001b[39mcolumns\u001b[38;5;241m.\u001b[39mnlevels \u001b[38;5;241m>\u001b[39m \u001b[38;5;241m1\u001b[39m:\n\u001b[1;32m   3892\u001b[0m     \u001b[38;5;28;01mreturn\u001b[39;00m \u001b[38;5;28mself\u001b[39m\u001b[38;5;241m.\u001b[39m_getitem_multilevel(key)\n\u001b[0;32m-> 3893\u001b[0m indexer \u001b[38;5;241m=\u001b[39m \u001b[38;5;28mself\u001b[39m\u001b[38;5;241m.\u001b[39mcolumns\u001b[38;5;241m.\u001b[39mget_loc(key)\n\u001b[1;32m   3894\u001b[0m \u001b[38;5;28;01mif\u001b[39;00m is_integer(indexer):\n\u001b[1;32m   3895\u001b[0m     indexer \u001b[38;5;241m=\u001b[39m [indexer]\n",
      "File \u001b[0;32m~/anaconda3/lib/python3.11/site-packages/pandas/core/indexes/base.py:3798\u001b[0m, in \u001b[0;36mIndex.get_loc\u001b[0;34m(self, key)\u001b[0m\n\u001b[1;32m   3793\u001b[0m     \u001b[38;5;28;01mif\u001b[39;00m \u001b[38;5;28misinstance\u001b[39m(casted_key, \u001b[38;5;28mslice\u001b[39m) \u001b[38;5;129;01mor\u001b[39;00m (\n\u001b[1;32m   3794\u001b[0m         \u001b[38;5;28misinstance\u001b[39m(casted_key, abc\u001b[38;5;241m.\u001b[39mIterable)\n\u001b[1;32m   3795\u001b[0m         \u001b[38;5;129;01mand\u001b[39;00m \u001b[38;5;28many\u001b[39m(\u001b[38;5;28misinstance\u001b[39m(x, \u001b[38;5;28mslice\u001b[39m) \u001b[38;5;28;01mfor\u001b[39;00m x \u001b[38;5;129;01min\u001b[39;00m casted_key)\n\u001b[1;32m   3796\u001b[0m     ):\n\u001b[1;32m   3797\u001b[0m         \u001b[38;5;28;01mraise\u001b[39;00m InvalidIndexError(key)\n\u001b[0;32m-> 3798\u001b[0m     \u001b[38;5;28;01mraise\u001b[39;00m \u001b[38;5;167;01mKeyError\u001b[39;00m(key) \u001b[38;5;28;01mfrom\u001b[39;00m \u001b[38;5;21;01merr\u001b[39;00m\n\u001b[1;32m   3799\u001b[0m \u001b[38;5;28;01mexcept\u001b[39;00m \u001b[38;5;167;01mTypeError\u001b[39;00m:\n\u001b[1;32m   3800\u001b[0m     \u001b[38;5;66;03m# If we have a listlike key, _check_indexing_error will raise\u001b[39;00m\n\u001b[1;32m   3801\u001b[0m     \u001b[38;5;66;03m#  InvalidIndexError. Otherwise we fall through and re-raise\u001b[39;00m\n\u001b[1;32m   3802\u001b[0m     \u001b[38;5;66;03m#  the TypeError.\u001b[39;00m\n\u001b[1;32m   3803\u001b[0m     \u001b[38;5;28mself\u001b[39m\u001b[38;5;241m.\u001b[39m_check_indexing_error(key)\n",
      "\u001b[0;31mKeyError\u001b[0m: 'input_dob_x'"
     ]
    }
   ],
   "source": [
    "from datetime import datetime\n",
    "\n",
    "# function to validate the format of the date\n",
    "def is_valid_date(date_str):\n",
    "    if date_str:\n",
    "        try:\n",
    "            datetime.strptime(date_str, \"%Y-%m-%d\")\n",
    "            return 0\n",
    "        except ValueError as e:\n",
    "            print(f\"Invalid date format: {date_str} - Error: {e}\")\n",
    "            return 1\n",
    "    return 1\n",
    "\n",
    "#Function to compare dates\n",
    "def compare_dates(a):\n",
    "    \n",
    "    dob_x = a['input_dob_x']\n",
    "    dob_y = a['input_dob_y']\n",
    "    \n",
    "    if dob_x and dob_y:\n",
    "        \n",
    "        try:\n",
    "            date_x = datetime.strptime(dob_x, \"%Y-%m-%d\")\n",
    "            date_y = datetime.strptime(dob_y, \"%Y-%m-%d\")\n",
    "            \n",
    "            if date_x == date_y:\n",
    "                return 1.0\n",
    "            elif date_x.year == date_y.year and date_x.day == date_y.month and date_x.month == date_y.day:\n",
    "                return 0.5\n",
    "        except (ValueError, TypeError):\n",
    "            pass\n",
    "    \n",
    "    return 0.0\n",
    "\n",
    "\n",
    "# Apply the function to each column\n",
    "df['dob_x_nul'] = df['input_dob_x'].apply(is_valid_date)\n",
    "df['dob_y_nul'] = df['input_dob_y'].apply(is_valid_date)\n",
    "df['dob_match'] = df.apply(compare_dates, axis=1)\n",
    "\n",
    "print(df)"
   ]
  },
  {
   "cell_type": "markdown",
   "metadata": {},
   "source": [
    "### Validating if Date is of correct format"
   ]
  },
  {
   "cell_type": "code",
   "execution_count": 25,
   "metadata": {},
   "outputs": [
    {
     "name": "stdout",
     "output_type": "stream",
     "text": [
      "Testing valid dates:\n",
      "All dates in df_valid are in correct format.\n",
      "\n",
      "Testing invalid date format:\n",
      "Dates in df_invalid_format are not in correct format.\n",
      "\n",
      "Testing invalid date:\n",
      "Dates in df_invalid_date are not in correct format.\n"
     ]
    }
   ],
   "source": [
    "#TESTTTTTTT\n",
    "\n",
    "# Case 1: Valid dates\n",
    "data_valid = [[\"2024-06-20\", \"2024-06-20\"], [\"2024-06-21\", \"2024-06-22\"], [\"2024-06-23\", \"2024-06-23\"]]\n",
    "df_valid = pd.DataFrame(data_valid, columns=[\"date1\", \"date2\"])\n",
    "\n",
    "# Case 2: Invalid date format (with a non-matching format)\n",
    "data_invalid_format = [[\"2024-06-20\", \"2024-06-20\"], [\"2024-06-21\", \"2024-06-22\"], [\"2024-06-23\", \"2024-06-23\"]]\n",
    "df_invalid_format = pd.DataFrame(data_invalid_format, columns=[\"date1\", \"date2\"])\n",
    "\n",
    "# Case 3: Invalid date (such as February 30th)\n",
    "data_invalid_date = [[\"2024-06-20\", \"2024-06-20\"], [\"2024-06-21\", \"2024-06-22\"], [\"2024-06-30\", \"2024-06-31\"]]\n",
    "df_invalid_date = pd.DataFrame(data_invalid_date, columns=[\"date1\", \"date2\"])\n",
    "\n",
    "# Function testing\n",
    "print(\"Testing valid dates:\")\n",
    "if correct_format(df_valid):\n",
    "    print(\"All dates in df_valid are in correct format.\")\n",
    "else:\n",
    "    print(\"Dates in df_valid are not in correct format.\")\n",
    "\n",
    "print(\"\\nTesting invalid date format:\")\n",
    "if correct_format(df_invalid_format):\n",
    "    print(\"All dates in df_invalid_format are in correct format.\")\n",
    "else:\n",
    "    print(\"Dates in df_invalid_format are not in correct format.\")\n",
    "\n",
    "print(\"\\nTesting invalid date:\")\n",
    "if correct_format(df_invalid_date):\n",
    "    print(\"All dates in df_invalid_date are in correct format.\")\n",
    "else:\n",
    "    print(\"Dates in df_invalid_date are not in correct format.\")"
   ]
  }
 ],
 "metadata": {
  "kernelspec": {
   "display_name": "Python 3 (ipykernel)",
   "language": "python",
   "name": "python3"
  },
  "language_info": {
   "codemirror_mode": {
    "name": "ipython",
    "version": 3
   },
   "file_extension": ".py",
   "mimetype": "text/x-python",
   "name": "python",
   "nbconvert_exporter": "python",
   "pygments_lexer": "ipython3",
   "version": "3.11.5"
  }
 },
 "nbformat": 4,
 "nbformat_minor": 2
}
