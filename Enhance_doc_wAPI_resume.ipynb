{
  "cells": [
    {
      "cell_type": "markdown",
      "metadata": {
        "id": "LbsBd2oheHJe"
      },
      "source": [
        "Workflow:\n",
        "    ---------\n",
        "    1. Extract text from the resume PDF.\n",
        "    2. Split the resume into logical sections.\n",
        "    3. Randomly select sections for enhancement.\n",
        "    4. Use an the openAI API key to enhance selected sections based on the job description.\n",
        "    5. Reconstruct the resume with enhanced sections.\n",
        "    6. Save the final resume text as a PDF!\n"
      ]
    },
    {
      "cell_type": "code",
      "execution_count": null,
      "metadata": {
        "colab": {
          "base_uri": "https://localhost:8080/"
        },
        "id": "y3g9219c829f",
        "outputId": "87f0d216-70a1-4fd7-f64d-be11e951b5cb",
        "collapsed": true
      },
      "outputs": [
        {
          "output_type": "stream",
          "name": "stdout",
          "text": [
            "Requirement already satisfied: pdfplumber in /usr/local/lib/python3.11/dist-packages (0.11.6)\n",
            "Requirement already satisfied: pdfminer.six==20250327 in /usr/local/lib/python3.11/dist-packages (from pdfplumber) (20250327)\n",
            "Requirement already satisfied: Pillow>=9.1 in /usr/local/lib/python3.11/dist-packages (from pdfplumber) (11.1.0)\n",
            "Requirement already satisfied: pypdfium2>=4.18.0 in /usr/local/lib/python3.11/dist-packages (from pdfplumber) (4.30.1)\n",
            "Requirement already satisfied: charset-normalizer>=2.0.0 in /usr/local/lib/python3.11/dist-packages (from pdfminer.six==20250327->pdfplumber) (3.4.1)\n",
            "Requirement already satisfied: cryptography>=36.0.0 in /usr/local/lib/python3.11/dist-packages (from pdfminer.six==20250327->pdfplumber) (43.0.3)\n",
            "Requirement already satisfied: cffi>=1.12 in /usr/local/lib/python3.11/dist-packages (from cryptography>=36.0.0->pdfminer.six==20250327->pdfplumber) (1.17.1)\n",
            "Requirement already satisfied: pycparser in /usr/local/lib/python3.11/dist-packages (from cffi>=1.12->cryptography>=36.0.0->pdfminer.six==20250327->pdfplumber) (2.22)\n",
            "Requirement already satisfied: openai in /usr/local/lib/python3.11/dist-packages (1.68.2)\n",
            "Requirement already satisfied: anyio<5,>=3.5.0 in /usr/local/lib/python3.11/dist-packages (from openai) (4.9.0)\n",
            "Requirement already satisfied: distro<2,>=1.7.0 in /usr/local/lib/python3.11/dist-packages (from openai) (1.9.0)\n",
            "Requirement already satisfied: httpx<1,>=0.23.0 in /usr/local/lib/python3.11/dist-packages (from openai) (0.28.1)\n",
            "Requirement already satisfied: jiter<1,>=0.4.0 in /usr/local/lib/python3.11/dist-packages (from openai) (0.9.0)\n",
            "Requirement already satisfied: pydantic<3,>=1.9.0 in /usr/local/lib/python3.11/dist-packages (from openai) (2.10.6)\n",
            "Requirement already satisfied: sniffio in /usr/local/lib/python3.11/dist-packages (from openai) (1.3.1)\n",
            "Requirement already satisfied: tqdm>4 in /usr/local/lib/python3.11/dist-packages (from openai) (4.67.1)\n",
            "Requirement already satisfied: typing-extensions<5,>=4.11 in /usr/local/lib/python3.11/dist-packages (from openai) (4.12.2)\n",
            "Requirement already satisfied: idna>=2.8 in /usr/local/lib/python3.11/dist-packages (from anyio<5,>=3.5.0->openai) (3.10)\n",
            "Requirement already satisfied: certifi in /usr/local/lib/python3.11/dist-packages (from httpx<1,>=0.23.0->openai) (2025.1.31)\n",
            "Requirement already satisfied: httpcore==1.* in /usr/local/lib/python3.11/dist-packages (from httpx<1,>=0.23.0->openai) (1.0.7)\n",
            "Requirement already satisfied: h11<0.15,>=0.13 in /usr/local/lib/python3.11/dist-packages (from httpcore==1.*->httpx<1,>=0.23.0->openai) (0.14.0)\n",
            "Requirement already satisfied: annotated-types>=0.6.0 in /usr/local/lib/python3.11/dist-packages (from pydantic<3,>=1.9.0->openai) (0.7.0)\n",
            "Requirement already satisfied: pydantic-core==2.27.2 in /usr/local/lib/python3.11/dist-packages (from pydantic<3,>=1.9.0->openai) (2.27.2)\n",
            "Requirement already satisfied: fpdf in /usr/local/lib/python3.11/dist-packages (1.7.2)\n"
          ]
        }
      ],
      "source": [
        "!pip install pdfplumber\n",
        "!pip install openai\n",
        "!pip install fpdf"
      ]
    },
    {
      "cell_type": "code",
      "execution_count": null,
      "metadata": {
        "colab": {
          "base_uri": "https://localhost:8080/"
        },
        "id": "gWRfP-e1XxLg",
        "outputId": "a1bb843f-68db-42bf-fe14-5bd5af435bb1",
        "collapsed": true
      },
      "outputs": [
        {
          "output_type": "stream",
          "name": "stdout",
          "text": [
            "\r0% [Working]\r            \rHit:1 https://developer.download.nvidia.com/compute/cuda/repos/ubuntu2204/x86_64  InRelease\n",
            "\r0% [Connecting to archive.ubuntu.com (185.125.190.83)] [Waiting for headers] [Connected to cloud.r-p\r                                                                                                    \rHit:2 http://security.ubuntu.com/ubuntu jammy-security InRelease\n",
            "Hit:3 https://cloud.r-project.org/bin/linux/ubuntu jammy-cran40/ InRelease\n",
            "Hit:4 http://archive.ubuntu.com/ubuntu jammy InRelease\n",
            "Hit:5 https://r2u.stat.illinois.edu/ubuntu jammy InRelease\n",
            "Hit:6 http://archive.ubuntu.com/ubuntu jammy-updates InRelease\n",
            "Hit:7 http://archive.ubuntu.com/ubuntu jammy-backports InRelease\n",
            "Hit:8 https://ppa.launchpadcontent.net/deadsnakes/ppa/ubuntu jammy InRelease\n",
            "Hit:9 https://ppa.launchpadcontent.net/graphics-drivers/ppa/ubuntu jammy InRelease\n",
            "Hit:10 https://ppa.launchpadcontent.net/ubuntugis/ppa/ubuntu jammy InRelease\n",
            "Reading package lists... Done\n",
            "W: Skipping acquire of configured file 'main/source/Sources' as repository 'https://r2u.stat.illinois.edu/ubuntu jammy InRelease' does not seem to provide it (sources.list entry misspelt?)\n",
            "Reading package lists... Done\n",
            "Building dependency tree... Done\n",
            "Reading state information... Done\n",
            "fonts-dejavu is already the newest version (2.37-2build1).\n",
            "0 upgraded, 0 newly installed, 0 to remove and 41 not upgraded.\n"
          ]
        }
      ],
      "source": [
        "!apt-get update && apt-get install -y fonts-dejavu\n"
      ]
    },
    {
      "cell_type": "code",
      "execution_count": null,
      "metadata": {
        "id": "XqHUFZbN7rjg"
      },
      "outputs": [],
      "source": [
        "import pdfplumber\n",
        "import random\n",
        "import openai\n",
        "from fpdf import FPDF\n",
        "import re\n",
        "import os\n",
        "import random\n",
        "from getpass import getpass\n",
        "\n"
      ]
    },
    {
      "cell_type": "markdown",
      "metadata": {
        "id": "AmtluZylffpO"
      },
      "source": [
        "Step 1: Job Description"
      ]
    },
    {
      "cell_type": "code",
      "execution_count": null,
      "metadata": {
        "id": "tnbrHxRp8ZWV"
      },
      "outputs": [],
      "source": [
        "# Define job descriptions\n",
        "job_description = [\n",
        "    \"\"\"Job Description 1:.NET Application Developer\n",
        "•\tRemote\n",
        "•\tFull Time\n",
        "•\tMid Level\n",
        "We are looking for a REMOTE .NET Application Developer to support our client based in Des Moines, Iowa\n",
        "US BASED CANDIDATES ONLY.\n",
        "This is a fully remote position.\n",
        "Who we are\n",
        "Founded in 2009 and headquartered in beautiful Miami, FL, TECKpert is a tech consulting and staff augmentation firm.  At TECKpert, we offer a contingent workforce built for any size digital transformation project. Experts in design, development, IT, analytics and marketing, provide innovative digital solutions to achieve success in our new economy. Our leaders identify the technical talent best suited to bolster our client’s capabilities, across all industries, including, healthcare, government, finance, legal, real estate, and startups.\n",
        "The project\n",
        "TECKpert seeks to hire a .NET Application Developer to support our client, a government agency based in Des Moines, IA.\n",
        "Job duties include, but are not limited to:\n",
        "•\tWorking with team on updating application requirements documentation; architecting and implementing improvements to data collection, validation, and reporting features across the application suite\n",
        "•\tRebuild legacy code in C#/.NET\n",
        "•\tWork on education mission-focused solutions supporting educational institutions and student wellbeing\n",
        "•\tWork with the latest .Net technologies and tools\n",
        "•\tWork with the project team to analyze and document requirements; and help to refine complex data validations using MS SQL\n",
        "•\tFull stack web development with hands on experience with back-end tools\n",
        "•\tIndependent work as well as collaborative work with the technical team and the close- knit team of business users/data analysts.\n",
        "•\t20% Business analysis meetings with stakeholders\n",
        "•\t30% Independent development work\n",
        "•\t30% Data refinement/SQL queries\n",
        "•\t20% Testing\n",
        "This opportunity is for a full-time, one year contract position with possible extensions with pay commensurate with experience up to $47.35/hour or $98,488 per year. Medical, dental, vision and life insurance available after 30 days of hire.\n",
        "Qualifications you need\n",
        "A successful possesses or provides the following:\n",
        "•\tBachelor’s degree in Computer Science or related field or relevant\n",
        "work experience\n",
        "•\tC# development Required 4 Years\n",
        "•\tExperience in .Net projects Required 4 Years\n",
        "•\tExperience with MSSQL Stored Procedures, SSIS Packages Required 4 Years\n",
        "•\tExperience in asp.net/MVC web development using C# Required 4 Years\n",
        "•\tExperince working with MSSQL Server Required 4 Years\n",
        "•\tHands on experience with VB.NET Required 4 Years\n",
        "•\tHands on experience with JavaScript and jQuery Required 4 Years\n",
        "•\tExperience working with stakeholders in a business analysis capacity\n",
        "•\tExperience with Visual Studio 2017, Visual Studio 2022, MS SQl Server\n",
        "•\tExperience with Linq,Html, CSS, Bootstrap, Bootswatch\n",
        "Working with us\n",
        "Working with TECKpert means more options. As new opportunities arise, you tell us what you think is a good fit for you. What industries interest you most? Do you prefer an on-location, 9-5? Or would you want a flexible schedule and remote work? We proudly offer a wide variety of roles. Many of our TECKperts enjoy coworking and skills training coupled with the stability of full-time employment. We believe TECKpert gives today's digital professionals an agile path to start and advance their career. All of our opportunities require at least 20 hours per week and can be one to twelve months in length. Choose the opportunity that matches your interest and desired cadence.\n",
        "\n",
        " \"\"\"]\n"
      ]
    },
    {
      "cell_type": "markdown",
      "metadata": {
        "id": "7IxJ1NhBfnbG"
      },
      "source": [
        "OpenAI key"
      ]
    },
    {
      "cell_type": "code",
      "execution_count": null,
      "metadata": {
        "colab": {
          "base_uri": "https://localhost:8080/"
        },
        "id": "7TRLxtxufEPh",
        "outputId": "73952d9d-983c-4b1f-881b-848dbad03e13"
      },
      "outputs": [
        {
          "name": "stdout",
          "output_type": "stream",
          "text": [
            "🔑 Enter your OpenAI API key: ··········\n"
          ]
        }
      ],
      "source": [
        "os.environ[\"OPENAI_API_KEY\"] = getpass(\"🔑 Enter your OpenAI API key: \")\n"
      ]
    },
    {
      "cell_type": "code",
      "execution_count": null,
      "metadata": {
        "id": "799N6nBPfO12"
      },
      "outputs": [],
      "source": [
        "client = openai.OpenAI(api_key=os.getenv(\"OPENAI_API_KEY\"))"
      ]
    },
    {
      "cell_type": "markdown",
      "metadata": {
        "id": "oug9PXZCfwJr"
      },
      "source": [
        "Step 2: define path\n",
        "\n",
        "TODO: Mount the drive"
      ]
    },
    {
      "cell_type": "code",
      "execution_count": null,
      "metadata": {
        "id": "uIE5niGA8UIp"
      },
      "outputs": [],
      "source": [
        "resume_pdf_path = \"59_resume_job1_authentic_0.pdf\""
      ]
    },
    {
      "cell_type": "code",
      "execution_count": null,
      "metadata": {
        "id": "DxdanGHT8fcI"
      },
      "outputs": [],
      "source": [
        "# Function to extract text from PDF\n",
        "def extract_text_from_pdf(pdf_path):\n",
        "    text = \"\"\n",
        "    with pdfplumber.open(pdf_path) as pdf:\n",
        "        for page in pdf.pages:\n",
        "            text += page.extract_text() + \"\\n\"\n",
        "    return text.strip()\n",
        "\n",
        "# extract_text_from_pdf(resume_pdf_path)"
      ]
    },
    {
      "cell_type": "code",
      "execution_count": null,
      "metadata": {
        "id": "GZ8YxpRP8uXg"
      },
      "outputs": [],
      "source": [
        "# def split_into_sections(text):\n",
        "#     # Use common resume section headers to split the text\n",
        "#     section_patterns = [\n",
        "#     r\"(Experience|Work Experience|Professional Experience|Employment History|Career Summary)\",\n",
        "#     r\"(Education|Academic Background)\",\n",
        "#     r\"(Skills|Technical Skills|Core Competencies|Technical Proficiencies)\",\n",
        "#     r\"(Projects|Personal Projects|Relevant Projects)\",\n",
        "#     r\"(Certifications|Licenses|Licensure)\",\n",
        "#     r\"(Summary|Professional Summary|Profile|Objective)\",\n",
        "#     r\"(Achievements|Accomplishments|Awards|Honors)\",\n",
        "#     r\"(Personal Information|Contact Information|Details)\",\n",
        "#     r\"(Publications|Research)\",\n",
        "#     r\"(Volunteer Experience|Volunteering|Community Service)\",\n",
        "#     r\"(Languages|Language Skills)\",\n",
        "#     r\"(Interests|Hobbies)\"\n",
        "#     r\"(References)\"\n",
        "#     ]\n",
        "#     sections = {}\n",
        "#     current_section = \"Header\"\n",
        "#     sections[current_section] = \"\"\n",
        "\n",
        "#     for line in text.split(\"\\n\"):\n",
        "#         line = line.strip()\n",
        "#         if not line:\n",
        "#             continue\n",
        "#         matched = False\n",
        "#         for pattern in section_patterns:\n",
        "#             if re.search(pattern, line, re.IGNORECASE):\n",
        "#                 current_section = line\n",
        "#                 sections[current_section] = \"\"\n",
        "#                 matched = True\n",
        "#                 break\n",
        "#         if not matched:\n",
        "#             sections[current_section] += line + \"\\n\"\n",
        "\n",
        "#     return sections\n",
        "\n",
        "#split_into_sections(extract_text_from_pdf(resume_pdf_path))\n"
      ]
    },
    {
      "cell_type": "code",
      "execution_count": null,
      "metadata": {
        "id": "qUHUvhz5gdDy"
      },
      "outputs": [],
      "source": [
        "def split_into_sections(text):\n",
        "    section_patterns = [\n",
        "        r\"(Experience|Work Experience|Professional Experience|Employment History|Career Summary)\",\n",
        "        r\"(Education|Academic Background)\",\n",
        "        r\"(Skills|Technical Skills|Core Competencies|Technical Proficiencies)\",\n",
        "        r\"(Projects|Personal Projects|Relevant Projects)\",\n",
        "        r\"(Certifications|Licenses|Licensure)\",\n",
        "        r\"(Summary|Professional Summary|Profile|Objective)\",\n",
        "        r\"(Achievements|Accomplishments|Awards|Honors)\",\n",
        "        r\"(Personal Information|Contact Information|Details)\",\n",
        "        r\"(Publications|Research)\",\n",
        "        r\"(Volunteer Experience|Volunteering|Community Service)\",\n",
        "        r\"(Languages|Language Skills)\",\n",
        "        r\"(Interests|Hobbies)\",\n",
        "        r\"(References)\"\n",
        "    ]\n",
        "\n",
        "    sections = {}\n",
        "    current_section = \"Header\"\n",
        "    sections[current_section] = \"\"\n",
        "\n",
        "    for line in text.split(\"\\n\"):\n",
        "        line = line.strip()\n",
        "        if not line:\n",
        "            continue\n",
        "\n",
        "        matched = False\n",
        "\n",
        "        # Check against known section patterns\n",
        "        for pattern in section_patterns:\n",
        "            if re.search(pattern, line, re.IGNORECASE):\n",
        "                current_section = line\n",
        "                sections[current_section] = \"\"\n",
        "                matched = True\n",
        "                break\n",
        "\n",
        "        # NEW: Check if line looks like an ALL CAPS section heading\n",
        "        if not matched and line.isupper() and 1 <= len(line.split()) <= 4:\n",
        "            current_section = line\n",
        "            sections[current_section] = \"\"\n",
        "            matched = True\n",
        "\n",
        "        # If no new section found, append to current\n",
        "        if not matched:\n",
        "            sections[current_section] += line + \"\\n\"\n",
        "\n",
        "    return sections\n"
      ]
    },
    {
      "cell_type": "code",
      "execution_count": null,
      "metadata": {
        "id": "AW8RAPH79HkC"
      },
      "outputs": [],
      "source": [
        "# sections = split_into_sections(extract_text_from_pdf(resume_pdf_path))\n",
        "\n",
        "# # Print the number of sections and their names\n",
        "# print(f\"Total Sections Extracted: {len(sections)}\")\n",
        "# print(\"Extracted Sections:\")\n",
        "# for section in sections.keys():\n",
        "#     print(f\"- {section}\")\n"
      ]
    },
    {
      "cell_type": "code",
      "execution_count": null,
      "metadata": {
        "id": "_w8wWQYh-gjE"
      },
      "outputs": [],
      "source": [
        "# # Function to enhance selected sections\n",
        "# def enhance_selected_sections(selected_sections, job_description):\n",
        "#     enhanced_sections = {}\n",
        "#     for section, text in selected_sections.items():\n",
        "#         enhanced_sections[section] = enhance_section(text, job_description)\n",
        "#     return enhanced_sections\n"
      ]
    },
    {
      "cell_type": "code",
      "execution_count": null,
      "metadata": {
        "id": "qCHK0wUM_H6S"
      },
      "outputs": [],
      "source": [
        "# Function to randomly select sections\n",
        "def select_random_sections(sections):\n",
        "    section_keys = list(sections.keys())\n",
        "    num_sections = random.choice([1, 2])  # Choose 1, 2, or all sections randomly\n",
        "    selected_keys = random.sample(section_keys, num_sections)  # Select random sections\n",
        "    selected_sections = {key: sections[key] for key in selected_keys}\n",
        "\n",
        "    # Print selected sections\n",
        "    print(f\" Selected Sections for Enhancement ({num_sections} total):\")\n",
        "    for section in selected_keys:\n",
        "        print(f\"- {section}\")\n",
        "\n",
        "    return selected_sections\n",
        "# select_random_sections(split_into_sections(extract_text_from_pdf(resume_pdf_path)))\n"
      ]
    },
    {
      "cell_type": "code",
      "execution_count": null,
      "metadata": {
        "id": "MFHn8xmlbB8c"
      },
      "outputs": [],
      "source": [
        "### SAME FUNCTION AS ABOVE BUT SETS MAX_SECTIONS TO 2\n",
        "# def select_random_sections(sections, max_sections=2):\n",
        "#     section_keys = list(sections.keys())\n",
        "#     num_sections = min(max_sections, len(section_keys))  # cap to available sections\n",
        "#     selected_keys = random.sample(section_keys, num_sections)\n",
        "#     selected_sections = {key: sections[key] for key in selected_keys}\n",
        "\n",
        "#     print(f\"\\n Selected Sections for Enhancement ({num_sections} total):\")\n",
        "#     for section in selected_keys:\n",
        "#         print(f\"- {section}\")\n",
        "\n",
        "#     return selected_sections"
      ]
    },
    {
      "cell_type": "code",
      "execution_count": null,
      "metadata": {
        "id": "tLVpUyYC-J5R"
      },
      "outputs": [],
      "source": [
        "def enhance_section(section_text, job_description):\n",
        "    prompt = f\"\"\"\n",
        "    I am applying for the following job:\n",
        "\n",
        "    {job_description}\n",
        "\n",
        "    Here is a section of my resume:\n",
        "    \"{section_text}\"\n",
        "\n",
        "    Please enhance and optimize this section to make it more compelling and relevant to this job. Keep the improved version professional and concise.\n",
        "    \"\"\"\n",
        "\n",
        "    response = client.chat.completions.create(\n",
        "        model=\"gpt-4\",\n",
        "        messages=[{\"role\": \"user\", \"content\": prompt}]\n",
        "    )\n",
        "\n",
        "    return response.choices[0].message.content\n",
        "\n",
        "# enhance_section(extract_text_from_pdf(resume_pdf_path), job_description)"
      ]
    },
    {
      "cell_type": "code",
      "execution_count": null,
      "metadata": {
        "id": "nd3oKtGpveJN"
      },
      "outputs": [],
      "source": [
        "### ENHANCES SECTIONS AND AT THE SAME TIME ADDS PLACEHOLDERS\n",
        "# def enhance_section(section_text, job_description):\n",
        "#     prompt = f\"\"\"\n",
        "#     I am applying for the following job:\n",
        "\n",
        "#     {job_description}\n",
        "\n",
        "#     Here is a section of my resume:\n",
        "#     \"{section_text}\"\n",
        "\n",
        "#     Please perform the following enhancements and anonymizations:\n",
        "#     1. Enhance and optimize the section to make it more compelling, clear, and relevant to this job.\n",
        "#     2. Maintain a professional and concise tone.\n",
        "#     3. Anonymize the content by replacing any personal information with placeholders, including:\n",
        "#        - Full names → <NAME>\n",
        "#        - Emails → <EMAIL>\n",
        "#        - Phone numbers → <PHONE>\n",
        "#        - Companies → <COMPANY>\n",
        "#        - Universities → <INSTITUTION>\n",
        "#        - Addresses → <ADDRESS>\n",
        "#        - URLs/LinkedIn → <LINK>\n",
        "\n",
        "#     Output only the enhanced and anonymized version.\n",
        "#     \"\"\"\n",
        "\n",
        "#     response = client.chat.completions.create(\n",
        "#         model=\"gpt-4\",\n",
        "#         messages=[{\"role\": \"user\", \"content\": prompt}]\n",
        "#     )\n",
        "\n",
        "#     return response.choices[0].message.content\n"
      ]
    },
    {
      "cell_type": "code",
      "execution_count": null,
      "metadata": {
        "id": "j1_FQvOK-2J7"
      },
      "outputs": [],
      "source": [
        "# Function to enhance selected sections\n",
        "def enhance_selected_sections(selected_sections, job_description):\n",
        "    enhanced_sections = {}\n",
        "    print(\"\\n🔹 Enhancing the following sections:\")\n",
        "\n",
        "    for section, text in selected_sections.items():\n",
        "        print(f\"✨ Enhancing: {section}\")\n",
        "        enhanced_sections[section] = enhance_section(text, job_description)\n",
        "\n",
        "    return enhanced_sections\n",
        "\n",
        "# enhance_selected_sections(select_random_sections(split_into_sections(extract_text_from_pdf(resume_pdf_path))), job_description)\n"
      ]
    },
    {
      "cell_type": "code",
      "execution_count": null,
      "metadata": {
        "id": "wjc3hU6UA-rI"
      },
      "outputs": [],
      "source": [
        "### ONLY FOR DEMONSTRATION PURPOSES\n",
        "# def show_before_after(selected_sections, enhanced_sections):\n",
        "#     print(\"\\n🔹 Comparison: Before and After Enhancement 🔹\\n\")\n",
        "\n",
        "#     for section in selected_sections.keys():\n",
        "#         print(f\"📝 **Section: {section}**\\n\")\n",
        "\n",
        "#         print(\"🔹 **Before Enhancement:**\")\n",
        "#         print(selected_sections[section][:500] + \"...\")\n",
        "\n",
        "#         if section in enhanced_sections:\n",
        "#             print(\"\\n✨ **After Enhancement:**\")\n",
        "#             print(enhanced_sections[section][:700] + \"...\")\n",
        "#         else:\n",
        "#             print(\"\\n **After Enhancement:** Section not found!\")\n",
        "\n",
        "#         print(\"\\n\" + \"=\"*80 + \"\\n\")"
      ]
    },
    {
      "cell_type": "code",
      "execution_count": null,
      "metadata": {
        "id": "gh-bk_Bff5Sa"
      },
      "outputs": [],
      "source": [
        "def reconstruct_resume(original_sections, enhanced_sections):\n",
        "    \"\"\"Combine enhanced and original sections into a clean resume string.\"\"\"\n",
        "    parts = []\n",
        "    for section, text in original_sections.items():\n",
        "        header = f\"\\n{section.strip()}\\n\" + \"-\" * len(section.strip())\n",
        "        body = enhanced_sections.get(section, text).strip()\n",
        "        parts.append(f\"{header}\\n{body}\")\n",
        "    return \"\\n\\n\".join(parts)\n"
      ]
    },
    {
      "cell_type": "code",
      "execution_count": null,
      "metadata": {
        "id": "6aLJnpyxf8Ma"
      },
      "outputs": [],
      "source": [
        "from fpdf import FPDF\n",
        "import os\n",
        "\n",
        "def save_text_as_pdf(text, output_pdf_path):\n",
        "    \"\"\"Save the resume text to a clean, Unicode-compatible PDF.\"\"\"\n",
        "    pdf = FPDF()\n",
        "    pdf.add_page()\n",
        "    pdf.set_auto_page_break(auto=True, margin=15)\n",
        "\n",
        "    # Download DejaVuSans if not present\n",
        "    font_path = \"/usr/share/fonts/truetype/dejavu/DejaVuSans.ttf\"\n",
        "    if not os.path.exists(font_path):\n",
        "        !apt-get update && apt-get install -y fonts-dejavu\n",
        "\n",
        "    pdf.add_font(\"DejaVu\", \"\", font_path, uni=True)\n",
        "    pdf.set_font(\"DejaVu\", \"\", 12)\n",
        "\n",
        "    for paragraph in text.split(\"\\n\\n\"):\n",
        "        for line in paragraph.strip().split(\"\\n\"):\n",
        "            pdf.multi_cell(0, 10, line.strip())\n",
        "        pdf.ln(5)\n",
        "\n",
        "    pdf.output(output_pdf_path)\n"
      ]
    },
    {
      "cell_type": "code",
      "execution_count": null,
      "metadata": {
        "id": "-2ThlzS9--WX"
      },
      "outputs": [],
      "source": [
        "# # extract sections\n",
        "# resume_text = extract_text_from_pdf(resume_pdf_path)\n",
        "\n",
        "# # Split into sections\n",
        "# resume_sections = split_into_sections(resume_text)\n",
        "\n",
        "# # Randomly select sections\n",
        "# selected_sections = select_random_sections(resume_sections)\n",
        "\n",
        "# # Enhance sections with OpenAI\n",
        "# enhanced_sections = enhance_selected_sections(selected_sections, job_description)\n",
        "\n",
        "# # Reconstruct final resume\n",
        "# final_resume_text = reconstruct_resume(resume_sections, enhanced_sections)\n",
        "\n",
        "# # Save enhanced resume as PDF\n",
        "# enhanced_resume_pdf_path = \"enhanced_resume_update.pdf\"\n",
        "# save_text_as_pdf(final_resume_text, enhanced_resume_pdf_path)\n",
        "\n",
        "# # Provide download link for the user in Colab\n",
        "# # files.download(enhanced_resume_pdf_path)\n",
        "\n",
        "# print(f\"✅ Enhanced resume saved and ready for download: {enhanced_resume_pdf_path}\")"
      ]
    },
    {
      "cell_type": "code",
      "execution_count": null,
      "metadata": {
        "id": "hauQKi4aiikR"
      },
      "outputs": [],
      "source": [
        "def process_and_enhance_resume(resume_pdf_path, job_description, output_pdf_path=\"enhanced_resume.pdf\"):\n",
        "    # Step 1: Extract text\n",
        "    resume_text = extract_text_from_pdf(resume_pdf_path)\n",
        "\n",
        "    # Step 2: Split into sections\n",
        "    resume_sections = split_into_sections(resume_text)\n",
        "\n",
        "    # Step 3: Select sections randomly\n",
        "    selected_sections = select_random_sections(resume_sections)\n",
        "\n",
        "    # Step 4: Enhance selected sections\n",
        "    enhanced_sections = enhance_selected_sections(selected_sections, job_description)\n",
        "\n",
        "    # Step 5: Reconstruct final resume\n",
        "    final_resume_text = reconstruct_resume(resume_sections, enhanced_sections)\n",
        "\n",
        "    # Step 6: Save to PDF\n",
        "    save_text_as_pdf(final_resume_text, output_pdf_path)\n",
        "\n",
        "    print(f\"✅ Enhanced resume saved and ready for download: {output_pdf_path}\")\n",
        "    # return output_pdf_path\n"
      ]
    },
    {
      "cell_type": "code",
      "execution_count": null,
      "metadata": {
        "colab": {
          "base_uri": "https://localhost:8080/",
          "height": 17
        },
        "id": "cDp8jDRgiJIA",
        "outputId": "fa05fbe9-e972-4080-b522-a0d9fb8ae50f"
      },
      "outputs": [
        {
          "data": {
            "application/javascript": [
              "\n",
              "    async function download(id, filename, size) {\n",
              "      if (!google.colab.kernel.accessAllowed) {\n",
              "        return;\n",
              "      }\n",
              "      const div = document.createElement('div');\n",
              "      const label = document.createElement('label');\n",
              "      label.textContent = `Downloading \"${filename}\": `;\n",
              "      div.appendChild(label);\n",
              "      const progress = document.createElement('progress');\n",
              "      progress.max = size;\n",
              "      div.appendChild(progress);\n",
              "      document.body.appendChild(div);\n",
              "\n",
              "      const buffers = [];\n",
              "      let downloaded = 0;\n",
              "\n",
              "      const channel = await google.colab.kernel.comms.open(id);\n",
              "      // Send a message to notify the kernel that we're ready.\n",
              "      channel.send({})\n",
              "\n",
              "      for await (const message of channel.messages) {\n",
              "        // Send a message to notify the kernel that we're ready.\n",
              "        channel.send({})\n",
              "        if (message.buffers) {\n",
              "          for (const buffer of message.buffers) {\n",
              "            buffers.push(buffer);\n",
              "            downloaded += buffer.byteLength;\n",
              "            progress.value = downloaded;\n",
              "          }\n",
              "        }\n",
              "      }\n",
              "      const blob = new Blob(buffers, {type: 'application/binary'});\n",
              "      const a = document.createElement('a');\n",
              "      a.href = window.URL.createObjectURL(blob);\n",
              "      a.download = filename;\n",
              "      div.appendChild(a);\n",
              "      a.click();\n",
              "      div.remove();\n",
              "    }\n",
              "  "
            ],
            "text/plain": [
              "<IPython.core.display.Javascript object>"
            ]
          },
          "metadata": {},
          "output_type": "display_data"
        },
        {
          "data": {
            "application/javascript": [
              "download(\"download_651e5ec5-65d5-4828-ae63-8f9121e6e2e3\", \"enhanced_resume_update.pdf\", 21731)"
            ],
            "text/plain": [
              "<IPython.core.display.Javascript object>"
            ]
          },
          "metadata": {},
          "output_type": "display_data"
        }
      ],
      "source": [
        "from google.colab import files\n",
        "files.download(enhanced_resume_pdf_path)"
      ]
    },
    {
      "cell_type": "code",
      "execution_count": null,
      "metadata": {
        "colab": {
          "base_uri": "https://localhost:8080/"
        },
        "id": "q_TGjKur_jOm",
        "outputId": "54b1b5bc-af66-4aaf-93c7-cecb1438299e"
      },
      "outputs": [
        {
          "name": "stdout",
          "output_type": "stream",
          "text": [
            "Mounted at /content/drive\n"
          ]
        }
      ],
      "source": [
        "from google.colab import drive\n",
        "drive.mount('/content/drive')\n"
      ]
    },
    {
      "cell_type": "code",
      "execution_count": null,
      "metadata": {
        "id": "PWUFyQbHBRVs"
      },
      "outputs": [],
      "source": [
        "import os\n",
        "\n",
        "# Set your directories\n",
        "input_dir = \"/content/drive/My Drive/CAPSTONE/authentic_resumes/filtered_2_page_resumes\"\n",
        "output_dir = \"/content/drive/My Drive/CAPSTONE/authentic_resumes/enhanced_filtered_2_page_resumes\"\n",
        "\n",
        "# Ensure the output directory exists\n",
        "os.makedirs(output_dir, exist_ok=True)"
      ]
    },
    {
      "cell_type": "code",
      "execution_count": null,
      "metadata": {
        "id": "StFkeo2Z-FAF"
      },
      "outputs": [],
      "source": [
        "# TO RUN ALL OF THEM, HOWEVER IT IS BETTER TO RUN THE TEST AND FINAL ONE BELOW TO ENSURE EVERYTHING IS RUNNING SMOOTHLY\n",
        "# Loop through all PDF files in the input directory\n",
        "# for filename in os.listdir(input_dir):\n",
        "#     if filename.lower().endswith(\".pdf\"):\n",
        "#         input_path = os.path.join(input_dir, filename)\n",
        "#         output_filename = filename.replace(\".pdf\", \"_enhanced.pdf\")\n",
        "#         output_path = os.path.join(output_dir, output_filename)\n",
        "\n",
        "#         try:\n",
        "#             print(f\"\\n🔄 Starting: {filename}\")\n",
        "#             process_and_enhance_resume(input_path, job_description, output_path)\n",
        "#             print(f\"✅ Finished: {output_filename}\")\n",
        "#         except Exception as e:\n",
        "#             print(f\"❌ Failed to process {filename}: {e}\")\n",
        "\n"
      ]
    },
    {
      "cell_type": "code",
      "execution_count": null,
      "metadata": {
        "id": "_AqQV8bxA6WC"
      },
      "outputs": [],
      "source": [
        "pdf_files = [f for f in os.listdir(input_dir) if f.lower().endswith(\".pdf\")]"
      ]
    },
    {
      "cell_type": "code",
      "execution_count": null,
      "metadata": {
        "id": "BhSuavBmB7Ui"
      },
      "outputs": [],
      "source": [
        "# First 5 already processed\n",
        "test_files = pdf_files[:5]\n",
        "\n",
        "# Next 5 for further testing\n",
        "more_test_files = pdf_files[5:10]\n",
        "\n",
        "# Remaining files for full batch later\n",
        "remaining_files = pdf_files[10:]\n",
        "\n"
      ]
    },
    {
      "cell_type": "code",
      "execution_count": null,
      "metadata": {
        "colab": {
          "base_uri": "https://localhost:8080/"
        },
        "id": "5eMWiGfwB-Jt",
        "outputId": "ed7dd16c-1938-404c-d14a-38e6ec75f653"
      },
      "outputs": [
        {
          "name": "stderr",
          "output_type": "stream",
          "text": [
            "WARNING:pdfminer.pdfpage:CropBox missing from /Page, defaulting to MediaBox\n",
            "WARNING:pdfminer.pdfpage:CropBox missing from /Page, defaulting to MediaBox\n"
          ]
        },
        {
          "name": "stdout",
          "output_type": "stream",
          "text": [
            "TEST RUN (first 5 resumes):\n",
            "\n",
            "🔄 Processing (TEST): 118_resume_job4_authentic_0.pdf\n"
          ]
        },
        {
          "name": "stderr",
          "output_type": "stream",
          "text": [
            "WARNING:pdfminer.pdfpage:CropBox missing from /Page, defaulting to MediaBox\n",
            "WARNING:pdfminer.pdfpage:CropBox missing from /Page, defaulting to MediaBox\n"
          ]
        },
        {
          "name": "stdout",
          "output_type": "stream",
          "text": [
            " Selected Sections for Enhancement (2 total):\n",
            "- digital transformation projects, excels at planning, managing, and executing multi-channel marketing and\n",
            "- call of duty and utilizing excellent critical thinking and problem-solving skills to quickly evaluate issues and\n",
            "\n",
            "🔹 Enhancing the following sections:\n",
            "✨ Enhancing: digital transformation projects, excels at planning, managing, and executing multi-channel marketing and\n",
            "✨ Enhancing: call of duty and utilizing excellent critical thinking and problem-solving skills to quickly evaluate issues and\n"
          ]
        },
        {
          "name": "stderr",
          "output_type": "stream",
          "text": [
            "WARNING:pdfminer.pdfpage:CropBox missing from /Page, defaulting to MediaBox\n",
            "WARNING:pdfminer.pdfpage:CropBox missing from /Page, defaulting to MediaBox\n"
          ]
        },
        {
          "name": "stdout",
          "output_type": "stream",
          "text": [
            "✅ Enhanced resume saved and ready for download: /content/drive/My Drive/CAPSTONE/authentic_resumes/enhanced_filtered_2_page_resumes/118_resume_job4_authentic_0_enhanced.pdf\n",
            "✅ Test Complete: 118_resume_job4_authentic_0_enhanced.pdf\n",
            "\n",
            "🔄 Processing (TEST): 136_resume_job3_authentic_0.pdf\n"
          ]
        },
        {
          "name": "stderr",
          "output_type": "stream",
          "text": [
            "WARNING:pdfminer.pdfpage:CropBox missing from /Page, defaulting to MediaBox\n",
            "WARNING:pdfminer.pdfpage:CropBox missing from /Page, defaulting to MediaBox\n"
          ]
        },
        {
          "name": "stdout",
          "output_type": "stream",
          "text": [
            " Selected Sections for Enhancement (2 total):\n",
            "- DeveloperandAdvancedGraduateCertificateinArtificialIntelligence.Fluentinmultipleprogramminglanguagesandframeworks.\n",
            "- Summary\n",
            "\n",
            "🔹 Enhancing the following sections:\n",
            "✨ Enhancing: DeveloperandAdvancedGraduateCertificateinArtificialIntelligence.Fluentinmultipleprogramminglanguagesandframeworks.\n",
            "✨ Enhancing: Summary\n"
          ]
        },
        {
          "name": "stderr",
          "output_type": "stream",
          "text": [
            "WARNING:pdfminer.pdfpage:CropBox missing from /Page, defaulting to MediaBox\n",
            "WARNING:pdfminer.pdfpage:CropBox missing from /Page, defaulting to MediaBox\n"
          ]
        },
        {
          "name": "stdout",
          "output_type": "stream",
          "text": [
            "✅ Enhanced resume saved and ready for download: /content/drive/My Drive/CAPSTONE/authentic_resumes/enhanced_filtered_2_page_resumes/136_resume_job3_authentic_0_enhanced.pdf\n",
            "✅ Test Complete: 136_resume_job3_authentic_0_enhanced.pdf\n",
            "\n",
            "🔄 Processing (TEST): 78_resume_job4_authentic_0.pdf\n"
          ]
        },
        {
          "name": "stderr",
          "output_type": "stream",
          "text": [
            "WARNING:pdfminer.pdfpage:CropBox missing from /Page, defaulting to MediaBox\n",
            "WARNING:pdfminer.pdfpage:CropBox missing from /Page, defaulting to MediaBox\n"
          ]
        },
        {
          "name": "stdout",
          "output_type": "stream",
          "text": [
            " Selected Sections for Enhancement (2 total):\n",
            "- CERTIFICATIONS AND TRAININGS\n",
            "- EDUCATION\n",
            "\n",
            "🔹 Enhancing the following sections:\n",
            "✨ Enhancing: CERTIFICATIONS AND TRAININGS\n",
            "✨ Enhancing: EDUCATION\n"
          ]
        },
        {
          "name": "stderr",
          "output_type": "stream",
          "text": [
            "WARNING:pdfminer.pdfpage:CropBox missing from /Page, defaulting to MediaBox\n",
            "WARNING:pdfminer.pdfpage:CropBox missing from /Page, defaulting to MediaBox\n"
          ]
        },
        {
          "name": "stdout",
          "output_type": "stream",
          "text": [
            "✅ Enhanced resume saved and ready for download: /content/drive/My Drive/CAPSTONE/authentic_resumes/enhanced_filtered_2_page_resumes/78_resume_job4_authentic_0_enhanced.pdf\n",
            "✅ Test Complete: 78_resume_job4_authentic_0_enhanced.pdf\n",
            "\n",
            "🔄 Processing (TEST): 121_resume_job4_authentic_0.pdf\n"
          ]
        },
        {
          "name": "stderr",
          "output_type": "stream",
          "text": [
            "WARNING:pdfminer.pdfpage:CropBox missing from /Page, defaulting to MediaBox\n",
            "WARNING:pdfminer.pdfpage:CropBox missing from /Page, defaulting to MediaBox\n"
          ]
        },
        {
          "name": "stdout",
          "output_type": "stream",
          "text": [
            " Selected Sections for Enhancement (3 total):\n",
            "- & 2016, and Mac OS/ iOS system experience.\n",
            "- Header\n",
            "- Information Technology professional with over a decade of experience in project management and customer\n",
            "\n",
            "🔹 Enhancing the following sections:\n",
            "✨ Enhancing: & 2016, and Mac OS/ iOS system experience.\n",
            "✨ Enhancing: Header\n",
            "✨ Enhancing: Information Technology professional with over a decade of experience in project management and customer\n",
            "✅ Enhanced resume saved and ready for download: /content/drive/My Drive/CAPSTONE/authentic_resumes/enhanced_filtered_2_page_resumes/121_resume_job4_authentic_0_enhanced.pdf\n",
            "✅ Test Complete: 121_resume_job4_authentic_0_enhanced.pdf\n",
            "\n",
            "🔄 Processing (TEST): 79_resume_job4_authentic_0.pdf\n",
            " Selected Sections for Enhancement (1 total):\n",
            "- • Collaborating with partners across various skillsets to ensure successful release\n",
            "\n",
            "🔹 Enhancing the following sections:\n",
            "✨ Enhancing: • Collaborating with partners across various skillsets to ensure successful release\n",
            "✅ Enhanced resume saved and ready for download: /content/drive/My Drive/CAPSTONE/authentic_resumes/enhanced_filtered_2_page_resumes/79_resume_job4_authentic_0_enhanced.pdf\n",
            "✅ Test Complete: 79_resume_job4_authentic_0_enhanced.pdf\n"
          ]
        }
      ],
      "source": [
        "print(\"TEST RUN (first 5 resumes):\")\n",
        "for filename in test_files:\n",
        "    input_path = os.path.join(input_dir, filename)\n",
        "    output_filename = filename.replace(\".pdf\", \"_enhanced.pdf\")\n",
        "    output_path = os.path.join(output_dir, output_filename)\n",
        "\n",
        "    try:\n",
        "        print(f\"\\n🔄 Processing (TEST): {filename}\")\n",
        "        process_and_enhance_resume(input_path, job_description, output_path)\n",
        "        print(f\"✅ Test Complete: {output_filename}\")\n",
        "    except Exception as e:\n",
        "        print(f\"❌ Test failed for {filename}: {e}\")\n"
      ]
    },
    {
      "cell_type": "code",
      "execution_count": null,
      "metadata": {
        "colab": {
          "base_uri": "https://localhost:8080/"
        },
        "id": "ftSrwmYeg5r0",
        "outputId": "5edd5ba3-7bdb-4b59-849d-c5ce9140c8f9"
      },
      "outputs": [
        {
          "name": "stderr",
          "output_type": "stream",
          "text": [
            "WARNING:pdfminer.pdfpage:CropBox missing from /Page, defaulting to MediaBox\n",
            "WARNING:pdfminer.pdfpage:CropBox missing from /Page, defaulting to MediaBox\n"
          ]
        },
        {
          "name": "stdout",
          "output_type": "stream",
          "text": [
            "🚀 SECOND TEST RUN (resumes 6–10):\n",
            "\n",
            "🔄 Processing (TEST 2): 59_resume_job4_authentic_0.pdf\n"
          ]
        },
        {
          "name": "stderr",
          "output_type": "stream",
          "text": [
            "WARNING:pdfminer.pdfpage:CropBox missing from /Page, defaulting to MediaBox\n",
            "WARNING:pdfminer.pdfpage:CropBox missing from /Page, defaulting to MediaBox\n"
          ]
        },
        {
          "name": "stdout",
          "output_type": "stream",
          "text": [
            " Selected Sections for Enhancement (3 total):\n",
            "- Work Experience:\n",
            "- Computer Skills:\n",
            "- Education:\n",
            "\n",
            "🔹 Enhancing the following sections:\n",
            "✨ Enhancing: Work Experience:\n",
            "✨ Enhancing: Computer Skills:\n",
            "✨ Enhancing: Education:\n"
          ]
        },
        {
          "name": "stderr",
          "output_type": "stream",
          "text": [
            "WARNING:pdfminer.pdfpage:CropBox missing from /Page, defaulting to MediaBox\n",
            "WARNING:pdfminer.pdfpage:CropBox missing from /Page, defaulting to MediaBox\n"
          ]
        },
        {
          "name": "stdout",
          "output_type": "stream",
          "text": [
            "✅ Enhanced resume saved and ready for download: /content/drive/My Drive/CAPSTONE/authentic_resumes/enhanced_filtered_2_page_resumes/59_resume_job4_authentic_0_enhanced.pdf\n",
            "✅ Finished: 59_resume_job4_authentic_0_enhanced.pdf\n",
            "\n",
            "🔄 Processing (TEST 2): 143_resume_job3_authentic_0.pdf\n"
          ]
        },
        {
          "name": "stderr",
          "output_type": "stream",
          "text": [
            "WARNING:pdfminer.pdfpage:CropBox missing from /Page, defaulting to MediaBox\n",
            "WARNING:pdfminer.pdfpage:CropBox missing from /Page, defaulting to MediaBox\n"
          ]
        },
        {
          "name": "stdout",
          "output_type": "stream",
          "text": [
            " Selected Sections for Enhancement (2 total):\n",
            "- more seamless user experience.\n",
            "- Work Experience\n",
            "\n",
            "🔹 Enhancing the following sections:\n",
            "✨ Enhancing: more seamless user experience.\n",
            "✨ Enhancing: Work Experience\n"
          ]
        },
        {
          "name": "stderr",
          "output_type": "stream",
          "text": [
            "WARNING:pdfminer.pdfpage:CropBox missing from /Page, defaulting to MediaBox\n",
            "WARNING:pdfminer.pdfpage:CropBox missing from /Page, defaulting to MediaBox\n"
          ]
        },
        {
          "name": "stdout",
          "output_type": "stream",
          "text": [
            "✅ Enhanced resume saved and ready for download: /content/drive/My Drive/CAPSTONE/authentic_resumes/enhanced_filtered_2_page_resumes/143_resume_job3_authentic_0_enhanced.pdf\n",
            "✅ Finished: 143_resume_job3_authentic_0_enhanced.pdf\n",
            "\n",
            "🔄 Processing (TEST 2): 84_resume_job3_authentic_0.pdf\n"
          ]
        },
        {
          "name": "stderr",
          "output_type": "stream",
          "text": [
            "WARNING:pdfminer.pdfpage:CropBox missing from /Page, defaulting to MediaBox\n",
            "WARNING:pdfminer.pdfpage:CropBox missing from /Page, defaulting to MediaBox\n"
          ]
        },
        {
          "name": "stdout",
          "output_type": "stream",
          "text": [
            " Selected Sections for Enhancement (3 total):\n",
            "- EDUCATION\n",
            "- SOFT SKILLS\n",
            "- Header\n",
            "\n",
            "🔹 Enhancing the following sections:\n",
            "✨ Enhancing: EDUCATION\n",
            "✨ Enhancing: SOFT SKILLS\n",
            "✨ Enhancing: Header\n"
          ]
        },
        {
          "name": "stderr",
          "output_type": "stream",
          "text": [
            "WARNING:pdfminer.pdfpage:CropBox missing from /Page, defaulting to MediaBox\n",
            "WARNING:pdfminer.pdfpage:CropBox missing from /Page, defaulting to MediaBox\n"
          ]
        },
        {
          "name": "stdout",
          "output_type": "stream",
          "text": [
            "✅ Enhanced resume saved and ready for download: /content/drive/My Drive/CAPSTONE/authentic_resumes/enhanced_filtered_2_page_resumes/84_resume_job3_authentic_0_enhanced.pdf\n",
            "✅ Finished: 84_resume_job3_authentic_0_enhanced.pdf\n",
            "\n",
            "🔄 Processing (TEST 2): 107_resume_job3_authentic_0.pdf\n"
          ]
        },
        {
          "name": "stderr",
          "output_type": "stream",
          "text": [
            "WARNING:pdfminer.pdfpage:CropBox missing from /Page, defaulting to MediaBox\n",
            "WARNING:pdfminer.pdfpage:CropBox missing from /Page, defaulting to MediaBox\n"
          ]
        },
        {
          "name": "stdout",
          "output_type": "stream",
          "text": [
            " Selected Sections for Enhancement (1 total):\n",
            "- • Multi-industry experience beyond just IT, including electrical, HVAC, access control, safety\n",
            "\n",
            "🔹 Enhancing the following sections:\n",
            "✨ Enhancing: • Multi-industry experience beyond just IT, including electrical, HVAC, access control, safety\n"
          ]
        },
        {
          "name": "stderr",
          "output_type": "stream",
          "text": [
            "WARNING:pdfminer.pdfpage:CropBox missing from /Page, defaulting to MediaBox\n",
            "WARNING:pdfminer.pdfpage:CropBox missing from /Page, defaulting to MediaBox\n"
          ]
        },
        {
          "name": "stdout",
          "output_type": "stream",
          "text": [
            "✅ Enhanced resume saved and ready for download: /content/drive/My Drive/CAPSTONE/authentic_resumes/enhanced_filtered_2_page_resumes/107_resume_job3_authentic_0_enhanced.pdf\n",
            "✅ Finished: 107_resume_job3_authentic_0_enhanced.pdf\n",
            "\n",
            "🔄 Processing (TEST 2): 56_resume_job3_authentic_0.pdf\n"
          ]
        },
        {
          "name": "stderr",
          "output_type": "stream",
          "text": [
            "WARNING:pdfminer.pdfpage:CropBox missing from /Page, defaulting to MediaBox\n",
            "WARNING:pdfminer.pdfpage:CropBox missing from /Page, defaulting to MediaBox\n"
          ]
        },
        {
          "name": "stdout",
          "output_type": "stream",
          "text": [
            " Selected Sections for Enhancement (3 total):\n",
            "- PROFESSIONAL SUMMARY\n",
            "- Systems Administrator and Navy veteran with 9 years of collective experience conducting network and systems\n",
            "- JACOB CORDANO\n",
            "\n",
            "🔹 Enhancing the following sections:\n",
            "✨ Enhancing: PROFESSIONAL SUMMARY\n",
            "✨ Enhancing: Systems Administrator and Navy veteran with 9 years of collective experience conducting network and systems\n",
            "✨ Enhancing: JACOB CORDANO\n",
            "✅ Enhanced resume saved and ready for download: /content/drive/My Drive/CAPSTONE/authentic_resumes/enhanced_filtered_2_page_resumes/56_resume_job3_authentic_0_enhanced.pdf\n",
            "✅ Finished: 56_resume_job3_authentic_0_enhanced.pdf\n"
          ]
        }
      ],
      "source": [
        "print(\"🚀 SECOND TEST RUN (resumes 6–10):\")\n",
        "\n",
        "for filename in more_test_files:\n",
        "    input_path = os.path.join(input_dir, filename)\n",
        "    output_filename = filename.replace(\".pdf\", \"_enhanced.pdf\")\n",
        "    output_path = os.path.join(output_dir, output_filename)\n",
        "\n",
        "    try:\n",
        "        print(f\"\\n🔄 Processing (TEST 2): {filename}\")\n",
        "        process_and_enhance_resume(input_path, job_description, output_path)\n",
        "        print(f\"✅ Finished: {output_filename}\")\n",
        "    except Exception as e:\n",
        "        print(f\"❌ Failed to process {filename}: {e}\")\n"
      ]
    },
    {
      "cell_type": "code",
      "execution_count": null,
      "metadata": {
        "colab": {
          "background_save": true,
          "base_uri": "https://localhost:8080/"
        },
        "id": "Vz80xEn7id69",
        "outputId": "801e0a2b-b193-4d30-b9d1-88d278c6fcab"
      },
      "outputs": [
        {
          "name": "stderr",
          "output_type": "stream",
          "text": [
            "WARNING:pdfminer.pdfpage:CropBox missing from /Page, defaulting to MediaBox\n",
            "WARNING:pdfminer.pdfpage:CropBox missing from /Page, defaulting to MediaBox\n"
          ]
        },
        {
          "name": "stdout",
          "output_type": "stream",
          "text": [
            "🚀 REMAINING TEST RUN (resumes 11-141):\n",
            "\n",
            "🔄 Processing (TEST 2): 27_resume_job3_authentic_0.pdf\n"
          ]
        },
        {
          "name": "stderr",
          "output_type": "stream",
          "text": [
            "WARNING:pdfminer.pdfpage:CropBox missing from /Page, defaulting to MediaBox\n",
            "WARNING:pdfminer.pdfpage:CropBox missing from /Page, defaulting to MediaBox\n"
          ]
        },
        {
          "name": "stdout",
          "output_type": "stream",
          "text": [
            " Selected Sections for Enhancement (1 total):\n",
            "- ➢ Managed numerous multi-tenant and single tenant migration projects, specializing in virtualization via Citrix and VMware as well\n",
            "\n",
            "🔹 Enhancing the following sections:\n",
            "✨ Enhancing: ➢ Managed numerous multi-tenant and single tenant migration projects, specializing in virtualization via Citrix and VMware as well\n"
          ]
        },
        {
          "name": "stderr",
          "output_type": "stream",
          "text": [
            "WARNING:pdfminer.pdfpage:CropBox missing from /Page, defaulting to MediaBox\n",
            "WARNING:pdfminer.pdfpage:CropBox missing from /Page, defaulting to MediaBox\n",
            "WARNING:pdfminer.pdfpage:CropBox missing from /Page, defaulting to MediaBox\n",
            "WARNING:pdfminer.pdfpage:CropBox missing from /Page, defaulting to MediaBox\n"
          ]
        },
        {
          "name": "stdout",
          "output_type": "stream",
          "text": [
            "✅ Enhanced resume saved and ready for download: /content/drive/My Drive/CAPSTONE/authentic_resumes/enhanced_filtered_2_page_resumes/27_resume_job3_authentic_0_enhanced.pdf\n",
            "✅ Finished: 27_resume_job3_authentic_0_enhanced.pdf\n",
            "\n",
            "🔄 Processing (TEST 2): 51_resume_job4_authentic_0.pdf\n",
            " Selected Sections for Enhancement (1 total):\n",
            "- Header\n",
            "\n",
            "🔹 Enhancing the following sections:\n",
            "✨ Enhancing: Header\n"
          ]
        },
        {
          "name": "stderr",
          "output_type": "stream",
          "text": [
            "WARNING:pdfminer.pdfpage:CropBox missing from /Page, defaulting to MediaBox\n",
            "WARNING:pdfminer.pdfpage:CropBox missing from /Page, defaulting to MediaBox\n"
          ]
        },
        {
          "name": "stdout",
          "output_type": "stream",
          "text": [
            "✅ Enhanced resume saved and ready for download: /content/drive/My Drive/CAPSTONE/authentic_resumes/enhanced_filtered_2_page_resumes/51_resume_job4_authentic_0_enhanced.pdf\n",
            "✅ Finished: 51_resume_job4_authentic_0_enhanced.pdf\n",
            "\n",
            "🔄 Processing (TEST 2): 141_resume_job2_authentic_0.pdf\n"
          ]
        },
        {
          "name": "stderr",
          "output_type": "stream",
          "text": [
            "WARNING:pdfminer.pdfpage:CropBox missing from /Page, defaulting to MediaBox\n",
            "WARNING:pdfminer.pdfpage:CropBox missing from /Page, defaulting to MediaBox\n"
          ]
        },
        {
          "name": "stdout",
          "output_type": "stream",
          "text": [
            " Selected Sections for Enhancement (2 total):\n",
            "- ○ Engineered a reusable input validation library using Java, promoting code reusability and enhancing collaboration across various internal projects.\n",
            "- Results-driven Java Developer with a Master’s in Computer Software Engineering and extensive experience in full-stack development, backend engineering,\n",
            "\n",
            "🔹 Enhancing the following sections:\n",
            "✨ Enhancing: ○ Engineered a reusable input validation library using Java, promoting code reusability and enhancing collaboration across various internal projects.\n",
            "✨ Enhancing: Results-driven Java Developer with a Master’s in Computer Software Engineering and extensive experience in full-stack development, backend engineering,\n",
            "✅ Enhanced resume saved and ready for download: /content/drive/My Drive/CAPSTONE/authentic_resumes/enhanced_filtered_2_page_resumes/141_resume_job2_authentic_0_enhanced.pdf\n",
            "✅ Finished: 141_resume_job2_authentic_0_enhanced.pdf\n",
            "\n",
            "🔄 Processing (TEST 2): 94_resume_job3_authentic_0.pdf\n",
            " Selected Sections for Enhancement (2 total):\n",
            "- IT Professional with 13 years of experience in Network and Computer System Administration and IT Support including\n",
            "- EDUCATION\n",
            "\n",
            "🔹 Enhancing the following sections:\n",
            "✨ Enhancing: IT Professional with 13 years of experience in Network and Computer System Administration and IT Support including\n",
            "✨ Enhancing: EDUCATION\n"
          ]
        },
        {
          "name": "stderr",
          "output_type": "stream",
          "text": [
            "WARNING:pdfminer.pdfpage:CropBox missing from /Page, defaulting to MediaBox\n",
            "WARNING:pdfminer.pdfpage:CropBox missing from /Page, defaulting to MediaBox\n"
          ]
        },
        {
          "name": "stdout",
          "output_type": "stream",
          "text": [
            "✅ Enhanced resume saved and ready for download: /content/drive/My Drive/CAPSTONE/authentic_resumes/enhanced_filtered_2_page_resumes/94_resume_job3_authentic_0_enhanced.pdf\n",
            "✅ Finished: 94_resume_job3_authentic_0_enhanced.pdf\n",
            "\n",
            "🔄 Processing (TEST 2): 61_resume_job4_authentic_0.pdf\n"
          ]
        },
        {
          "name": "stderr",
          "output_type": "stream",
          "text": [
            "WARNING:pdfminer.pdfpage:CropBox missing from /Page, defaulting to MediaBox\n",
            "WARNING:pdfminer.pdfpage:CropBox missing from /Page, defaulting to MediaBox\n"
          ]
        },
        {
          "name": "stdout",
          "output_type": "stream",
          "text": [
            " Selected Sections for Enhancement (2 total):\n",
            "-  Successfully managed multiple large-scale appliance and database projects at any given time.\n",
            "- ADDITIONAL RELEVANT EXPERIENCE\n",
            "\n",
            "🔹 Enhancing the following sections:\n",
            "✨ Enhancing:  Successfully managed multiple large-scale appliance and database projects at any given time.\n",
            "✨ Enhancing: ADDITIONAL RELEVANT EXPERIENCE\n"
          ]
        },
        {
          "name": "stderr",
          "output_type": "stream",
          "text": [
            "WARNING:pdfminer.pdfpage:CropBox missing from /Page, defaulting to MediaBox\n",
            "WARNING:pdfminer.pdfpage:CropBox missing from /Page, defaulting to MediaBox\n"
          ]
        },
        {
          "name": "stdout",
          "output_type": "stream",
          "text": [
            "✅ Enhanced resume saved and ready for download: /content/drive/My Drive/CAPSTONE/authentic_resumes/enhanced_filtered_2_page_resumes/61_resume_job4_authentic_0_enhanced.pdf\n",
            "✅ Finished: 61_resume_job4_authentic_0_enhanced.pdf\n",
            "\n",
            "🔄 Processing (TEST 2): 117_resume_job4_authentic_0.pdf\n"
          ]
        },
        {
          "name": "stderr",
          "output_type": "stream",
          "text": [
            "WARNING:pdfminer.pdfpage:CropBox missing from /Page, defaulting to MediaBox\n",
            "WARNING:pdfminer.pdfpage:CropBox missing from /Page, defaulting to MediaBox\n"
          ]
        },
        {
          "name": "stdout",
          "output_type": "stream",
          "text": [
            " Selected Sections for Enhancement (1 total):\n",
            "- Header\n",
            "\n",
            "🔹 Enhancing the following sections:\n",
            "✨ Enhancing: Header\n"
          ]
        },
        {
          "name": "stderr",
          "output_type": "stream",
          "text": [
            "WARNING:pdfminer.pdfpage:CropBox missing from /Page, defaulting to MediaBox\n",
            "WARNING:pdfminer.pdfpage:CropBox missing from /Page, defaulting to MediaBox\n"
          ]
        },
        {
          "name": "stdout",
          "output_type": "stream",
          "text": [
            "✅ Enhanced resume saved and ready for download: /content/drive/My Drive/CAPSTONE/authentic_resumes/enhanced_filtered_2_page_resumes/117_resume_job4_authentic_0_enhanced.pdf\n",
            "✅ Finished: 117_resume_job4_authentic_0_enhanced.pdf\n",
            "\n",
            "🔄 Processing (TEST 2): 123_resume_job3_authentic_0.pdf\n"
          ]
        },
        {
          "name": "stderr",
          "output_type": "stream",
          "text": [
            "WARNING:pdfminer.pdfpage:CropBox missing from /Page, defaulting to MediaBox\n",
            "WARNING:pdfminer.pdfpage:CropBox missing from /Page, defaulting to MediaBox\n"
          ]
        },
        {
          "name": "stdout",
          "output_type": "stream",
          "text": [
            " Selected Sections for Enhancement (1 total):\n",
            "- EDUCATION\n",
            "\n",
            "🔹 Enhancing the following sections:\n",
            "✨ Enhancing: EDUCATION\n"
          ]
        },
        {
          "name": "stderr",
          "output_type": "stream",
          "text": [
            "WARNING:pdfminer.pdfpage:CropBox missing from /Page, defaulting to MediaBox\n",
            "WARNING:pdfminer.pdfpage:CropBox missing from /Page, defaulting to MediaBox\n"
          ]
        },
        {
          "name": "stdout",
          "output_type": "stream",
          "text": [
            "✅ Enhanced resume saved and ready for download: /content/drive/My Drive/CAPSTONE/authentic_resumes/enhanced_filtered_2_page_resumes/123_resume_job3_authentic_0_enhanced.pdf\n",
            "✅ Finished: 123_resume_job3_authentic_0_enhanced.pdf\n",
            "\n",
            "🔄 Processing (TEST 2): 111_resume_job4_authentic_0.pdf\n"
          ]
        },
        {
          "name": "stderr",
          "output_type": "stream",
          "text": [
            "WARNING:pdfminer.pdfpage:CropBox missing from /Page, defaulting to MediaBox\n",
            "WARNING:pdfminer.pdfpage:CropBox missing from /Page, defaulting to MediaBox\n"
          ]
        },
        {
          "name": "stdout",
          "output_type": "stream",
          "text": [
            " Selected Sections for Enhancement (1 total):\n",
            "- • Led multiple assessments of high-risk projects based on Premium, Copayment, Deductible,\n",
            "\n",
            "🔹 Enhancing the following sections:\n",
            "✨ Enhancing: • Led multiple assessments of high-risk projects based on Premium, Copayment, Deductible,\n"
          ]
        },
        {
          "name": "stderr",
          "output_type": "stream",
          "text": [
            "WARNING:pdfminer.pdfpage:CropBox missing from /Page, defaulting to MediaBox\n",
            "WARNING:pdfminer.pdfpage:CropBox missing from /Page, defaulting to MediaBox\n"
          ]
        },
        {
          "name": "stdout",
          "output_type": "stream",
          "text": [
            "✅ Enhanced resume saved and ready for download: /content/drive/My Drive/CAPSTONE/authentic_resumes/enhanced_filtered_2_page_resumes/111_resume_job4_authentic_0_enhanced.pdf\n",
            "✅ Finished: 111_resume_job4_authentic_0_enhanced.pdf\n",
            "\n",
            "🔄 Processing (TEST 2): 109_resume_job3_authentic_0.pdf\n"
          ]
        },
        {
          "name": "stderr",
          "output_type": "stream",
          "text": [
            "WARNING:pdfminer.pdfpage:CropBox missing from /Page, defaulting to MediaBox\n",
            "WARNING:pdfminer.pdfpage:CropBox missing from /Page, defaulting to MediaBox\n"
          ]
        },
        {
          "name": "stdout",
          "output_type": "stream",
          "text": [
            " Selected Sections for Enhancement (2 total):\n",
            "- • Build skills through exercises & Basic Python/Bash scripting; monitor packet capture to identify errors and data\n",
            "- Header\n",
            "\n",
            "🔹 Enhancing the following sections:\n",
            "✨ Enhancing: • Build skills through exercises & Basic Python/Bash scripting; monitor packet capture to identify errors and data\n",
            "✨ Enhancing: Header\n"
          ]
        },
        {
          "name": "stderr",
          "output_type": "stream",
          "text": [
            "WARNING:pdfminer.pdfpage:CropBox missing from /Page, defaulting to MediaBox\n",
            "WARNING:pdfminer.pdfpage:CropBox missing from /Page, defaulting to MediaBox\n",
            "WARNING:pdfminer.pdfpage:CropBox missing from /Page, defaulting to MediaBox\n",
            "WARNING:pdfminer.pdfpage:CropBox missing from /Page, defaulting to MediaBox\n"
          ]
        },
        {
          "name": "stdout",
          "output_type": "stream",
          "text": [
            "✅ Enhanced resume saved and ready for download: /content/drive/My Drive/CAPSTONE/authentic_resumes/enhanced_filtered_2_page_resumes/109_resume_job3_authentic_0_enhanced.pdf\n",
            "✅ Finished: 109_resume_job3_authentic_0_enhanced.pdf\n",
            "\n",
            "🔄 Processing (TEST 2): 77_resume_job4_authentic_0.pdf\n",
            " Selected Sections for Enhancement (2 total):\n",
            "- Header\n",
            "- EXPERIENCE\n",
            "\n",
            "🔹 Enhancing the following sections:\n",
            "✨ Enhancing: Header\n",
            "✨ Enhancing: EXPERIENCE\n"
          ]
        },
        {
          "name": "stderr",
          "output_type": "stream",
          "text": [
            "WARNING:pdfminer.pdfpage:CropBox missing from /Page, defaulting to MediaBox\n",
            "WARNING:pdfminer.pdfpage:CropBox missing from /Page, defaulting to MediaBox\n"
          ]
        },
        {
          "name": "stdout",
          "output_type": "stream",
          "text": [
            "✅ Enhanced resume saved and ready for download: /content/drive/My Drive/CAPSTONE/authentic_resumes/enhanced_filtered_2_page_resumes/77_resume_job4_authentic_0_enhanced.pdf\n",
            "✅ Finished: 77_resume_job4_authentic_0_enhanced.pdf\n",
            "\n",
            "🔄 Processing (TEST 2): 92_resume_job3_authentic_0.pdf\n"
          ]
        },
        {
          "name": "stderr",
          "output_type": "stream",
          "text": [
            "WARNING:pdfminer.pdfpage:CropBox missing from /Page, defaulting to MediaBox\n",
            "WARNING:pdfminer.pdfpage:CropBox missing from /Page, defaulting to MediaBox\n"
          ]
        },
        {
          "name": "stdout",
          "output_type": "stream",
          "text": [
            " Selected Sections for Enhancement (2 total):\n",
            "- CompTIA Security+ certified Cyber Security Analyst with extensive hands-on experience in security analysis and incident\n",
            "- N K\n",
            "\n",
            "🔹 Enhancing the following sections:\n",
            "✨ Enhancing: CompTIA Security+ certified Cyber Security Analyst with extensive hands-on experience in security analysis and incident\n",
            "✨ Enhancing: N K\n"
          ]
        },
        {
          "name": "stderr",
          "output_type": "stream",
          "text": [
            "WARNING:pdfminer.pdfpage:CropBox missing from /Page, defaulting to MediaBox\n",
            "WARNING:pdfminer.pdfpage:CropBox missing from /Page, defaulting to MediaBox\n"
          ]
        },
        {
          "name": "stdout",
          "output_type": "stream",
          "text": [
            "✅ Enhanced resume saved and ready for download: /content/drive/My Drive/CAPSTONE/authentic_resumes/enhanced_filtered_2_page_resumes/92_resume_job3_authentic_0_enhanced.pdf\n",
            "✅ Finished: 92_resume_job3_authentic_0_enhanced.pdf\n",
            "\n",
            "🔄 Processing (TEST 2): 143_resume_job4_authentic_0.pdf\n"
          ]
        },
        {
          "name": "stderr",
          "output_type": "stream",
          "text": [
            "WARNING:pdfminer.pdfpage:CropBox missing from /Page, defaulting to MediaBox\n",
            "WARNING:pdfminer.pdfpage:CropBox missing from /Page, defaulting to MediaBox\n"
          ]
        },
        {
          "name": "stdout",
          "output_type": "stream",
          "text": [
            " Selected Sections for Enhancement (2 total):\n",
            "- Education\n",
            "- Header\n",
            "\n",
            "🔹 Enhancing the following sections:\n",
            "✨ Enhancing: Education\n",
            "✨ Enhancing: Header\n"
          ]
        },
        {
          "name": "stderr",
          "output_type": "stream",
          "text": [
            "WARNING:pdfminer.pdfpage:CropBox missing from /Page, defaulting to MediaBox\n",
            "WARNING:pdfminer.pdfpage:CropBox missing from /Page, defaulting to MediaBox\n"
          ]
        },
        {
          "name": "stdout",
          "output_type": "stream",
          "text": [
            "✅ Enhanced resume saved and ready for download: /content/drive/My Drive/CAPSTONE/authentic_resumes/enhanced_filtered_2_page_resumes/143_resume_job4_authentic_0_enhanced.pdf\n",
            "✅ Finished: 143_resume_job4_authentic_0_enhanced.pdf\n",
            "\n",
            "🔄 Processing (TEST 2): 4_resume_job4_authentic_0.pdf\n"
          ]
        },
        {
          "name": "stderr",
          "output_type": "stream",
          "text": [
            "WARNING:pdfminer.pdfpage:CropBox missing from /Page, defaulting to MediaBox\n",
            "WARNING:pdfminer.pdfpage:CropBox missing from /Page, defaulting to MediaBox\n"
          ]
        },
        {
          "name": "stdout",
          "output_type": "stream",
          "text": [
            " Selected Sections for Enhancement (1 total):\n",
            "- ● Maintained leadership skills while under stressful conditions.\n",
            "\n",
            "🔹 Enhancing the following sections:\n",
            "✨ Enhancing: ● Maintained leadership skills while under stressful conditions.\n"
          ]
        },
        {
          "name": "stderr",
          "output_type": "stream",
          "text": [
            "WARNING:pdfminer.pdfpage:CropBox missing from /Page, defaulting to MediaBox\n",
            "WARNING:pdfminer.pdfpage:CropBox missing from /Page, defaulting to MediaBox\n"
          ]
        },
        {
          "name": "stdout",
          "output_type": "stream",
          "text": [
            "✅ Enhanced resume saved and ready for download: /content/drive/My Drive/CAPSTONE/authentic_resumes/enhanced_filtered_2_page_resumes/4_resume_job4_authentic_0_enhanced.pdf\n",
            "✅ Finished: 4_resume_job4_authentic_0_enhanced.pdf\n",
            "\n",
            "🔄 Processing (TEST 2): 37_resume_job4_authentic_0.pdf\n"
          ]
        },
        {
          "name": "stderr",
          "output_type": "stream",
          "text": [
            "WARNING:pdfminer.pdfpage:CropBox missing from /Page, defaulting to MediaBox\n",
            "WARNING:pdfminer.pdfpage:CropBox missing from /Page, defaulting to MediaBox\n"
          ]
        },
        {
          "name": "stdout",
          "output_type": "stream",
          "text": [
            " Selected Sections for Enhancement (1 total):\n",
            "- ● Strong Interpersonal skills including the ability to strengthen and retain customer base by building rapport\n",
            "\n",
            "🔹 Enhancing the following sections:\n",
            "✨ Enhancing: ● Strong Interpersonal skills including the ability to strengthen and retain customer base by building rapport\n"
          ]
        },
        {
          "name": "stderr",
          "output_type": "stream",
          "text": [
            "WARNING:pdfminer.pdfpage:CropBox missing from /Page, defaulting to MediaBox\n",
            "WARNING:pdfminer.pdfpage:CropBox missing from /Page, defaulting to MediaBox\n"
          ]
        },
        {
          "name": "stdout",
          "output_type": "stream",
          "text": [
            "✅ Enhanced resume saved and ready for download: /content/drive/My Drive/CAPSTONE/authentic_resumes/enhanced_filtered_2_page_resumes/37_resume_job4_authentic_0_enhanced.pdf\n",
            "✅ Finished: 37_resume_job4_authentic_0_enhanced.pdf\n",
            "\n",
            "🔄 Processing (TEST 2): 103_resume_job2_authentic_0.pdf\n"
          ]
        },
        {
          "name": "stderr",
          "output_type": "stream",
          "text": [
            "WARNING:pdfminer.pdfpage:CropBox missing from /Page, defaulting to MediaBox\n",
            "WARNING:pdfminer.pdfpage:CropBox missing from /Page, defaulting to MediaBox\n"
          ]
        },
        {
          "name": "stdout",
          "output_type": "stream",
          "text": [
            " Selected Sections for Enhancement (1 total):\n",
            "- Projects\n",
            "\n",
            "🔹 Enhancing the following sections:\n",
            "✨ Enhancing: Projects\n"
          ]
        },
        {
          "name": "stderr",
          "output_type": "stream",
          "text": [
            "WARNING:pdfminer.pdfpage:CropBox missing from /Page, defaulting to MediaBox\n",
            "WARNING:pdfminer.pdfpage:CropBox missing from /Page, defaulting to MediaBox\n",
            "WARNING:pdfminer.pdfpage:CropBox missing from /Page, defaulting to MediaBox\n",
            "WARNING:pdfminer.pdfpage:CropBox missing from /Page, defaulting to MediaBox\n"
          ]
        },
        {
          "name": "stdout",
          "output_type": "stream",
          "text": [
            "✅ Enhanced resume saved and ready for download: /content/drive/My Drive/CAPSTONE/authentic_resumes/enhanced_filtered_2_page_resumes/103_resume_job2_authentic_0_enhanced.pdf\n",
            "✅ Finished: 103_resume_job2_authentic_0_enhanced.pdf\n",
            "\n",
            "🔄 Processing (TEST 2): 62_resume_job4_authentic_0.pdf\n",
            " Selected Sections for Enhancement (2 total):\n",
            "- Taught 6th grade special education students in the area of Social Studies and Science. Position included:\n",
            "- EDUCATION\n",
            "\n",
            "🔹 Enhancing the following sections:\n",
            "✨ Enhancing: Taught 6th grade special education students in the area of Social Studies and Science. Position included:\n",
            "✨ Enhancing: EDUCATION\n",
            "✅ Enhanced resume saved and ready for download: /content/drive/My Drive/CAPSTONE/authentic_resumes/enhanced_filtered_2_page_resumes/62_resume_job4_authentic_0_enhanced.pdf\n",
            "✅ Finished: 62_resume_job4_authentic_0_enhanced.pdf\n",
            "\n",
            "🔄 Processing (TEST 2): 130_resume_job4_authentic_0.pdf\n",
            " Selected Sections for Enhancement (2 total):\n",
            "- Education\n",
            "- Certifications and Licenses\n",
            "\n",
            "🔹 Enhancing the following sections:\n",
            "✨ Enhancing: Education\n",
            "✨ Enhancing: Certifications and Licenses\n"
          ]
        },
        {
          "name": "stderr",
          "output_type": "stream",
          "text": [
            "WARNING:pdfminer.pdfpage:CropBox missing from /Page, defaulting to MediaBox\n",
            "WARNING:pdfminer.pdfpage:CropBox missing from /Page, defaulting to MediaBox\n",
            "WARNING:pdfminer.pdfpage:CropBox missing from /Page, defaulting to MediaBox\n",
            "WARNING:pdfminer.pdfpage:CropBox missing from /Page, defaulting to MediaBox\n",
            "WARNING:pdfminer.pdfpage:CropBox missing from /Page, defaulting to MediaBox\n",
            "WARNING:pdfminer.pdfpage:CropBox missing from /Page, defaulting to MediaBox\n"
          ]
        },
        {
          "name": "stdout",
          "output_type": "stream",
          "text": [
            "✅ Enhanced resume saved and ready for download: /content/drive/My Drive/CAPSTONE/authentic_resumes/enhanced_filtered_2_page_resumes/130_resume_job4_authentic_0_enhanced.pdf\n",
            "✅ Finished: 130_resume_job4_authentic_0_enhanced.pdf\n",
            "\n",
            "🔄 Processing (TEST 2): 129_resume_job4_authentic_0.pdf\n",
            "❌ Failed to process 129_resume_job4_authentic_0.pdf: Sample larger than population or is negative\n",
            "\n",
            "🔄 Processing (TEST 2): 122_resume_job4_authentic_0.pdf\n"
          ]
        },
        {
          "name": "stderr",
          "output_type": "stream",
          "text": [
            "WARNING:pdfminer.pdfpage:CropBox missing from /Page, defaulting to MediaBox\n",
            "WARNING:pdfminer.pdfpage:CropBox missing from /Page, defaulting to MediaBox\n"
          ]
        },
        {
          "name": "stdout",
          "output_type": "stream",
          "text": [
            " Selected Sections for Enhancement (2 total):\n",
            "- Essential Skills:\n",
            "- Work Experience:\n",
            "\n",
            "🔹 Enhancing the following sections:\n",
            "✨ Enhancing: Essential Skills:\n",
            "✨ Enhancing: Work Experience:\n"
          ]
        },
        {
          "name": "stderr",
          "output_type": "stream",
          "text": [
            "WARNING:pdfminer.pdfpage:CropBox missing from /Page, defaulting to MediaBox\n",
            "WARNING:pdfminer.pdfpage:CropBox missing from /Page, defaulting to MediaBox\n"
          ]
        },
        {
          "name": "stdout",
          "output_type": "stream",
          "text": [
            "✅ Enhanced resume saved and ready for download: /content/drive/My Drive/CAPSTONE/authentic_resumes/enhanced_filtered_2_page_resumes/122_resume_job4_authentic_0_enhanced.pdf\n",
            "✅ Finished: 122_resume_job4_authentic_0_enhanced.pdf\n",
            "\n",
            "🔄 Processing (TEST 2): 14_resume_job4_authentic_0.pdf\n"
          ]
        },
        {
          "name": "stderr",
          "output_type": "stream",
          "text": [
            "WARNING:pdfminer.pdfpage:CropBox missing from /Page, defaulting to MediaBox\n",
            "WARNING:pdfminer.pdfpage:CropBox missing from /Page, defaulting to MediaBox\n"
          ]
        },
        {
          "name": "stdout",
          "output_type": "stream",
          "text": [
            " Selected Sections for Enhancement (2 total):\n",
            "- ensure realistic budgets and timelines which enable on-time and on-budget delivery of projects.\n",
            "- - Completed multiple software/hardware Building Management System (BMS) installation projects\n",
            "\n",
            "🔹 Enhancing the following sections:\n",
            "✨ Enhancing: ensure realistic budgets and timelines which enable on-time and on-budget delivery of projects.\n",
            "✨ Enhancing: - Completed multiple software/hardware Building Management System (BMS) installation projects\n"
          ]
        },
        {
          "name": "stderr",
          "output_type": "stream",
          "text": [
            "WARNING:pdfminer.pdfpage:CropBox missing from /Page, defaulting to MediaBox\n",
            "WARNING:pdfminer.pdfpage:CropBox missing from /Page, defaulting to MediaBox\n"
          ]
        },
        {
          "name": "stdout",
          "output_type": "stream",
          "text": [
            "✅ Enhanced resume saved and ready for download: /content/drive/My Drive/CAPSTONE/authentic_resumes/enhanced_filtered_2_page_resumes/14_resume_job4_authentic_0_enhanced.pdf\n",
            "✅ Finished: 14_resume_job4_authentic_0_enhanced.pdf\n",
            "\n",
            "🔄 Processing (TEST 2): 35_resume_job3_authentic_0.pdf\n"
          ]
        },
        {
          "name": "stderr",
          "output_type": "stream",
          "text": [
            "WARNING:pdfminer.pdfpage:CropBox missing from /Page, defaulting to MediaBox\n",
            "WARNING:pdfminer.pdfpage:CropBox missing from /Page, defaulting to MediaBox\n"
          ]
        },
        {
          "name": "stdout",
          "output_type": "stream",
          "text": [
            " Selected Sections for Enhancement (2 total):\n",
            "- Objective: I am seeking a challenging career that will allow me to use my technical and\n",
            "- LinkedIn Profile: www.linkedin.com/in/talhabashir1/\n",
            "\n",
            "🔹 Enhancing the following sections:\n",
            "✨ Enhancing: Objective: I am seeking a challenging career that will allow me to use my technical and\n",
            "✨ Enhancing: LinkedIn Profile: www.linkedin.com/in/talhabashir1/\n"
          ]
        },
        {
          "name": "stderr",
          "output_type": "stream",
          "text": [
            "WARNING:pdfminer.pdfpage:CropBox missing from /Page, defaulting to MediaBox\n",
            "WARNING:pdfminer.pdfpage:CropBox missing from /Page, defaulting to MediaBox\n"
          ]
        },
        {
          "name": "stdout",
          "output_type": "stream",
          "text": [
            "✅ Enhanced resume saved and ready for download: /content/drive/My Drive/CAPSTONE/authentic_resumes/enhanced_filtered_2_page_resumes/35_resume_job3_authentic_0_enhanced.pdf\n",
            "✅ Finished: 35_resume_job3_authentic_0_enhanced.pdf\n",
            "\n",
            "🔄 Processing (TEST 2): 74_resume_job2_authentic_0.pdf\n"
          ]
        },
        {
          "name": "stderr",
          "output_type": "stream",
          "text": [
            "WARNING:pdfminer.pdfpage:CropBox missing from /Page, defaulting to MediaBox\n",
            "WARNING:pdfminer.pdfpage:CropBox missing from /Page, defaulting to MediaBox\n"
          ]
        },
        {
          "name": "stdout",
          "output_type": "stream",
          "text": [
            " Selected Sections for Enhancement (1 total):\n",
            "- OSExperience\n",
            "\n",
            "🔹 Enhancing the following sections:\n",
            "✨ Enhancing: OSExperience\n"
          ]
        },
        {
          "name": "stderr",
          "output_type": "stream",
          "text": [
            "WARNING:pdfminer.pdfpage:CropBox missing from /Page, defaulting to MediaBox\n",
            "WARNING:pdfminer.pdfpage:CropBox missing from /Page, defaulting to MediaBox\n"
          ]
        },
        {
          "name": "stdout",
          "output_type": "stream",
          "text": [
            "✅ Enhanced resume saved and ready for download: /content/drive/My Drive/CAPSTONE/authentic_resumes/enhanced_filtered_2_page_resumes/74_resume_job2_authentic_0_enhanced.pdf\n",
            "✅ Finished: 74_resume_job2_authentic_0_enhanced.pdf\n",
            "\n",
            "🔄 Processing (TEST 2): 136_resume_job4_authentic_0.pdf\n"
          ]
        },
        {
          "name": "stderr",
          "output_type": "stream",
          "text": [
            "WARNING:pdfminer.pdfpage:CropBox missing from /Page, defaulting to MediaBox\n",
            "WARNING:pdfminer.pdfpage:CropBox missing from /Page, defaulting to MediaBox\n"
          ]
        },
        {
          "name": "stdout",
          "output_type": "stream",
          "text": [
            " Selected Sections for Enhancement (2 total):\n",
            "- construction development programs and projects from inception through hand over.\n",
            "-  Created and maintained front end resource loaded schedules for Construction projects worth\n",
            "\n",
            "🔹 Enhancing the following sections:\n",
            "✨ Enhancing: construction development programs and projects from inception through hand over.\n",
            "✨ Enhancing:  Created and maintained front end resource loaded schedules for Construction projects worth\n"
          ]
        },
        {
          "name": "stderr",
          "output_type": "stream",
          "text": [
            "WARNING:pdfminer.pdfpage:CropBox missing from /Page, defaulting to MediaBox\n",
            "WARNING:pdfminer.pdfpage:CropBox missing from /Page, defaulting to MediaBox\n"
          ]
        },
        {
          "name": "stdout",
          "output_type": "stream",
          "text": [
            "✅ Enhanced resume saved and ready for download: /content/drive/My Drive/CAPSTONE/authentic_resumes/enhanced_filtered_2_page_resumes/136_resume_job4_authentic_0_enhanced.pdf\n",
            "✅ Finished: 136_resume_job4_authentic_0_enhanced.pdf\n",
            "\n",
            "🔄 Processing (TEST 2): 131_resume_job3_authentic_0.pdf\n"
          ]
        },
        {
          "name": "stderr",
          "output_type": "stream",
          "text": [
            "WARNING:pdfminer.pdfpage:CropBox missing from /Page, defaulting to MediaBox\n",
            "WARNING:pdfminer.pdfpage:CropBox missing from /Page, defaulting to MediaBox\n"
          ]
        },
        {
          "name": "stdout",
          "output_type": "stream",
          "text": [
            " Selected Sections for Enhancement (1 total):\n",
            "- Work Experience\n",
            "\n",
            "🔹 Enhancing the following sections:\n",
            "✨ Enhancing: Work Experience\n"
          ]
        },
        {
          "name": "stderr",
          "output_type": "stream",
          "text": [
            "WARNING:pdfminer.pdfpage:CropBox missing from /Page, defaulting to MediaBox\n",
            "WARNING:pdfminer.pdfpage:CropBox missing from /Page, defaulting to MediaBox\n"
          ]
        },
        {
          "name": "stdout",
          "output_type": "stream",
          "text": [
            "✅ Enhanced resume saved and ready for download: /content/drive/My Drive/CAPSTONE/authentic_resumes/enhanced_filtered_2_page_resumes/131_resume_job3_authentic_0_enhanced.pdf\n",
            "✅ Finished: 131_resume_job3_authentic_0_enhanced.pdf\n",
            "\n",
            "🔄 Processing (TEST 2): 101_resume_job3_authentic_0.pdf\n"
          ]
        },
        {
          "name": "stderr",
          "output_type": "stream",
          "text": [
            "WARNING:pdfminer.pdfpage:CropBox missing from /Page, defaulting to MediaBox\n",
            "WARNING:pdfminer.pdfpage:CropBox missing from /Page, defaulting to MediaBox\n"
          ]
        },
        {
          "name": "stdout",
          "output_type": "stream",
          "text": [
            " Selected Sections for Enhancement (2 total):\n",
            "- Motivated, personable business professional with over 10 years experience as a Solution Architect. A\n",
            "- Header\n",
            "\n",
            "🔹 Enhancing the following sections:\n",
            "✨ Enhancing: Motivated, personable business professional with over 10 years experience as a Solution Architect. A\n",
            "✨ Enhancing: Header\n"
          ]
        },
        {
          "name": "stderr",
          "output_type": "stream",
          "text": [
            "WARNING:pdfminer.pdfpage:CropBox missing from /Page, defaulting to MediaBox\n",
            "WARNING:pdfminer.pdfpage:CropBox missing from /Page, defaulting to MediaBox\n"
          ]
        },
        {
          "name": "stdout",
          "output_type": "stream",
          "text": [
            "✅ Enhanced resume saved and ready for download: /content/drive/My Drive/CAPSTONE/authentic_resumes/enhanced_filtered_2_page_resumes/101_resume_job3_authentic_0_enhanced.pdf\n",
            "✅ Finished: 101_resume_job3_authentic_0_enhanced.pdf\n",
            "\n",
            "🔄 Processing (TEST 2): 87_resume_job3_authentic_0.pdf\n"
          ]
        },
        {
          "name": "stderr",
          "output_type": "stream",
          "text": [
            "WARNING:pdfminer.pdfpage:CropBox missing from /Page, defaulting to MediaBox\n",
            "WARNING:pdfminer.pdfpage:CropBox missing from /Page, defaulting to MediaBox\n"
          ]
        },
        {
          "name": "stdout",
          "output_type": "stream",
          "text": [
            " Selected Sections for Enhancement (2 total):\n",
            "- Skills\n",
            "- Education and Training\n",
            "\n",
            "🔹 Enhancing the following sections:\n",
            "✨ Enhancing: Skills\n",
            "✨ Enhancing: Education and Training\n",
            "✅ Enhanced resume saved and ready for download: /content/drive/My Drive/CAPSTONE/authentic_resumes/enhanced_filtered_2_page_resumes/87_resume_job3_authentic_0_enhanced.pdf\n",
            "✅ Finished: 87_resume_job3_authentic_0_enhanced.pdf\n",
            "\n",
            "🔄 Processing (TEST 2): 130_resume_job3_authentic_0.pdf\n",
            " Selected Sections for Enhancement (1 total):\n",
            "- Certifications\n",
            "\n",
            "🔹 Enhancing the following sections:\n",
            "✨ Enhancing: Certifications\n"
          ]
        },
        {
          "name": "stderr",
          "output_type": "stream",
          "text": [
            "WARNING:pdfminer.pdfpage:CropBox missing from /Page, defaulting to MediaBox\n",
            "WARNING:pdfminer.pdfpage:CropBox missing from /Page, defaulting to MediaBox\n"
          ]
        },
        {
          "name": "stdout",
          "output_type": "stream",
          "text": [
            "✅ Enhanced resume saved and ready for download: /content/drive/My Drive/CAPSTONE/authentic_resumes/enhanced_filtered_2_page_resumes/130_resume_job3_authentic_0_enhanced.pdf\n",
            "✅ Finished: 130_resume_job3_authentic_0_enhanced.pdf\n",
            "\n",
            "🔄 Processing (TEST 2): 98_resume_job3_authentic_0.pdf\n"
          ]
        },
        {
          "name": "stderr",
          "output_type": "stream",
          "text": [
            "WARNING:pdfminer.pdfpage:CropBox missing from /Page, defaulting to MediaBox\n",
            "WARNING:pdfminer.pdfpage:CropBox missing from /Page, defaulting to MediaBox\n"
          ]
        },
        {
          "name": "stdout",
          "output_type": "stream",
          "text": [
            " Selected Sections for Enhancement (1 total):\n",
            "- EDUCATION\n",
            "\n",
            "🔹 Enhancing the following sections:\n",
            "✨ Enhancing: EDUCATION\n"
          ]
        },
        {
          "name": "stderr",
          "output_type": "stream",
          "text": [
            "WARNING:pdfminer.pdfpage:CropBox missing from /Page, defaulting to MediaBox\n",
            "WARNING:pdfminer.pdfpage:CropBox missing from /Page, defaulting to MediaBox\n"
          ]
        },
        {
          "name": "stdout",
          "output_type": "stream",
          "text": [
            "✅ Enhanced resume saved and ready for download: /content/drive/My Drive/CAPSTONE/authentic_resumes/enhanced_filtered_2_page_resumes/98_resume_job3_authentic_0_enhanced.pdf\n",
            "✅ Finished: 98_resume_job3_authentic_0_enhanced.pdf\n",
            "\n",
            "🔄 Processing (TEST 2): 57_resume_job4_authentic_0.pdf\n"
          ]
        },
        {
          "name": "stderr",
          "output_type": "stream",
          "text": [
            "WARNING:pdfminer.pdfpage:CropBox missing from /Page, defaulting to MediaBox\n",
            "WARNING:pdfminer.pdfpage:CropBox missing from /Page, defaulting to MediaBox\n"
          ]
        },
        {
          "name": "stdout",
          "output_type": "stream",
          "text": [
            " Selected Sections for Enhancement (2 total):\n",
            "- computer skills and research software such as computational chemistry and molecular\n",
            "- Undergraduate Research Project\n",
            "\n",
            "🔹 Enhancing the following sections:\n",
            "✨ Enhancing: computer skills and research software such as computational chemistry and molecular\n",
            "✨ Enhancing: Undergraduate Research Project\n"
          ]
        },
        {
          "name": "stderr",
          "output_type": "stream",
          "text": [
            "WARNING:pdfminer.pdfpage:CropBox missing from /Page, defaulting to MediaBox\n",
            "WARNING:pdfminer.pdfpage:CropBox missing from /Page, defaulting to MediaBox\n"
          ]
        },
        {
          "name": "stdout",
          "output_type": "stream",
          "text": [
            "✅ Enhanced resume saved and ready for download: /content/drive/My Drive/CAPSTONE/authentic_resumes/enhanced_filtered_2_page_resumes/57_resume_job4_authentic_0_enhanced.pdf\n",
            "✅ Finished: 57_resume_job4_authentic_0_enhanced.pdf\n",
            "\n",
            "🔄 Processing (TEST 2): 86_resume_job3_authentic_0.pdf\n"
          ]
        },
        {
          "name": "stderr",
          "output_type": "stream",
          "text": [
            "WARNING:pdfminer.pdfpage:CropBox missing from /Page, defaulting to MediaBox\n",
            "WARNING:pdfminer.pdfpage:CropBox missing from /Page, defaulting to MediaBox\n"
          ]
        },
        {
          "name": "stdout",
          "output_type": "stream",
          "text": [
            " Selected Sections for Enhancement (2 total):\n",
            "- (DLP).\n",
            "- Header\n",
            "\n",
            "🔹 Enhancing the following sections:\n",
            "✨ Enhancing: (DLP).\n",
            "✨ Enhancing: Header\n"
          ]
        },
        {
          "name": "stderr",
          "output_type": "stream",
          "text": [
            "WARNING:pdfminer.pdfpage:CropBox missing from /Page, defaulting to MediaBox\n",
            "WARNING:pdfminer.pdfpage:CropBox missing from /Page, defaulting to MediaBox\n",
            "WARNING:pdfminer.pdfpage:CropBox missing from /Page, defaulting to MediaBox\n",
            "WARNING:pdfminer.pdfpage:CropBox missing from /Page, defaulting to MediaBox\n"
          ]
        },
        {
          "name": "stdout",
          "output_type": "stream",
          "text": [
            "✅ Enhanced resume saved and ready for download: /content/drive/My Drive/CAPSTONE/authentic_resumes/enhanced_filtered_2_page_resumes/86_resume_job3_authentic_0_enhanced.pdf\n",
            "✅ Finished: 86_resume_job3_authentic_0_enhanced.pdf\n",
            "\n",
            "🔄 Processing (TEST 2): 6_resume_job4_authentic_0.pdf\n",
            " Selected Sections for Enhancement (2 total):\n",
            "-  Optimize the client experience through providing clients with prompt, professional, warm\n",
            "- Header\n",
            "\n",
            "🔹 Enhancing the following sections:\n",
            "✨ Enhancing:  Optimize the client experience through providing clients with prompt, professional, warm\n",
            "✨ Enhancing: Header\n",
            "✅ Enhanced resume saved and ready for download: /content/drive/My Drive/CAPSTONE/authentic_resumes/enhanced_filtered_2_page_resumes/6_resume_job4_authentic_0_enhanced.pdf\n",
            "✅ Finished: 6_resume_job4_authentic_0_enhanced.pdf\n",
            "\n",
            "🔄 Processing (TEST 2): 68_resume_job4_authentic_0.pdf\n",
            " Selected Sections for Enhancement (1 total):\n",
            "- Summary\n",
            "\n",
            "🔹 Enhancing the following sections:\n",
            "✨ Enhancing: Summary\n",
            "✅ Enhanced resume saved and ready for download: /content/drive/My Drive/CAPSTONE/authentic_resumes/enhanced_filtered_2_page_resumes/68_resume_job4_authentic_0_enhanced.pdf\n",
            "✅ Finished: 68_resume_job4_authentic_0_enhanced.pdf\n",
            "\n",
            "🔄 Processing (TEST 2): 24_resume_job4_authentic_0.pdf\n",
            " Selected Sections for Enhancement (2 total):\n",
            "- EDUCATION\n",
            "- points to ensure successful and timely delivery of projects Coalition Technologies 2021\n",
            "\n",
            "🔹 Enhancing the following sections:\n",
            "✨ Enhancing: EDUCATION\n",
            "✨ Enhancing: points to ensure successful and timely delivery of projects Coalition Technologies 2021\n",
            "✅ Enhanced resume saved and ready for download: /content/drive/My Drive/CAPSTONE/authentic_resumes/enhanced_filtered_2_page_resumes/24_resume_job4_authentic_0_enhanced.pdf\n",
            "✅ Finished: 24_resume_job4_authentic_0_enhanced.pdf\n",
            "\n",
            "🔄 Processing (TEST 2): 138_resume_job3_authentic_0.pdf\n",
            " Selected Sections for Enhancement (2 total):\n",
            "- CODS\n",
            "- Education\n",
            "\n",
            "🔹 Enhancing the following sections:\n",
            "✨ Enhancing: CODS\n",
            "✨ Enhancing: Education\n"
          ]
        },
        {
          "name": "stderr",
          "output_type": "stream",
          "text": [
            "WARNING:pdfminer.pdfpage:CropBox missing from /Page, defaulting to MediaBox\n",
            "WARNING:pdfminer.pdfpage:CropBox missing from /Page, defaulting to MediaBox\n"
          ]
        },
        {
          "name": "stdout",
          "output_type": "stream",
          "text": [
            "✅ Enhanced resume saved and ready for download: /content/drive/My Drive/CAPSTONE/authentic_resumes/enhanced_filtered_2_page_resumes/138_resume_job3_authentic_0_enhanced.pdf\n",
            "✅ Finished: 138_resume_job3_authentic_0_enhanced.pdf\n",
            "\n",
            "🔄 Processing (TEST 2): 138_resume_job2_authentic_0.pdf\n"
          ]
        },
        {
          "name": "stderr",
          "output_type": "stream",
          "text": [
            "WARNING:pdfminer.pdfpage:CropBox missing from /Page, defaulting to MediaBox\n",
            "WARNING:pdfminer.pdfpage:CropBox missing from /Page, defaulting to MediaBox\n"
          ]
        },
        {
          "name": "stdout",
          "output_type": "stream",
          "text": [
            " Selected Sections for Enhancement (2 total):\n",
            "- EXPERIENCE SUMMARY\n",
            "- Profiler, SQL Server Query Analyzer, Import/Export tools, SQL\n",
            "\n",
            "🔹 Enhancing the following sections:\n",
            "✨ Enhancing: EXPERIENCE SUMMARY\n",
            "✨ Enhancing: Profiler, SQL Server Query Analyzer, Import/Export tools, SQL\n"
          ]
        },
        {
          "name": "stderr",
          "output_type": "stream",
          "text": [
            "WARNING:pdfminer.pdfpage:CropBox missing from /Page, defaulting to MediaBox\n",
            "WARNING:pdfminer.pdfpage:CropBox missing from /Page, defaulting to MediaBox\n",
            "WARNING:pdfminer.pdfpage:CropBox missing from /Page, defaulting to MediaBox\n",
            "WARNING:pdfminer.pdfpage:CropBox missing from /Page, defaulting to MediaBox\n"
          ]
        },
        {
          "name": "stdout",
          "output_type": "stream",
          "text": [
            "✅ Enhanced resume saved and ready for download: /content/drive/My Drive/CAPSTONE/authentic_resumes/enhanced_filtered_2_page_resumes/138_resume_job2_authentic_0_enhanced.pdf\n",
            "✅ Finished: 138_resume_job2_authentic_0_enhanced.pdf\n",
            "\n",
            "🔄 Processing (TEST 2): 148_resume_job4_authentic_0.pdf\n",
            " Selected Sections for Enhancement (2 total):\n",
            "- Header\n",
            "- PROFESSIONAL EXPERIENCE\n",
            "\n",
            "🔹 Enhancing the following sections:\n",
            "✨ Enhancing: Header\n",
            "✨ Enhancing: PROFESSIONAL EXPERIENCE\n"
          ]
        },
        {
          "name": "stderr",
          "output_type": "stream",
          "text": [
            "WARNING:pdfminer.pdfpage:CropBox missing from /Page, defaulting to MediaBox\n",
            "WARNING:pdfminer.pdfpage:CropBox missing from /Page, defaulting to MediaBox\n"
          ]
        },
        {
          "name": "stdout",
          "output_type": "stream",
          "text": [
            "✅ Enhanced resume saved and ready for download: /content/drive/My Drive/CAPSTONE/authentic_resumes/enhanced_filtered_2_page_resumes/148_resume_job4_authentic_0_enhanced.pdf\n",
            "✅ Finished: 148_resume_job4_authentic_0_enhanced.pdf\n",
            "\n",
            "🔄 Processing (TEST 2): 17_resume_job3_authentic_0.pdf\n"
          ]
        },
        {
          "name": "stderr",
          "output_type": "stream",
          "text": [
            "WARNING:pdfminer.pdfpage:CropBox missing from /Page, defaulting to MediaBox\n",
            "WARNING:pdfminer.pdfpage:CropBox missing from /Page, defaulting to MediaBox\n"
          ]
        },
        {
          "name": "stdout",
          "output_type": "stream",
          "text": [
            " Selected Sections for Enhancement (1 total):\n",
            "- Jacksonville Gamers - Northeast Florida’s premier on-location LAN gaming experience. Hosted “LAN Parties” in various hotels, retail\n",
            "\n",
            "🔹 Enhancing the following sections:\n",
            "✨ Enhancing: Jacksonville Gamers - Northeast Florida’s premier on-location LAN gaming experience. Hosted “LAN Parties” in various hotels, retail\n"
          ]
        },
        {
          "name": "stderr",
          "output_type": "stream",
          "text": [
            "WARNING:pdfminer.pdfpage:CropBox missing from /Page, defaulting to MediaBox\n",
            "WARNING:pdfminer.pdfpage:CropBox missing from /Page, defaulting to MediaBox\n"
          ]
        },
        {
          "name": "stdout",
          "output_type": "stream",
          "text": [
            "✅ Enhanced resume saved and ready for download: /content/drive/My Drive/CAPSTONE/authentic_resumes/enhanced_filtered_2_page_resumes/17_resume_job3_authentic_0_enhanced.pdf\n",
            "✅ Finished: 17_resume_job3_authentic_0_enhanced.pdf\n",
            "\n",
            "🔄 Processing (TEST 2): 5_resume_job4_authentic_0.pdf\n"
          ]
        },
        {
          "name": "stderr",
          "output_type": "stream",
          "text": [
            "WARNING:pdfminer.pdfpage:CropBox missing from /Page, defaulting to MediaBox\n",
            "WARNING:pdfminer.pdfpage:CropBox missing from /Page, defaulting to MediaBox\n"
          ]
        },
        {
          "name": "stdout",
          "output_type": "stream",
          "text": [
            " Selected Sections for Enhancement (2 total):\n",
            "- Education\n",
            "- Professional Summary\n",
            "\n",
            "🔹 Enhancing the following sections:\n",
            "✨ Enhancing: Education\n",
            "✨ Enhancing: Professional Summary\n"
          ]
        },
        {
          "name": "stderr",
          "output_type": "stream",
          "text": [
            "WARNING:pdfminer.pdfpage:CropBox missing from /Page, defaulting to MediaBox\n",
            "WARNING:pdfminer.pdfpage:CropBox missing from /Page, defaulting to MediaBox\n"
          ]
        },
        {
          "name": "stdout",
          "output_type": "stream",
          "text": [
            "✅ Enhanced resume saved and ready for download: /content/drive/My Drive/CAPSTONE/authentic_resumes/enhanced_filtered_2_page_resumes/5_resume_job4_authentic_0_enhanced.pdf\n",
            "✅ Finished: 5_resume_job4_authentic_0_enhanced.pdf\n",
            "\n",
            "🔄 Processing (TEST 2): 137_resume_job4_authentic_0.pdf\n"
          ]
        },
        {
          "name": "stderr",
          "output_type": "stream",
          "text": [
            "WARNING:pdfminer.pdfpage:CropBox missing from /Page, defaulting to MediaBox\n",
            "WARNING:pdfminer.pdfpage:CropBox missing from /Page, defaulting to MediaBox\n"
          ]
        },
        {
          "name": "stdout",
          "output_type": "stream",
          "text": [
            " Selected Sections for Enhancement (1 total):\n",
            "- WORK EXPERIENCE\n",
            "\n",
            "🔹 Enhancing the following sections:\n",
            "✨ Enhancing: WORK EXPERIENCE\n"
          ]
        },
        {
          "name": "stderr",
          "output_type": "stream",
          "text": [
            "WARNING:pdfminer.pdfpage:CropBox missing from /Page, defaulting to MediaBox\n",
            "WARNING:pdfminer.pdfpage:CropBox missing from /Page, defaulting to MediaBox\n"
          ]
        },
        {
          "name": "stdout",
          "output_type": "stream",
          "text": [
            "✅ Enhanced resume saved and ready for download: /content/drive/My Drive/CAPSTONE/authentic_resumes/enhanced_filtered_2_page_resumes/137_resume_job4_authentic_0_enhanced.pdf\n",
            "✅ Finished: 137_resume_job4_authentic_0_enhanced.pdf\n",
            "\n",
            "🔄 Processing (TEST 2): 85_resume_job3_authentic_0.pdf\n"
          ]
        },
        {
          "name": "stderr",
          "output_type": "stream",
          "text": [
            "WARNING:pdfminer.pdfpage:CropBox missing from /Page, defaulting to MediaBox\n",
            "WARNING:pdfminer.pdfpage:CropBox missing from /Page, defaulting to MediaBox\n"
          ]
        },
        {
          "name": "stdout",
          "output_type": "stream",
          "text": [
            " Selected Sections for Enhancement (2 total):\n",
            "- Multilingual: Français, Hebrew, Português, Español, Türkiye and Sign languages\n",
            "- Objective\n",
            "\n",
            "🔹 Enhancing the following sections:\n",
            "✨ Enhancing: Multilingual: Français, Hebrew, Português, Español, Türkiye and Sign languages\n",
            "✨ Enhancing: Objective\n"
          ]
        },
        {
          "name": "stderr",
          "output_type": "stream",
          "text": [
            "WARNING:pdfminer.pdfpage:CropBox missing from /Page, defaulting to MediaBox\n",
            "WARNING:pdfminer.pdfpage:CropBox missing from /Page, defaulting to MediaBox\n"
          ]
        },
        {
          "name": "stdout",
          "output_type": "stream",
          "text": [
            "✅ Enhanced resume saved and ready for download: /content/drive/My Drive/CAPSTONE/authentic_resumes/enhanced_filtered_2_page_resumes/85_resume_job3_authentic_0_enhanced.pdf\n",
            "✅ Finished: 85_resume_job3_authentic_0_enhanced.pdf\n",
            "\n",
            "🔄 Processing (TEST 2): 87_resume_job4_authentic_0.pdf\n"
          ]
        },
        {
          "name": "stderr",
          "output_type": "stream",
          "text": [
            "WARNING:pdfminer.pdfpage:CropBox missing from /Page, defaulting to MediaBox\n",
            "WARNING:pdfminer.pdfpage:CropBox missing from /Page, defaulting to MediaBox\n"
          ]
        },
        {
          "name": "stdout",
          "output_type": "stream",
          "text": [
            " Selected Sections for Enhancement (2 total):\n",
            "- § Project manager for construction projects including schedules and general management of task deliverables.\n",
            "- Contracted to propel process improvement initiatives and stalled projects. Led multiple projects for HR Program Management Office\n",
            "\n",
            "🔹 Enhancing the following sections:\n",
            "✨ Enhancing: § Project manager for construction projects including schedules and general management of task deliverables.\n",
            "✨ Enhancing: Contracted to propel process improvement initiatives and stalled projects. Led multiple projects for HR Program Management Office\n"
          ]
        },
        {
          "name": "stderr",
          "output_type": "stream",
          "text": [
            "WARNING:pdfminer.pdfpage:CropBox missing from /Page, defaulting to MediaBox\n",
            "WARNING:pdfminer.pdfpage:CropBox missing from /Page, defaulting to MediaBox\n"
          ]
        },
        {
          "name": "stdout",
          "output_type": "stream",
          "text": [
            "✅ Enhanced resume saved and ready for download: /content/drive/My Drive/CAPSTONE/authentic_resumes/enhanced_filtered_2_page_resumes/87_resume_job4_authentic_0_enhanced.pdf\n",
            "✅ Finished: 87_resume_job4_authentic_0_enhanced.pdf\n",
            "\n",
            "🔄 Processing (TEST 2): 1_resume_job4_authentic_0.pdf\n"
          ]
        },
        {
          "name": "stderr",
          "output_type": "stream",
          "text": [
            "WARNING:pdfminer.pdfpage:CropBox missing from /Page, defaulting to MediaBox\n",
            "WARNING:pdfminer.pdfpage:CropBox missing from /Page, defaulting to MediaBox\n"
          ]
        },
        {
          "name": "stdout",
          "output_type": "stream",
          "text": [
            " Selected Sections for Enhancement (1 total):\n",
            "-  Assist with multiple projects simultaneously from planning and execution to project closure. Projects consist of\n",
            "\n",
            "🔹 Enhancing the following sections:\n",
            "✨ Enhancing:  Assist with multiple projects simultaneously from planning and execution to project closure. Projects consist of\n"
          ]
        },
        {
          "name": "stderr",
          "output_type": "stream",
          "text": [
            "WARNING:pdfminer.pdfpage:CropBox missing from /Page, defaulting to MediaBox\n",
            "WARNING:pdfminer.pdfpage:CropBox missing from /Page, defaulting to MediaBox\n"
          ]
        },
        {
          "name": "stdout",
          "output_type": "stream",
          "text": [
            "✅ Enhanced resume saved and ready for download: /content/drive/My Drive/CAPSTONE/authentic_resumes/enhanced_filtered_2_page_resumes/1_resume_job4_authentic_0_enhanced.pdf\n",
            "✅ Finished: 1_resume_job4_authentic_0_enhanced.pdf\n",
            "\n",
            "🔄 Processing (TEST 2): 69_resume_job2_authentic_0.pdf\n"
          ]
        },
        {
          "name": "stderr",
          "output_type": "stream",
          "text": [
            "WARNING:pdfminer.pdfpage:CropBox missing from /Page, defaulting to MediaBox\n",
            "WARNING:pdfminer.pdfpage:CropBox missing from /Page, defaulting to MediaBox\n"
          ]
        },
        {
          "name": "stdout",
          "output_type": "stream",
          "text": [
            " Selected Sections for Enhancement (1 total):\n",
            "- PROFESSIONAL EXPERIENCE\n",
            "\n",
            "🔹 Enhancing the following sections:\n",
            "✨ Enhancing: PROFESSIONAL EXPERIENCE\n"
          ]
        },
        {
          "name": "stderr",
          "output_type": "stream",
          "text": [
            "WARNING:pdfminer.pdfpage:CropBox missing from /Page, defaulting to MediaBox\n",
            "WARNING:pdfminer.pdfpage:CropBox missing from /Page, defaulting to MediaBox\n"
          ]
        },
        {
          "name": "stdout",
          "output_type": "stream",
          "text": [
            "✅ Enhanced resume saved and ready for download: /content/drive/My Drive/CAPSTONE/authentic_resumes/enhanced_filtered_2_page_resumes/69_resume_job2_authentic_0_enhanced.pdf\n",
            "✅ Finished: 69_resume_job2_authentic_0_enhanced.pdf\n",
            "\n",
            "🔄 Processing (TEST 2): 18_resume_job4_authentic_0.pdf\n"
          ]
        },
        {
          "name": "stderr",
          "output_type": "stream",
          "text": [
            "WARNING:pdfminer.pdfpage:CropBox missing from /Page, defaulting to MediaBox\n",
            "WARNING:pdfminer.pdfpage:CropBox missing from /Page, defaulting to MediaBox\n"
          ]
        },
        {
          "name": "stdout",
          "output_type": "stream",
          "text": [
            " Selected Sections for Enhancement (1 total):\n",
            "- PUBLICATION\n",
            "\n",
            "🔹 Enhancing the following sections:\n",
            "✨ Enhancing: PUBLICATION\n"
          ]
        },
        {
          "name": "stderr",
          "output_type": "stream",
          "text": [
            "WARNING:pdfminer.pdfpage:CropBox missing from /Page, defaulting to MediaBox\n",
            "WARNING:pdfminer.pdfpage:CropBox missing from /Page, defaulting to MediaBox\n"
          ]
        },
        {
          "name": "stdout",
          "output_type": "stream",
          "text": [
            "✅ Enhanced resume saved and ready for download: /content/drive/My Drive/CAPSTONE/authentic_resumes/enhanced_filtered_2_page_resumes/18_resume_job4_authentic_0_enhanced.pdf\n",
            "✅ Finished: 18_resume_job4_authentic_0_enhanced.pdf\n",
            "\n",
            "🔄 Processing (TEST 2): 52_resume_job3_authentic_0.pdf\n"
          ]
        },
        {
          "name": "stderr",
          "output_type": "stream",
          "text": [
            "WARNING:pdfminer.pdfpage:CropBox missing from /Page, defaulting to MediaBox\n",
            "WARNING:pdfminer.pdfpage:CropBox missing from /Page, defaulting to MediaBox\n"
          ]
        },
        {
          "name": "stdout",
          "output_type": "stream",
          "text": [
            " Selected Sections for Enhancement (1 total):\n",
            "- ProgrammingLanguages:Python,Java,Html,CSS\n",
            "\n",
            "🔹 Enhancing the following sections:\n",
            "✨ Enhancing: ProgrammingLanguages:Python,Java,Html,CSS\n"
          ]
        },
        {
          "name": "stderr",
          "output_type": "stream",
          "text": [
            "WARNING:pdfminer.pdfpage:CropBox missing from /Page, defaulting to MediaBox\n",
            "WARNING:pdfminer.pdfpage:CropBox missing from /Page, defaulting to MediaBox\n"
          ]
        },
        {
          "name": "stdout",
          "output_type": "stream",
          "text": [
            "✅ Enhanced resume saved and ready for download: /content/drive/My Drive/CAPSTONE/authentic_resumes/enhanced_filtered_2_page_resumes/52_resume_job3_authentic_0_enhanced.pdf\n",
            "✅ Finished: 52_resume_job3_authentic_0_enhanced.pdf\n",
            "\n",
            "🔄 Processing (TEST 2): 112_resume_job3_authentic_0.pdf\n"
          ]
        },
        {
          "name": "stderr",
          "output_type": "stream",
          "text": [
            "WARNING:pdfminer.pdfpage:CropBox missing from /Page, defaulting to MediaBox\n",
            "WARNING:pdfminer.pdfpage:CropBox missing from /Page, defaulting to MediaBox\n"
          ]
        },
        {
          "name": "stdout",
          "output_type": "stream",
          "text": [
            " Selected Sections for Enhancement (2 total):\n",
            "- Knowledgeable and qualified Network Engineer with over 3 years of experience in network design, network administration,\n",
            "- Profile\n",
            "\n",
            "🔹 Enhancing the following sections:\n",
            "✨ Enhancing: Knowledgeable and qualified Network Engineer with over 3 years of experience in network design, network administration,\n",
            "✨ Enhancing: Profile\n",
            "✅ Enhanced resume saved and ready for download: /content/drive/My Drive/CAPSTONE/authentic_resumes/enhanced_filtered_2_page_resumes/112_resume_job3_authentic_0_enhanced.pdf\n",
            "✅ Finished: 112_resume_job3_authentic_0_enhanced.pdf\n",
            "\n",
            "🔄 Processing (TEST 2): 17_resume_job4_authentic_0.pdf\n",
            " Selected Sections for Enhancement (2 total):\n",
            "- Header\n",
            "- PMO\n",
            "\n",
            "🔹 Enhancing the following sections:\n",
            "✨ Enhancing: Header\n",
            "✨ Enhancing: PMO\n",
            "✅ Enhanced resume saved and ready for download: /content/drive/My Drive/CAPSTONE/authentic_resumes/enhanced_filtered_2_page_resumes/17_resume_job4_authentic_0_enhanced.pdf\n",
            "✅ Finished: 17_resume_job4_authentic_0_enhanced.pdf\n",
            "\n",
            "🔄 Processing (TEST 2): 132_resume_job3_authentic_0.pdf\n",
            " Selected Sections for Enhancement (1 total):\n",
            "- Work Experience\n",
            "\n",
            "🔹 Enhancing the following sections:\n",
            "✨ Enhancing: Work Experience\n"
          ]
        },
        {
          "name": "stderr",
          "output_type": "stream",
          "text": [
            "WARNING:pdfminer.pdfpage:CropBox missing from /Page, defaulting to MediaBox\n",
            "WARNING:pdfminer.pdfpage:CropBox missing from /Page, defaulting to MediaBox\n"
          ]
        },
        {
          "name": "stdout",
          "output_type": "stream",
          "text": [
            "✅ Enhanced resume saved and ready for download: /content/drive/My Drive/CAPSTONE/authentic_resumes/enhanced_filtered_2_page_resumes/132_resume_job3_authentic_0_enhanced.pdf\n",
            "✅ Finished: 132_resume_job3_authentic_0_enhanced.pdf\n",
            "\n",
            "🔄 Processing (TEST 2): 39_resume_job3_authentic_0.pdf\n"
          ]
        },
        {
          "name": "stderr",
          "output_type": "stream",
          "text": [
            "WARNING:pdfminer.pdfpage:CropBox missing from /Page, defaulting to MediaBox\n",
            "WARNING:pdfminer.pdfpage:CropBox missing from /Page, defaulting to MediaBox\n"
          ]
        },
        {
          "name": "stdout",
          "output_type": "stream",
          "text": [
            " Selected Sections for Enhancement (2 total):\n",
            "- learning and developing skills, especially in Electronics and Networking.\n",
            "- CONTACT\n",
            "\n",
            "🔹 Enhancing the following sections:\n",
            "✨ Enhancing: learning and developing skills, especially in Electronics and Networking.\n",
            "✨ Enhancing: CONTACT\n"
          ]
        },
        {
          "name": "stderr",
          "output_type": "stream",
          "text": [
            "WARNING:pdfminer.pdfpage:CropBox missing from /Page, defaulting to MediaBox\n",
            "WARNING:pdfminer.pdfpage:CropBox missing from /Page, defaulting to MediaBox\n",
            "WARNING:pdfminer.pdfpage:CropBox missing from /Page, defaulting to MediaBox\n",
            "WARNING:pdfminer.pdfpage:CropBox missing from /Page, defaulting to MediaBox\n"
          ]
        },
        {
          "name": "stdout",
          "output_type": "stream",
          "text": [
            "✅ Enhanced resume saved and ready for download: /content/drive/My Drive/CAPSTONE/authentic_resumes/enhanced_filtered_2_page_resumes/39_resume_job3_authentic_0_enhanced.pdf\n",
            "✅ Finished: 39_resume_job3_authentic_0_enhanced.pdf\n",
            "\n",
            "🔄 Processing (TEST 2): 24_resume_job3_authentic_0.pdf\n",
            " Selected Sections for Enhancement (2 total):\n",
            "- Header\n",
            "-  Cisco Certified Network Associate (2018-  20+ years of managerial experience\n",
            "\n",
            "🔹 Enhancing the following sections:\n",
            "✨ Enhancing: Header\n",
            "✨ Enhancing:  Cisco Certified Network Associate (2018-  20+ years of managerial experience\n"
          ]
        },
        {
          "name": "stderr",
          "output_type": "stream",
          "text": [
            "WARNING:pdfminer.pdfpage:CropBox missing from /Page, defaulting to MediaBox\n",
            "WARNING:pdfminer.pdfpage:CropBox missing from /Page, defaulting to MediaBox\n",
            "WARNING:pdfminer.pdfpage:CropBox missing from /Page, defaulting to MediaBox\n",
            "WARNING:pdfminer.pdfpage:CropBox missing from /Page, defaulting to MediaBox\n"
          ]
        },
        {
          "name": "stdout",
          "output_type": "stream",
          "text": [
            "✅ Enhanced resume saved and ready for download: /content/drive/My Drive/CAPSTONE/authentic_resumes/enhanced_filtered_2_page_resumes/24_resume_job3_authentic_0_enhanced.pdf\n",
            "✅ Finished: 24_resume_job3_authentic_0_enhanced.pdf\n",
            "\n",
            "🔄 Processing (TEST 2): 125_resume_job4_authentic_0.pdf\n",
            " Selected Sections for Enhancement (1 total):\n",
            "- CASEY L TERRY\n",
            "\n",
            "🔹 Enhancing the following sections:\n",
            "✨ Enhancing: CASEY L TERRY\n",
            "✅ Enhanced resume saved and ready for download: /content/drive/My Drive/CAPSTONE/authentic_resumes/enhanced_filtered_2_page_resumes/125_resume_job4_authentic_0_enhanced.pdf\n",
            "✅ Finished: 125_resume_job4_authentic_0_enhanced.pdf\n",
            "\n",
            "🔄 Processing (TEST 2): 135_resume_job4_authentic_0.pdf\n",
            " Selected Sections for Enhancement (2 total):\n",
            "- Header\n",
            "- Connected with participants to provide required documents and required links for educational objectives.\n",
            "\n",
            "🔹 Enhancing the following sections:\n",
            "✨ Enhancing: Header\n",
            "✨ Enhancing: Connected with participants to provide required documents and required links for educational objectives.\n"
          ]
        },
        {
          "name": "stderr",
          "output_type": "stream",
          "text": [
            "WARNING:pdfminer.pdfpage:CropBox missing from /Page, defaulting to MediaBox\n",
            "WARNING:pdfminer.pdfpage:CropBox missing from /Page, defaulting to MediaBox\n"
          ]
        },
        {
          "name": "stdout",
          "output_type": "stream",
          "text": [
            "✅ Enhanced resume saved and ready for download: /content/drive/My Drive/CAPSTONE/authentic_resumes/enhanced_filtered_2_page_resumes/135_resume_job4_authentic_0_enhanced.pdf\n",
            "✅ Finished: 135_resume_job4_authentic_0_enhanced.pdf\n",
            "\n",
            "🔄 Processing (TEST 2): 110_resume_job3_authentic_0.pdf\n"
          ]
        },
        {
          "name": "stderr",
          "output_type": "stream",
          "text": [
            "WARNING:pdfminer.pdfpage:CropBox missing from /Page, defaulting to MediaBox\n",
            "WARNING:pdfminer.pdfpage:CropBox missing from /Page, defaulting to MediaBox\n"
          ]
        },
        {
          "name": "stdout",
          "output_type": "stream",
          "text": [
            " Selected Sections for Enhancement (1 total):\n",
            "- COMMUNICATION\n",
            "\n",
            "🔹 Enhancing the following sections:\n",
            "✨ Enhancing: COMMUNICATION\n",
            "✅ Enhanced resume saved and ready for download: /content/drive/My Drive/CAPSTONE/authentic_resumes/enhanced_filtered_2_page_resumes/110_resume_job3_authentic_0_enhanced.pdf\n",
            "✅ Finished: 110_resume_job3_authentic_0_enhanced.pdf\n",
            "\n",
            "🔄 Processing (TEST 2): 91_resume_job4_authentic_0.pdf\n",
            " Selected Sections for Enhancement (2 total):\n",
            "- Excel, Word, and Outlook skills to creating spreadsheets, pamphlets.\n",
            "- Certifications and Licenses\n",
            "\n",
            "🔹 Enhancing the following sections:\n",
            "✨ Enhancing: Excel, Word, and Outlook skills to creating spreadsheets, pamphlets.\n",
            "✨ Enhancing: Certifications and Licenses\n"
          ]
        },
        {
          "name": "stderr",
          "output_type": "stream",
          "text": [
            "WARNING:pdfminer.pdfpage:CropBox missing from /Page, defaulting to MediaBox\n",
            "WARNING:pdfminer.pdfpage:CropBox missing from /Page, defaulting to MediaBox\n"
          ]
        },
        {
          "name": "stdout",
          "output_type": "stream",
          "text": [
            "✅ Enhanced resume saved and ready for download: /content/drive/My Drive/CAPSTONE/authentic_resumes/enhanced_filtered_2_page_resumes/91_resume_job4_authentic_0_enhanced.pdf\n",
            "✅ Finished: 91_resume_job4_authentic_0_enhanced.pdf\n",
            "\n",
            "🔄 Processing (TEST 2): 126_resume_job3_authentic_0.pdf\n"
          ]
        },
        {
          "name": "stderr",
          "output_type": "stream",
          "text": [
            "WARNING:pdfminer.pdfpage:CropBox missing from /Page, defaulting to MediaBox\n",
            "WARNING:pdfminer.pdfpage:CropBox missing from /Page, defaulting to MediaBox\n"
          ]
        },
        {
          "name": "stdout",
          "output_type": "stream",
          "text": [
            " Selected Sections for Enhancement (1 total):\n",
            "- PROFESSIONAL DEVELOPMENT & CERTIFICATIONS\n",
            "\n",
            "🔹 Enhancing the following sections:\n",
            "✨ Enhancing: PROFESSIONAL DEVELOPMENT & CERTIFICATIONS\n"
          ]
        },
        {
          "name": "stderr",
          "output_type": "stream",
          "text": [
            "WARNING:pdfminer.pdfpage:CropBox missing from /Page, defaulting to MediaBox\n",
            "WARNING:pdfminer.pdfpage:CropBox missing from /Page, defaulting to MediaBox\n"
          ]
        },
        {
          "name": "stdout",
          "output_type": "stream",
          "text": [
            "✅ Enhanced resume saved and ready for download: /content/drive/My Drive/CAPSTONE/authentic_resumes/enhanced_filtered_2_page_resumes/126_resume_job3_authentic_0_enhanced.pdf\n",
            "✅ Finished: 126_resume_job3_authentic_0_enhanced.pdf\n",
            "\n",
            "🔄 Processing (TEST 2): 116_resume_job4_authentic_0.pdf\n"
          ]
        },
        {
          "name": "stderr",
          "output_type": "stream",
          "text": [
            "WARNING:pdfminer.pdfpage:CropBox missing from /Page, defaulting to MediaBox\n",
            "WARNING:pdfminer.pdfpage:CropBox missing from /Page, defaulting to MediaBox\n"
          ]
        },
        {
          "name": "stdout",
          "output_type": "stream",
          "text": [
            " Selected Sections for Enhancement (2 total):\n",
            "- Education\n",
            "- • Introduced the projects module to track infrastructure projects in the Ivanti Heat ITSM platform.\n",
            "\n",
            "🔹 Enhancing the following sections:\n",
            "✨ Enhancing: Education\n",
            "✨ Enhancing: • Introduced the projects module to track infrastructure projects in the Ivanti Heat ITSM platform.\n"
          ]
        },
        {
          "name": "stderr",
          "output_type": "stream",
          "text": [
            "WARNING:pdfminer.pdfpage:CropBox missing from /Page, defaulting to MediaBox\n",
            "WARNING:pdfminer.pdfpage:CropBox missing from /Page, defaulting to MediaBox\n",
            "WARNING:pdfminer.pdfpage:CropBox missing from /Page, defaulting to MediaBox\n",
            "WARNING:pdfminer.pdfpage:CropBox missing from /Page, defaulting to MediaBox\n"
          ]
        },
        {
          "name": "stdout",
          "output_type": "stream",
          "text": [
            "✅ Enhanced resume saved and ready for download: /content/drive/My Drive/CAPSTONE/authentic_resumes/enhanced_filtered_2_page_resumes/116_resume_job4_authentic_0_enhanced.pdf\n",
            "✅ Finished: 116_resume_job4_authentic_0_enhanced.pdf\n",
            "\n",
            "🔄 Processing (TEST 2): 20_resume_job3_authentic_0.pdf\n",
            " Selected Sections for Enhancement (1 total):\n",
            "- Certifications\n",
            "\n",
            "🔹 Enhancing the following sections:\n",
            "✨ Enhancing: Certifications\n"
          ]
        },
        {
          "name": "stderr",
          "output_type": "stream",
          "text": [
            "WARNING:pdfminer.pdfpage:CropBox missing from /Page, defaulting to MediaBox\n",
            "WARNING:pdfminer.pdfpage:CropBox missing from /Page, defaulting to MediaBox\n"
          ]
        },
        {
          "name": "stdout",
          "output_type": "stream",
          "text": [
            "✅ Enhanced resume saved and ready for download: /content/drive/My Drive/CAPSTONE/authentic_resumes/enhanced_filtered_2_page_resumes/20_resume_job3_authentic_0_enhanced.pdf\n",
            "✅ Finished: 20_resume_job3_authentic_0_enhanced.pdf\n",
            "\n",
            "🔄 Processing (TEST 2): 100_resume_job4_authentic_0.pdf\n"
          ]
        },
        {
          "name": "stderr",
          "output_type": "stream",
          "text": [
            "WARNING:pdfminer.pdfpage:CropBox missing from /Page, defaulting to MediaBox\n",
            "WARNING:pdfminer.pdfpage:CropBox missing from /Page, defaulting to MediaBox\n"
          ]
        },
        {
          "name": "stdout",
          "output_type": "stream",
          "text": [
            " Selected Sections for Enhancement (1 total):\n",
            "- effective presentation skills\n",
            "\n",
            "🔹 Enhancing the following sections:\n",
            "✨ Enhancing: effective presentation skills\n"
          ]
        },
        {
          "name": "stderr",
          "output_type": "stream",
          "text": [
            "WARNING:pdfminer.pdfpage:CropBox missing from /Page, defaulting to MediaBox\n",
            "WARNING:pdfminer.pdfpage:CropBox missing from /Page, defaulting to MediaBox\n"
          ]
        },
        {
          "name": "stdout",
          "output_type": "stream",
          "text": [
            "✅ Enhanced resume saved and ready for download: /content/drive/My Drive/CAPSTONE/authentic_resumes/enhanced_filtered_2_page_resumes/100_resume_job4_authentic_0_enhanced.pdf\n",
            "✅ Finished: 100_resume_job4_authentic_0_enhanced.pdf\n",
            "\n",
            "🔄 Processing (TEST 2): 45_resume_job3_authentic_0.pdf\n"
          ]
        },
        {
          "name": "stderr",
          "output_type": "stream",
          "text": [
            "WARNING:pdfminer.pdfpage:CropBox missing from /Page, defaulting to MediaBox\n",
            "WARNING:pdfminer.pdfpage:CropBox missing from /Page, defaulting to MediaBox\n"
          ]
        },
        {
          "name": "stdout",
          "output_type": "stream",
          "text": [
            " Selected Sections for Enhancement (1 total):\n",
            "- organizational goals by directing IT projects from inception to execution, providing robust solutions that\n",
            "\n",
            "🔹 Enhancing the following sections:\n",
            "✨ Enhancing: organizational goals by directing IT projects from inception to execution, providing robust solutions that\n"
          ]
        },
        {
          "name": "stderr",
          "output_type": "stream",
          "text": [
            "WARNING:pdfminer.pdfpage:CropBox missing from /Page, defaulting to MediaBox\n",
            "WARNING:pdfminer.pdfpage:CropBox missing from /Page, defaulting to MediaBox\n"
          ]
        },
        {
          "name": "stdout",
          "output_type": "stream",
          "text": [
            "✅ Enhanced resume saved and ready for download: /content/drive/My Drive/CAPSTONE/authentic_resumes/enhanced_filtered_2_page_resumes/45_resume_job3_authentic_0_enhanced.pdf\n",
            "✅ Finished: 45_resume_job3_authentic_0_enhanced.pdf\n",
            "\n",
            "🔄 Processing (TEST 2): 83_resume_job3_authentic_0.pdf\n"
          ]
        },
        {
          "name": "stderr",
          "output_type": "stream",
          "text": [
            "WARNING:pdfminer.pdfpage:CropBox missing from /Page, defaulting to MediaBox\n",
            "WARNING:pdfminer.pdfpage:CropBox missing from /Page, defaulting to MediaBox\n"
          ]
        },
        {
          "name": "stdout",
          "output_type": "stream",
          "text": [
            " Selected Sections for Enhancement (2 total):\n",
            "- TECHNICAL SKILLS\n",
            "- Header\n",
            "\n",
            "🔹 Enhancing the following sections:\n",
            "✨ Enhancing: TECHNICAL SKILLS\n",
            "✨ Enhancing: Header\n"
          ]
        },
        {
          "name": "stderr",
          "output_type": "stream",
          "text": [
            "WARNING:pdfminer.pdfpage:CropBox missing from /Page, defaulting to MediaBox\n",
            "WARNING:pdfminer.pdfpage:CropBox missing from /Page, defaulting to MediaBox\n"
          ]
        },
        {
          "name": "stdout",
          "output_type": "stream",
          "text": [
            "✅ Enhanced resume saved and ready for download: /content/drive/My Drive/CAPSTONE/authentic_resumes/enhanced_filtered_2_page_resumes/83_resume_job3_authentic_0_enhanced.pdf\n",
            "✅ Finished: 83_resume_job3_authentic_0_enhanced.pdf\n",
            "\n",
            "🔄 Processing (TEST 2): 27_resume_job4_authentic_0.pdf\n"
          ]
        },
        {
          "name": "stderr",
          "output_type": "stream",
          "text": [
            "WARNING:pdfminer.pdfpage:CropBox missing from /Page, defaulting to MediaBox\n",
            "WARNING:pdfminer.pdfpage:CropBox missing from /Page, defaulting to MediaBox\n"
          ]
        },
        {
          "name": "stdout",
          "output_type": "stream",
          "text": [
            " Selected Sections for Enhancement (2 total):\n",
            "- GPA: 3.50\n",
            "- New South Wales Technical and Further Education Commission Australia\n",
            "\n",
            "🔹 Enhancing the following sections:\n",
            "✨ Enhancing: GPA: 3.50\n",
            "✨ Enhancing: New South Wales Technical and Further Education Commission Australia\n"
          ]
        },
        {
          "name": "stderr",
          "output_type": "stream",
          "text": [
            "WARNING:pdfminer.pdfpage:CropBox missing from /Page, defaulting to MediaBox\n",
            "WARNING:pdfminer.pdfpage:CropBox missing from /Page, defaulting to MediaBox\n"
          ]
        },
        {
          "name": "stdout",
          "output_type": "stream",
          "text": [
            "✅ Enhanced resume saved and ready for download: /content/drive/My Drive/CAPSTONE/authentic_resumes/enhanced_filtered_2_page_resumes/27_resume_job4_authentic_0_enhanced.pdf\n",
            "✅ Finished: 27_resume_job4_authentic_0_enhanced.pdf\n",
            "\n",
            "🔄 Processing (TEST 2): 20_resume_job4_authentic_0.pdf\n"
          ]
        },
        {
          "name": "stderr",
          "output_type": "stream",
          "text": [
            "WARNING:pdfminer.pdfpage:CropBox missing from /Page, defaulting to MediaBox\n",
            "WARNING:pdfminer.pdfpage:CropBox missing from /Page, defaulting to MediaBox\n"
          ]
        },
        {
          "name": "stdout",
          "output_type": "stream",
          "text": [
            " Selected Sections for Enhancement (2 total):\n",
            "- identifying and capitalizing on projects to align products with customer business requirements, resulting in on time, and\n",
            "- ● Worked closely with manufacturer to introduce process for expediting materials to clients for their projects, yielding a 32%\n",
            "\n",
            "🔹 Enhancing the following sections:\n",
            "✨ Enhancing: identifying and capitalizing on projects to align products with customer business requirements, resulting in on time, and\n",
            "✨ Enhancing: ● Worked closely with manufacturer to introduce process for expediting materials to clients for their projects, yielding a 32%\n"
          ]
        },
        {
          "name": "stderr",
          "output_type": "stream",
          "text": [
            "WARNING:pdfminer.pdfpage:CropBox missing from /Page, defaulting to MediaBox\n",
            "WARNING:pdfminer.pdfpage:CropBox missing from /Page, defaulting to MediaBox\n"
          ]
        },
        {
          "name": "stdout",
          "output_type": "stream",
          "text": [
            "✅ Enhanced resume saved and ready for download: /content/drive/My Drive/CAPSTONE/authentic_resumes/enhanced_filtered_2_page_resumes/20_resume_job4_authentic_0_enhanced.pdf\n",
            "✅ Finished: 20_resume_job4_authentic_0_enhanced.pdf\n",
            "\n",
            "🔄 Processing (TEST 2): 108_resume_job4_authentic_0.pdf\n"
          ]
        },
        {
          "name": "stderr",
          "output_type": "stream",
          "text": [
            "WARNING:pdfminer.pdfpage:CropBox missing from /Page, defaulting to MediaBox\n",
            "WARNING:pdfminer.pdfpage:CropBox missing from /Page, defaulting to MediaBox\n"
          ]
        },
        {
          "name": "stdout",
          "output_type": "stream",
          "text": [
            " Selected Sections for Enhancement (1 total):\n",
            "- airline In-Flight Entertainment Hardware and software quality assurance projects, driving engineering activities to ensure\n",
            "\n",
            "🔹 Enhancing the following sections:\n",
            "✨ Enhancing: airline In-Flight Entertainment Hardware and software quality assurance projects, driving engineering activities to ensure\n"
          ]
        },
        {
          "name": "stderr",
          "output_type": "stream",
          "text": [
            "WARNING:pdfminer.pdfpage:CropBox missing from /Page, defaulting to MediaBox\n",
            "WARNING:pdfminer.pdfpage:CropBox missing from /Page, defaulting to MediaBox\n"
          ]
        },
        {
          "name": "stdout",
          "output_type": "stream",
          "text": [
            "✅ Enhanced resume saved and ready for download: /content/drive/My Drive/CAPSTONE/authentic_resumes/enhanced_filtered_2_page_resumes/108_resume_job4_authentic_0_enhanced.pdf\n",
            "✅ Finished: 108_resume_job4_authentic_0_enhanced.pdf\n",
            "\n",
            "🔄 Processing (TEST 2): 45_resume_job4_authentic_0.pdf\n"
          ]
        },
        {
          "name": "stderr",
          "output_type": "stream",
          "text": [
            "WARNING:pdfminer.pdfpage:CropBox missing from /Page, defaulting to MediaBox\n",
            "WARNING:pdfminer.pdfpage:CropBox missing from /Page, defaulting to MediaBox\n"
          ]
        },
        {
          "name": "stdout",
          "output_type": "stream",
          "text": [
            " Selected Sections for Enhancement (2 total):\n",
            "- • Demonstrated experience in using business drawing software tool Axure for creating mockups\n",
            "- • Involved in design, coding, development, testing of SAP artifacts in implementation, support projects. Worked on\n",
            "\n",
            "🔹 Enhancing the following sections:\n",
            "✨ Enhancing: • Demonstrated experience in using business drawing software tool Axure for creating mockups\n",
            "✨ Enhancing: • Involved in design, coding, development, testing of SAP artifacts in implementation, support projects. Worked on\n"
          ]
        },
        {
          "name": "stderr",
          "output_type": "stream",
          "text": [
            "WARNING:pdfminer.pdfpage:CropBox missing from /Page, defaulting to MediaBox\n",
            "WARNING:pdfminer.pdfpage:CropBox missing from /Page, defaulting to MediaBox\n"
          ]
        },
        {
          "name": "stdout",
          "output_type": "stream",
          "text": [
            "✅ Enhanced resume saved and ready for download: /content/drive/My Drive/CAPSTONE/authentic_resumes/enhanced_filtered_2_page_resumes/45_resume_job4_authentic_0_enhanced.pdf\n",
            "✅ Finished: 45_resume_job4_authentic_0_enhanced.pdf\n",
            "\n",
            "🔄 Processing (TEST 2): 67_resume_job4_authentic_0.pdf\n"
          ]
        },
        {
          "name": "stderr",
          "output_type": "stream",
          "text": [
            "WARNING:pdfminer.pdfpage:CropBox missing from /Page, defaulting to MediaBox\n",
            "WARNING:pdfminer.pdfpage:CropBox missing from /Page, defaulting to MediaBox\n"
          ]
        },
        {
          "name": "stdout",
          "output_type": "stream",
          "text": [
            " Selected Sections for Enhancement (1 total):\n",
            "- Produced educational programs tailored specifically to build an environment conducive and imperative to\n",
            "\n",
            "🔹 Enhancing the following sections:\n",
            "✨ Enhancing: Produced educational programs tailored specifically to build an environment conducive and imperative to\n"
          ]
        },
        {
          "name": "stderr",
          "output_type": "stream",
          "text": [
            "WARNING:pdfminer.pdfpage:CropBox missing from /Page, defaulting to MediaBox\n",
            "WARNING:pdfminer.pdfpage:CropBox missing from /Page, defaulting to MediaBox\n"
          ]
        },
        {
          "name": "stdout",
          "output_type": "stream",
          "text": [
            "✅ Enhanced resume saved and ready for download: /content/drive/My Drive/CAPSTONE/authentic_resumes/enhanced_filtered_2_page_resumes/67_resume_job4_authentic_0_enhanced.pdf\n",
            "✅ Finished: 67_resume_job4_authentic_0_enhanced.pdf\n",
            "\n",
            "🔄 Processing (TEST 2): 98_resume_job4_authentic_0.pdf\n"
          ]
        },
        {
          "name": "stderr",
          "output_type": "stream",
          "text": [
            "WARNING:pdfminer.pdfpage:CropBox missing from /Page, defaulting to MediaBox\n",
            "WARNING:pdfminer.pdfpage:CropBox missing from /Page, defaulting to MediaBox\n"
          ]
        },
        {
          "name": "stdout",
          "output_type": "stream",
          "text": [
            " Selected Sections for Enhancement (1 total):\n",
            "- C#\n",
            "\n",
            "🔹 Enhancing the following sections:\n",
            "✨ Enhancing: C#\n"
          ]
        },
        {
          "name": "stderr",
          "output_type": "stream",
          "text": [
            "WARNING:pdfminer.pdfpage:CropBox missing from /Page, defaulting to MediaBox\n",
            "WARNING:pdfminer.pdfpage:CropBox missing from /Page, defaulting to MediaBox\n"
          ]
        },
        {
          "name": "stdout",
          "output_type": "stream",
          "text": [
            "✅ Enhanced resume saved and ready for download: /content/drive/My Drive/CAPSTONE/authentic_resumes/enhanced_filtered_2_page_resumes/98_resume_job4_authentic_0_enhanced.pdf\n",
            "✅ Finished: 98_resume_job4_authentic_0_enhanced.pdf\n",
            "\n",
            "🔄 Processing (TEST 2): 102_resume_job4_authentic_0.pdf\n"
          ]
        },
        {
          "name": "stderr",
          "output_type": "stream",
          "text": [
            "WARNING:pdfminer.pdfpage:CropBox missing from /Page, defaulting to MediaBox\n",
            "WARNING:pdfminer.pdfpage:CropBox missing from /Page, defaulting to MediaBox\n"
          ]
        },
        {
          "name": "stdout",
          "output_type": "stream",
          "text": [
            " Selected Sections for Enhancement (1 total):\n",
            "- EDUCATION\n",
            "\n",
            "🔹 Enhancing the following sections:\n",
            "✨ Enhancing: EDUCATION\n"
          ]
        },
        {
          "name": "stderr",
          "output_type": "stream",
          "text": [
            "WARNING:pdfminer.pdfpage:CropBox missing from /Page, defaulting to MediaBox\n",
            "WARNING:pdfminer.pdfpage:CropBox missing from /Page, defaulting to MediaBox\n"
          ]
        },
        {
          "name": "stdout",
          "output_type": "stream",
          "text": [
            "✅ Enhanced resume saved and ready for download: /content/drive/My Drive/CAPSTONE/authentic_resumes/enhanced_filtered_2_page_resumes/102_resume_job4_authentic_0_enhanced.pdf\n",
            "✅ Finished: 102_resume_job4_authentic_0_enhanced.pdf\n",
            "\n",
            "🔄 Processing (TEST 2): 126_resume_job4_authentic_0.pdf\n"
          ]
        },
        {
          "name": "stderr",
          "output_type": "stream",
          "text": [
            "WARNING:pdfminer.pdfpage:CropBox missing from /Page, defaulting to MediaBox\n",
            "WARNING:pdfminer.pdfpage:CropBox missing from /Page, defaulting to MediaBox\n"
          ]
        },
        {
          "name": "stdout",
          "output_type": "stream",
          "text": [
            " Selected Sections for Enhancement (2 total):\n",
            "- vetted the company’s regulatory filings, licenses, permits, and franchises as part of the acquisition\n",
            "- • Developed and implemented a strategy to obtain and renew necessary telecommunications licenses or\n",
            "\n",
            "🔹 Enhancing the following sections:\n",
            "✨ Enhancing: vetted the company’s regulatory filings, licenses, permits, and franchises as part of the acquisition\n",
            "✨ Enhancing: • Developed and implemented a strategy to obtain and renew necessary telecommunications licenses or\n",
            "✅ Enhanced resume saved and ready for download: /content/drive/My Drive/CAPSTONE/authentic_resumes/enhanced_filtered_2_page_resumes/126_resume_job4_authentic_0_enhanced.pdf\n",
            "✅ Finished: 126_resume_job4_authentic_0_enhanced.pdf\n",
            "\n",
            "🔄 Processing (TEST 2): 128_resume_job2_authentic_0.pdf\n",
            " Selected Sections for Enhancement (2 total):\n",
            "- Education\n",
            "- • XML\n",
            "\n",
            "🔹 Enhancing the following sections:\n",
            "✨ Enhancing: Education\n",
            "✨ Enhancing: • XML\n",
            "✅ Enhanced resume saved and ready for download: /content/drive/My Drive/CAPSTONE/authentic_resumes/enhanced_filtered_2_page_resumes/128_resume_job2_authentic_0_enhanced.pdf\n",
            "✅ Finished: 128_resume_job2_authentic_0_enhanced.pdf\n",
            "\n",
            "🔄 Processing (TEST 2): 55_resume_job2_authentic_0.pdf\n",
            " Selected Sections for Enhancement (1 total):\n",
            "- Header\n",
            "\n",
            "🔹 Enhancing the following sections:\n",
            "✨ Enhancing: Header\n"
          ]
        },
        {
          "name": "stderr",
          "output_type": "stream",
          "text": [
            "WARNING:pdfminer.pdfpage:CropBox missing from /Page, defaulting to MediaBox\n",
            "WARNING:pdfminer.pdfpage:CropBox missing from /Page, defaulting to MediaBox\n"
          ]
        },
        {
          "name": "stdout",
          "output_type": "stream",
          "text": [
            "✅ Enhanced resume saved and ready for download: /content/drive/My Drive/CAPSTONE/authentic_resumes/enhanced_filtered_2_page_resumes/55_resume_job2_authentic_0_enhanced.pdf\n",
            "✅ Finished: 55_resume_job2_authentic_0_enhanced.pdf\n",
            "\n",
            "🔄 Processing (TEST 2): 51_resume_job2_authentic_0.pdf\n"
          ]
        },
        {
          "name": "stderr",
          "output_type": "stream",
          "text": [
            "WARNING:pdfminer.pdfpage:CropBox missing from /Page, defaulting to MediaBox\n",
            "WARNING:pdfminer.pdfpage:CropBox missing from /Page, defaulting to MediaBox\n"
          ]
        },
        {
          "name": "stdout",
          "output_type": "stream",
          "text": [
            " Selected Sections for Enhancement (1 total):\n",
            "- Career Summary Significant Proficiency with Oracle Database (version\n",
            "\n",
            "🔹 Enhancing the following sections:\n",
            "✨ Enhancing: Career Summary Significant Proficiency with Oracle Database (version\n"
          ]
        },
        {
          "name": "stderr",
          "output_type": "stream",
          "text": [
            "WARNING:pdfminer.pdfpage:CropBox missing from /Page, defaulting to MediaBox\n",
            "WARNING:pdfminer.pdfpage:CropBox missing from /Page, defaulting to MediaBox\n"
          ]
        },
        {
          "name": "stdout",
          "output_type": "stream",
          "text": [
            "✅ Enhanced resume saved and ready for download: /content/drive/My Drive/CAPSTONE/authentic_resumes/enhanced_filtered_2_page_resumes/51_resume_job2_authentic_0_enhanced.pdf\n",
            "✅ Finished: 51_resume_job2_authentic_0_enhanced.pdf\n",
            "\n",
            "🔄 Processing (TEST 2): 85_resume_job5_authentic_0.pdf\n"
          ]
        },
        {
          "name": "stderr",
          "output_type": "stream",
          "text": [
            "WARNING:pdfminer.pdfpage:CropBox missing from /Page, defaulting to MediaBox\n",
            "WARNING:pdfminer.pdfpage:CropBox missing from /Page, defaulting to MediaBox\n"
          ]
        },
        {
          "name": "stdout",
          "output_type": "stream",
          "text": [
            " Selected Sections for Enhancement (2 total):\n",
            "- Highly skilled Unix/Linux system engineer with strong experience implementing, administering and supporting complex 24/7 mission\n",
            "- Header\n",
            "\n",
            "🔹 Enhancing the following sections:\n",
            "✨ Enhancing: Highly skilled Unix/Linux system engineer with strong experience implementing, administering and supporting complex 24/7 mission\n",
            "✨ Enhancing: Header\n"
          ]
        },
        {
          "name": "stderr",
          "output_type": "stream",
          "text": [
            "WARNING:pdfminer.pdfpage:CropBox missing from /Page, defaulting to MediaBox\n",
            "WARNING:pdfminer.pdfpage:CropBox missing from /Page, defaulting to MediaBox\n"
          ]
        },
        {
          "name": "stdout",
          "output_type": "stream",
          "text": [
            "✅ Enhanced resume saved and ready for download: /content/drive/My Drive/CAPSTONE/authentic_resumes/enhanced_filtered_2_page_resumes/85_resume_job5_authentic_0_enhanced.pdf\n",
            "✅ Finished: 85_resume_job5_authentic_0_enhanced.pdf\n",
            "\n",
            "🔄 Processing (TEST 2): 136_resume_job1_authentic_0.pdf\n"
          ]
        },
        {
          "name": "stderr",
          "output_type": "stream",
          "text": [
            "WARNING:pdfminer.pdfpage:CropBox missing from /Page, defaulting to MediaBox\n",
            "WARNING:pdfminer.pdfpage:CropBox missing from /Page, defaulting to MediaBox\n"
          ]
        },
        {
          "name": "stdout",
          "output_type": "stream",
          "text": [
            " Selected Sections for Enhancement (1 total):\n",
            "- Header\n",
            "\n",
            "🔹 Enhancing the following sections:\n",
            "✨ Enhancing: Header\n"
          ]
        },
        {
          "name": "stderr",
          "output_type": "stream",
          "text": [
            "WARNING:pdfminer.pdfpage:CropBox missing from /Page, defaulting to MediaBox\n",
            "WARNING:pdfminer.pdfpage:CropBox missing from /Page, defaulting to MediaBox\n"
          ]
        },
        {
          "name": "stdout",
          "output_type": "stream",
          "text": [
            "✅ Enhanced resume saved and ready for download: /content/drive/My Drive/CAPSTONE/authentic_resumes/enhanced_filtered_2_page_resumes/136_resume_job1_authentic_0_enhanced.pdf\n",
            "✅ Finished: 136_resume_job1_authentic_0_enhanced.pdf\n",
            "\n",
            "🔄 Processing (TEST 2): 117_resume_job2_authentic_0.pdf\n"
          ]
        },
        {
          "name": "stderr",
          "output_type": "stream",
          "text": [
            "WARNING:pdfminer.pdfpage:CropBox missing from /Page, defaulting to MediaBox\n",
            "WARNING:pdfminer.pdfpage:CropBox missing from /Page, defaulting to MediaBox\n"
          ]
        },
        {
          "name": "stdout",
          "output_type": "stream",
          "text": [
            " Selected Sections for Enhancement (2 total):\n",
            "- Projects\n",
            "- • Programming Languages: Java, Python, Dart, JavaScript\n",
            "\n",
            "🔹 Enhancing the following sections:\n",
            "✨ Enhancing: Projects\n",
            "✨ Enhancing: • Programming Languages: Java, Python, Dart, JavaScript\n"
          ]
        },
        {
          "name": "stderr",
          "output_type": "stream",
          "text": [
            "WARNING:pdfminer.pdfpage:CropBox missing from /Page, defaulting to MediaBox\n",
            "WARNING:pdfminer.pdfpage:CropBox missing from /Page, defaulting to MediaBox\n"
          ]
        },
        {
          "name": "stdout",
          "output_type": "stream",
          "text": [
            "✅ Enhanced resume saved and ready for download: /content/drive/My Drive/CAPSTONE/authentic_resumes/enhanced_filtered_2_page_resumes/117_resume_job2_authentic_0_enhanced.pdf\n",
            "✅ Finished: 117_resume_job2_authentic_0_enhanced.pdf\n",
            "\n",
            "🔄 Processing (TEST 2): 146_resume_job2_authentic_0.pdf\n"
          ]
        },
        {
          "name": "stderr",
          "output_type": "stream",
          "text": [
            "WARNING:pdfminer.pdfpage:CropBox missing from /Page, defaulting to MediaBox\n",
            "WARNING:pdfminer.pdfpage:CropBox missing from /Page, defaulting to MediaBox\n"
          ]
        },
        {
          "name": "stdout",
          "output_type": "stream",
          "text": [
            " Selected Sections for Enhancement (2 total):\n",
            "- • Implemented algorithms and experiments using Python, C++, and other programming languages like Microsoft Azure Synapse and Visual Studio.\n",
            "- Header\n",
            "\n",
            "🔹 Enhancing the following sections:\n",
            "✨ Enhancing: • Implemented algorithms and experiments using Python, C++, and other programming languages like Microsoft Azure Synapse and Visual Studio.\n",
            "✨ Enhancing: Header\n",
            "✅ Enhanced resume saved and ready for download: /content/drive/My Drive/CAPSTONE/authentic_resumes/enhanced_filtered_2_page_resumes/146_resume_job2_authentic_0_enhanced.pdf\n",
            "✅ Finished: 146_resume_job2_authentic_0_enhanced.pdf\n",
            "\n",
            "🔄 Processing (TEST 2): 37_resume_job1_authentic_0.pdf\n",
            " Selected Sections for Enhancement (2 total):\n",
            "- languages would be of interest as well.\n",
            "- Languages: jQuery, CSS, Bootstrap, SQL, C#, Java, PowerShell, Python, HTML, .NET, JavaScript\n",
            "\n",
            "🔹 Enhancing the following sections:\n",
            "✨ Enhancing: languages would be of interest as well.\n",
            "✨ Enhancing: Languages: jQuery, CSS, Bootstrap, SQL, C#, Java, PowerShell, Python, HTML, .NET, JavaScript\n"
          ]
        },
        {
          "name": "stderr",
          "output_type": "stream",
          "text": [
            "WARNING:pdfminer.pdfpage:CropBox missing from /Page, defaulting to MediaBox\n",
            "WARNING:pdfminer.pdfpage:CropBox missing from /Page, defaulting to MediaBox\n"
          ]
        },
        {
          "name": "stdout",
          "output_type": "stream",
          "text": [
            "✅ Enhanced resume saved and ready for download: /content/drive/My Drive/CAPSTONE/authentic_resumes/enhanced_filtered_2_page_resumes/37_resume_job1_authentic_0_enhanced.pdf\n",
            "✅ Finished: 37_resume_job1_authentic_0_enhanced.pdf\n",
            "\n",
            "🔄 Processing (TEST 2): 51_resume_job1_authentic_0.pdf\n"
          ]
        },
        {
          "name": "stderr",
          "output_type": "stream",
          "text": [
            "WARNING:pdfminer.pdfpage:CropBox missing from /Page, defaulting to MediaBox\n",
            "WARNING:pdfminer.pdfpage:CropBox missing from /Page, defaulting to MediaBox\n"
          ]
        },
        {
          "name": "stdout",
          "output_type": "stream",
          "text": [
            " Selected Sections for Enhancement (2 total):\n",
            "- SKILLS SUMMARY\n",
            "- • COMPTIA PROJECT+\n",
            "\n",
            "🔹 Enhancing the following sections:\n",
            "✨ Enhancing: SKILLS SUMMARY\n",
            "✨ Enhancing: • COMPTIA PROJECT+\n"
          ]
        },
        {
          "name": "stderr",
          "output_type": "stream",
          "text": [
            "WARNING:pdfminer.pdfpage:CropBox missing from /Page, defaulting to MediaBox\n",
            "WARNING:pdfminer.pdfpage:CropBox missing from /Page, defaulting to MediaBox\n"
          ]
        },
        {
          "name": "stdout",
          "output_type": "stream",
          "text": [
            "✅ Enhanced resume saved and ready for download: /content/drive/My Drive/CAPSTONE/authentic_resumes/enhanced_filtered_2_page_resumes/51_resume_job1_authentic_0_enhanced.pdf\n",
            "✅ Finished: 51_resume_job1_authentic_0_enhanced.pdf\n",
            "\n",
            "🔄 Processing (TEST 2): 9_resume_job5_authentic_0.pdf\n"
          ]
        },
        {
          "name": "stderr",
          "output_type": "stream",
          "text": [
            "WARNING:pdfminer.pdfpage:CropBox missing from /Page, defaulting to MediaBox\n",
            "WARNING:pdfminer.pdfpage:CropBox missing from /Page, defaulting to MediaBox\n"
          ]
        },
        {
          "name": "stdout",
          "output_type": "stream",
          "text": [
            " Selected Sections for Enhancement (2 total):\n",
            "- management. Adept at developing, modernizing, and optimizing applications, utilizing a wide range of programming languages, cloud technologies, web technologies,\n",
            "- • Prioritized user experience and application performance, crafting an intuitive user interface and simplifying the setup process with initial screens in the Android\n",
            "\n",
            "🔹 Enhancing the following sections:\n",
            "✨ Enhancing: management. Adept at developing, modernizing, and optimizing applications, utilizing a wide range of programming languages, cloud technologies, web technologies,\n",
            "✨ Enhancing: • Prioritized user experience and application performance, crafting an intuitive user interface and simplifying the setup process with initial screens in the Android\n",
            "✅ Enhanced resume saved and ready for download: /content/drive/My Drive/CAPSTONE/authentic_resumes/enhanced_filtered_2_page_resumes/9_resume_job5_authentic_0_enhanced.pdf\n",
            "✅ Finished: 9_resume_job5_authentic_0_enhanced.pdf\n",
            "\n",
            "🔄 Processing (TEST 2): 16_resume_job2_authentic_0.pdf\n",
            " Selected Sections for Enhancement (2 total):\n",
            "- Skills\n",
            "- • ETL\n",
            "\n",
            "🔹 Enhancing the following sections:\n",
            "✨ Enhancing: Skills\n",
            "✨ Enhancing: • ETL\n"
          ]
        },
        {
          "name": "stderr",
          "output_type": "stream",
          "text": [
            "WARNING:pdfminer.pdfpage:CropBox missing from /Page, defaulting to MediaBox\n",
            "WARNING:pdfminer.pdfpage:CropBox missing from /Page, defaulting to MediaBox\n",
            "WARNING:pdfminer.pdfpage:CropBox missing from /Page, defaulting to MediaBox\n"
          ]
        },
        {
          "name": "stdout",
          "output_type": "stream",
          "text": [
            "✅ Enhanced resume saved and ready for download: /content/drive/My Drive/CAPSTONE/authentic_resumes/enhanced_filtered_2_page_resumes/16_resume_job2_authentic_0_enhanced.pdf\n",
            "✅ Finished: 16_resume_job2_authentic_0_enhanced.pdf\n",
            "\n",
            "🔄 Processing (TEST 2): 62_resume_job5_authentic_0.pdf\n"
          ]
        },
        {
          "name": "stderr",
          "output_type": "stream",
          "text": [
            "WARNING:pdfminer.pdfpage:CropBox missing from /Page, defaulting to MediaBox\n"
          ]
        },
        {
          "name": "stdout",
          "output_type": "stream",
          "text": [
            " Selected Sections for Enhancement (1 total):\n",
            "- Experience\n",
            "\n",
            "🔹 Enhancing the following sections:\n",
            "✨ Enhancing: Experience\n"
          ]
        },
        {
          "name": "stderr",
          "output_type": "stream",
          "text": [
            "WARNING:pdfminer.pdfpage:CropBox missing from /Page, defaulting to MediaBox\n",
            "WARNING:pdfminer.pdfpage:CropBox missing from /Page, defaulting to MediaBox\n"
          ]
        },
        {
          "name": "stdout",
          "output_type": "stream",
          "text": [
            "✅ Enhanced resume saved and ready for download: /content/drive/My Drive/CAPSTONE/authentic_resumes/enhanced_filtered_2_page_resumes/62_resume_job5_authentic_0_enhanced.pdf\n",
            "✅ Finished: 62_resume_job5_authentic_0_enhanced.pdf\n",
            "\n",
            "🔄 Processing (TEST 2): 39_resume_job5_authentic_0.pdf\n"
          ]
        },
        {
          "name": "stderr",
          "output_type": "stream",
          "text": [
            "WARNING:pdfminer.pdfpage:CropBox missing from /Page, defaulting to MediaBox\n",
            "WARNING:pdfminer.pdfpage:CropBox missing from /Page, defaulting to MediaBox\n"
          ]
        },
        {
          "name": "stdout",
          "output_type": "stream",
          "text": [
            " Selected Sections for Enhancement (2 total):\n",
            "- • Led front-end development efforts to deliver an intuitive and user-friendly interface, ensuring a seamless voting experience for\n",
            "- WorkExperience\n",
            "\n",
            "🔹 Enhancing the following sections:\n",
            "✨ Enhancing: • Led front-end development efforts to deliver an intuitive and user-friendly interface, ensuring a seamless voting experience for\n",
            "✨ Enhancing: WorkExperience\n",
            "✅ Enhanced resume saved and ready for download: /content/drive/My Drive/CAPSTONE/authentic_resumes/enhanced_filtered_2_page_resumes/39_resume_job5_authentic_0_enhanced.pdf\n",
            "✅ Finished: 39_resume_job5_authentic_0_enhanced.pdf\n",
            "\n",
            "🔄 Processing (TEST 2): 149_resume_job5_authentic_0.pdf\n",
            " Selected Sections for Enhancement (2 total):\n",
            "- JavaScript. Good knowledge of the best practices for web design, user experience, and speed.\n",
            "- · Maintained a strong education in the latest technologies, software, and hardware products for use in\n",
            "\n",
            "🔹 Enhancing the following sections:\n",
            "✨ Enhancing: JavaScript. Good knowledge of the best practices for web design, user experience, and speed.\n",
            "✨ Enhancing: · Maintained a strong education in the latest technologies, software, and hardware products for use in\n"
          ]
        },
        {
          "name": "stderr",
          "output_type": "stream",
          "text": [
            "WARNING:pdfminer.pdfpage:CropBox missing from /Page, defaulting to MediaBox\n",
            "WARNING:pdfminer.pdfpage:CropBox missing from /Page, defaulting to MediaBox\n"
          ]
        },
        {
          "name": "stdout",
          "output_type": "stream",
          "text": [
            "✅ Enhanced resume saved and ready for download: /content/drive/My Drive/CAPSTONE/authentic_resumes/enhanced_filtered_2_page_resumes/149_resume_job5_authentic_0_enhanced.pdf\n",
            "✅ Finished: 149_resume_job5_authentic_0_enhanced.pdf\n",
            "\n",
            "🔄 Processing (TEST 2): 69_resume_job1_authentic_0.pdf\n"
          ]
        },
        {
          "name": "stderr",
          "output_type": "stream",
          "text": [
            "WARNING:pdfminer.pdfpage:CropBox missing from /Page, defaulting to MediaBox\n",
            "WARNING:pdfminer.pdfpage:CropBox missing from /Page, defaulting to MediaBox\n"
          ]
        },
        {
          "name": "stdout",
          "output_type": "stream",
          "text": [
            " Selected Sections for Enhancement (1 total):\n",
            "- TREE HARVESTING, MILLER LOGGING\n",
            "\n",
            "🔹 Enhancing the following sections:\n",
            "✨ Enhancing: TREE HARVESTING, MILLER LOGGING\n"
          ]
        },
        {
          "name": "stderr",
          "output_type": "stream",
          "text": [
            "WARNING:pdfminer.pdfpage:CropBox missing from /Page, defaulting to MediaBox\n",
            "WARNING:pdfminer.pdfpage:CropBox missing from /Page, defaulting to MediaBox\n"
          ]
        },
        {
          "name": "stdout",
          "output_type": "stream",
          "text": [
            "✅ Enhanced resume saved and ready for download: /content/drive/My Drive/CAPSTONE/authentic_resumes/enhanced_filtered_2_page_resumes/69_resume_job1_authentic_0_enhanced.pdf\n",
            "✅ Finished: 69_resume_job1_authentic_0_enhanced.pdf\n",
            "\n",
            "🔄 Processing (TEST 2): 15_resume_job5_authentic_0.pdf\n"
          ]
        },
        {
          "name": "stderr",
          "output_type": "stream",
          "text": [
            "WARNING:pdfminer.pdfpage:CropBox missing from /Page, defaulting to MediaBox\n",
            "WARNING:pdfminer.pdfpage:CropBox missing from /Page, defaulting to MediaBox\n"
          ]
        },
        {
          "name": "stdout",
          "output_type": "stream",
          "text": [
            " Selected Sections for Enhancement (2 total):\n",
            "- Proactive Software Engineer leveraging robust expertise in full-stack development, cloud technologies, and user interface design to drive business value. Demonstrated skills in\n",
            "- optimizing legacy systems, fostering tech education, and adhering to regulatory compliance. Passionate about streamlining operations and enhancing user experiences through\n",
            "\n",
            "🔹 Enhancing the following sections:\n",
            "✨ Enhancing: Proactive Software Engineer leveraging robust expertise in full-stack development, cloud technologies, and user interface design to drive business value. Demonstrated skills in\n",
            "✨ Enhancing: optimizing legacy systems, fostering tech education, and adhering to regulatory compliance. Passionate about streamlining operations and enhancing user experiences through\n"
          ]
        },
        {
          "name": "stderr",
          "output_type": "stream",
          "text": [
            "WARNING:pdfminer.pdfpage:CropBox missing from /Page, defaulting to MediaBox\n",
            "WARNING:pdfminer.pdfpage:CropBox missing from /Page, defaulting to MediaBox\n"
          ]
        },
        {
          "name": "stdout",
          "output_type": "stream",
          "text": [
            "✅ Enhanced resume saved and ready for download: /content/drive/My Drive/CAPSTONE/authentic_resumes/enhanced_filtered_2_page_resumes/15_resume_job5_authentic_0_enhanced.pdf\n",
            "✅ Finished: 15_resume_job5_authentic_0_enhanced.pdf\n",
            "\n",
            "🔄 Processing (TEST 2): 39_resume_job1_authentic_0.pdf\n"
          ]
        },
        {
          "name": "stderr",
          "output_type": "stream",
          "text": [
            "WARNING:pdfminer.pdfpage:CropBox missing from /Page, defaulting to MediaBox\n",
            "WARNING:pdfminer.pdfpage:CropBox missing from /Page, defaulting to MediaBox\n"
          ]
        },
        {
          "name": "stdout",
          "output_type": "stream",
          "text": [
            " Selected Sections for Enhancement (2 total):\n",
            "- LANGUAGES INTERESTS AND ACTIVITIES\n",
            "- Header\n",
            "\n",
            "🔹 Enhancing the following sections:\n",
            "✨ Enhancing: LANGUAGES INTERESTS AND ACTIVITIES\n",
            "✨ Enhancing: Header\n"
          ]
        },
        {
          "name": "stderr",
          "output_type": "stream",
          "text": [
            "WARNING:pdfminer.pdfpage:CropBox missing from /Page, defaulting to MediaBox\n",
            "WARNING:pdfminer.pdfpage:CropBox missing from /Page, defaulting to MediaBox\n"
          ]
        },
        {
          "name": "stdout",
          "output_type": "stream",
          "text": [
            "✅ Enhanced resume saved and ready for download: /content/drive/My Drive/CAPSTONE/authentic_resumes/enhanced_filtered_2_page_resumes/39_resume_job1_authentic_0_enhanced.pdf\n",
            "✅ Finished: 39_resume_job1_authentic_0_enhanced.pdf\n",
            "\n",
            "🔄 Processing (TEST 2): 77_resume_job2_authentic_0.pdf\n"
          ]
        },
        {
          "name": "stderr",
          "output_type": "stream",
          "text": [
            "WARNING:pdfminer.pdfpage:CropBox missing from /Page, defaulting to MediaBox\n",
            "WARNING:pdfminer.pdfpage:CropBox missing from /Page, defaulting to MediaBox\n"
          ]
        },
        {
          "name": "stdout",
          "output_type": "stream",
          "text": [
            " Selected Sections for Enhancement (1 total):\n",
            "- Associate in Science, Business Administration for Transfer, CSUGE (AS-T), with Honors, December 2019\n",
            "\n",
            "🔹 Enhancing the following sections:\n",
            "✨ Enhancing: Associate in Science, Business Administration for Transfer, CSUGE (AS-T), with Honors, December 2019\n"
          ]
        },
        {
          "name": "stderr",
          "output_type": "stream",
          "text": [
            "WARNING:pdfminer.pdfpage:CropBox missing from /Page, defaulting to MediaBox\n",
            "WARNING:pdfminer.pdfpage:CropBox missing from /Page, defaulting to MediaBox\n"
          ]
        },
        {
          "name": "stdout",
          "output_type": "stream",
          "text": [
            "✅ Enhanced resume saved and ready for download: /content/drive/My Drive/CAPSTONE/authentic_resumes/enhanced_filtered_2_page_resumes/77_resume_job2_authentic_0_enhanced.pdf\n",
            "✅ Finished: 77_resume_job2_authentic_0_enhanced.pdf\n",
            "\n",
            "🔄 Processing (TEST 2): 33_resume_job5_authentic_0.pdf\n"
          ]
        },
        {
          "name": "stderr",
          "output_type": "stream",
          "text": [
            "WARNING:pdfminer.pdfpage:CropBox missing from /Page, defaulting to MediaBox\n",
            "WARNING:pdfminer.pdfpage:CropBox missing from /Page, defaulting to MediaBox\n"
          ]
        },
        {
          "name": "stdout",
          "output_type": "stream",
          "text": [
            " Selected Sections for Enhancement (2 total):\n",
            "- Header\n",
            "- - Proficient in Microsoft Office Suite and various programming languages including Java, C/C++, and\n",
            "\n",
            "🔹 Enhancing the following sections:\n",
            "✨ Enhancing: Header\n",
            "✨ Enhancing: - Proficient in Microsoft Office Suite and various programming languages including Java, C/C++, and\n"
          ]
        },
        {
          "name": "stderr",
          "output_type": "stream",
          "text": [
            "WARNING:pdfminer.pdfpage:CropBox missing from /Page, defaulting to MediaBox\n",
            "WARNING:pdfminer.pdfpage:CropBox missing from /Page, defaulting to MediaBox\n"
          ]
        },
        {
          "name": "stdout",
          "output_type": "stream",
          "text": [
            "✅ Enhanced resume saved and ready for download: /content/drive/My Drive/CAPSTONE/authentic_resumes/enhanced_filtered_2_page_resumes/33_resume_job5_authentic_0_enhanced.pdf\n",
            "✅ Finished: 33_resume_job5_authentic_0_enhanced.pdf\n",
            "\n",
            "🔄 Processing (TEST 2): 8_resume_job1_authentic_0.pdf\n"
          ]
        },
        {
          "name": "stderr",
          "output_type": "stream",
          "text": [
            "WARNING:pdfminer.pdfpage:CropBox missing from /Page, defaulting to MediaBox\n",
            "WARNING:pdfminer.pdfpage:CropBox missing from /Page, defaulting to MediaBox\n"
          ]
        },
        {
          "name": "stdout",
          "output_type": "stream",
          "text": [
            " Selected Sections for Enhancement (2 total):\n",
            "- Work Experience\n",
            "- Education\n",
            "\n",
            "🔹 Enhancing the following sections:\n",
            "✨ Enhancing: Work Experience\n",
            "✨ Enhancing: Education\n"
          ]
        },
        {
          "name": "stderr",
          "output_type": "stream",
          "text": [
            "WARNING:pdfminer.pdfpage:CropBox missing from /Page, defaulting to MediaBox\n",
            "WARNING:pdfminer.pdfpage:CropBox missing from /Page, defaulting to MediaBox\n",
            "WARNING:pdfminer.pdfpage:CropBox missing from /Page, defaulting to MediaBox\n",
            "WARNING:pdfminer.pdfpage:CropBox missing from /Page, defaulting to MediaBox\n"
          ]
        },
        {
          "name": "stdout",
          "output_type": "stream",
          "text": [
            "✅ Enhanced resume saved and ready for download: /content/drive/My Drive/CAPSTONE/authentic_resumes/enhanced_filtered_2_page_resumes/8_resume_job1_authentic_0_enhanced.pdf\n",
            "✅ Finished: 8_resume_job1_authentic_0_enhanced.pdf\n",
            "\n",
            "🔄 Processing (TEST 2): 28_resume_job5_authentic_0.pdf\n",
            " Selected Sections for Enhancement (2 total):\n",
            "- EDUCATION\n",
            "- WORK EXPERIENCE\n",
            "\n",
            "🔹 Enhancing the following sections:\n",
            "✨ Enhancing: EDUCATION\n",
            "✨ Enhancing: WORK EXPERIENCE\n"
          ]
        },
        {
          "name": "stderr",
          "output_type": "stream",
          "text": [
            "WARNING:pdfminer.pdfpage:CropBox missing from /Page, defaulting to MediaBox\n",
            "WARNING:pdfminer.pdfpage:CropBox missing from /Page, defaulting to MediaBox\n"
          ]
        },
        {
          "name": "stdout",
          "output_type": "stream",
          "text": [
            "✅ Enhanced resume saved and ready for download: /content/drive/My Drive/CAPSTONE/authentic_resumes/enhanced_filtered_2_page_resumes/28_resume_job5_authentic_0_enhanced.pdf\n",
            "✅ Finished: 28_resume_job5_authentic_0_enhanced.pdf\n",
            "\n",
            "🔄 Processing (TEST 2): 124_resume_job5_authentic_0.pdf\n"
          ]
        },
        {
          "name": "stderr",
          "output_type": "stream",
          "text": [
            "WARNING:pdfminer.pdfpage:CropBox missing from /Page, defaulting to MediaBox\n",
            "WARNING:pdfminer.pdfpage:CropBox missing from /Page, defaulting to MediaBox\n"
          ]
        },
        {
          "name": "stdout",
          "output_type": "stream",
          "text": [
            " Selected Sections for Enhancement (1 total):\n",
            "- Detail-oriented Software Engineer with a Master’s degree in Computer Science and over 3 years of experience in full-stack development, database\n",
            "\n",
            "🔹 Enhancing the following sections:\n",
            "✨ Enhancing: Detail-oriented Software Engineer with a Master’s degree in Computer Science and over 3 years of experience in full-stack development, database\n"
          ]
        },
        {
          "name": "stderr",
          "output_type": "stream",
          "text": [
            "WARNING:pdfminer.pdfpage:CropBox missing from /Page, defaulting to MediaBox\n",
            "WARNING:pdfminer.pdfpage:CropBox missing from /Page, defaulting to MediaBox\n",
            "WARNING:pdfminer.pdfpage:CropBox missing from /Page, defaulting to MediaBox\n",
            "WARNING:pdfminer.pdfpage:CropBox missing from /Page, defaulting to MediaBox\n"
          ]
        },
        {
          "name": "stdout",
          "output_type": "stream",
          "text": [
            "✅ Enhanced resume saved and ready for download: /content/drive/My Drive/CAPSTONE/authentic_resumes/enhanced_filtered_2_page_resumes/124_resume_job5_authentic_0_enhanced.pdf\n",
            "✅ Finished: 124_resume_job5_authentic_0_enhanced.pdf\n",
            "\n",
            "🔄 Processing (TEST 2): 108_resume_job5_authentic_0.pdf\n",
            " Selected Sections for Enhancement (2 total):\n",
            "- Education\n",
            "- Work Experience\n",
            "\n",
            "🔹 Enhancing the following sections:\n",
            "✨ Enhancing: Education\n",
            "✨ Enhancing: Work Experience\n"
          ]
        },
        {
          "name": "stderr",
          "output_type": "stream",
          "text": [
            "WARNING:pdfminer.pdfpage:CropBox missing from /Page, defaulting to MediaBox\n",
            "WARNING:pdfminer.pdfpage:CropBox missing from /Page, defaulting to MediaBox\n"
          ]
        },
        {
          "name": "stdout",
          "output_type": "stream",
          "text": [
            "✅ Enhanced resume saved and ready for download: /content/drive/My Drive/CAPSTONE/authentic_resumes/enhanced_filtered_2_page_resumes/108_resume_job5_authentic_0_enhanced.pdf\n",
            "✅ Finished: 108_resume_job5_authentic_0_enhanced.pdf\n",
            "\n",
            "🔄 Processing (TEST 2): 104_resume_job2_authentic_0.pdf\n"
          ]
        },
        {
          "name": "stderr",
          "output_type": "stream",
          "text": [
            "WARNING:pdfminer.pdfpage:CropBox missing from /Page, defaulting to MediaBox\n",
            "WARNING:pdfminer.pdfpage:CropBox missing from /Page, defaulting to MediaBox\n"
          ]
        },
        {
          "name": "stdout",
          "output_type": "stream",
          "text": [
            " Selected Sections for Enhancement (2 total):\n",
            "- PROJECTS __________________________________________________________________________\n",
            "- EDUCATION\n",
            "\n",
            "🔹 Enhancing the following sections:\n",
            "✨ Enhancing: PROJECTS __________________________________________________________________________\n",
            "✨ Enhancing: EDUCATION\n"
          ]
        },
        {
          "name": "stderr",
          "output_type": "stream",
          "text": [
            "WARNING:pdfminer.pdfpage:CropBox missing from /Page, defaulting to MediaBox\n",
            "WARNING:pdfminer.pdfpage:CropBox missing from /Page, defaulting to MediaBox\n"
          ]
        },
        {
          "name": "stdout",
          "output_type": "stream",
          "text": [
            "✅ Enhanced resume saved and ready for download: /content/drive/My Drive/CAPSTONE/authentic_resumes/enhanced_filtered_2_page_resumes/104_resume_job2_authentic_0_enhanced.pdf\n",
            "✅ Finished: 104_resume_job2_authentic_0_enhanced.pdf\n",
            "\n",
            "🔄 Processing (TEST 2): 19_resume_job5_authentic_0.pdf\n"
          ]
        },
        {
          "name": "stderr",
          "output_type": "stream",
          "text": [
            "WARNING:pdfminer.pdfpage:CropBox missing from /Page, defaulting to MediaBox\n",
            "WARNING:pdfminer.pdfpage:CropBox missing from /Page, defaulting to MediaBox\n"
          ]
        },
        {
          "name": "stdout",
          "output_type": "stream",
          "text": [
            " Selected Sections for Enhancement (2 total):\n",
            "- Education\n",
            "- • Atlassian Jira Project Management / Git Hub source control, 8 years of experience.\n",
            "\n",
            "🔹 Enhancing the following sections:\n",
            "✨ Enhancing: Education\n",
            "✨ Enhancing: • Atlassian Jira Project Management / Git Hub source control, 8 years of experience.\n",
            "✅ Enhanced resume saved and ready for download: /content/drive/My Drive/CAPSTONE/authentic_resumes/enhanced_filtered_2_page_resumes/19_resume_job5_authentic_0_enhanced.pdf\n",
            "✅ Finished: 19_resume_job5_authentic_0_enhanced.pdf\n",
            "\n",
            "🔄 Processing (TEST 2): 116_resume_job2_authentic_0.pdf\n",
            " Selected Sections for Enhancement (1 total):\n",
            "- · Highly skilled and results-driven data professional with 4 years of experience in database\n",
            "\n",
            "🔹 Enhancing the following sections:\n",
            "✨ Enhancing: · Highly skilled and results-driven data professional with 4 years of experience in database\n"
          ]
        },
        {
          "name": "stderr",
          "output_type": "stream",
          "text": [
            "WARNING:pdfminer.pdfpage:CropBox missing from /Page, defaulting to MediaBox\n",
            "WARNING:pdfminer.pdfpage:CropBox missing from /Page, defaulting to MediaBox\n"
          ]
        },
        {
          "name": "stdout",
          "output_type": "stream",
          "text": [
            "✅ Enhanced resume saved and ready for download: /content/drive/My Drive/CAPSTONE/authentic_resumes/enhanced_filtered_2_page_resumes/116_resume_job2_authentic_0_enhanced.pdf\n",
            "✅ Finished: 116_resume_job2_authentic_0_enhanced.pdf\n",
            "\n",
            "🔄 Processing (TEST 2): 29_resume_job2_authentic_0.pdf\n"
          ]
        },
        {
          "name": "stderr",
          "output_type": "stream",
          "text": [
            "WARNING:pdfminer.pdfpage:CropBox missing from /Page, defaulting to MediaBox\n",
            "WARNING:pdfminer.pdfpage:CropBox missing from /Page, defaulting to MediaBox\n"
          ]
        },
        {
          "name": "stdout",
          "output_type": "stream",
          "text": [
            " Selected Sections for Enhancement (2 total):\n",
            "- • Researched for new technologies that could be more useful in the correct project\n",
            "- Achievements:\n",
            "\n",
            "🔹 Enhancing the following sections:\n",
            "✨ Enhancing: • Researched for new technologies that could be more useful in the correct project\n",
            "✨ Enhancing: Achievements:\n",
            "✅ Enhanced resume saved and ready for download: /content/drive/My Drive/CAPSTONE/authentic_resumes/enhanced_filtered_2_page_resumes/29_resume_job2_authentic_0_enhanced.pdf\n",
            "✅ Finished: 29_resume_job2_authentic_0_enhanced.pdf\n",
            "\n",
            "🔄 Processing (TEST 2): 6_resume_job5_authentic_0.pdf\n",
            " Selected Sections for Enhancement (1 total):\n",
            "- • CSS\n",
            "\n",
            "🔹 Enhancing the following sections:\n",
            "✨ Enhancing: • CSS\n"
          ]
        },
        {
          "name": "stderr",
          "output_type": "stream",
          "text": [
            "WARNING:pdfminer.pdfpage:CropBox missing from /Page, defaulting to MediaBox\n",
            "WARNING:pdfminer.pdfpage:CropBox missing from /Page, defaulting to MediaBox\n"
          ]
        },
        {
          "name": "stdout",
          "output_type": "stream",
          "text": [
            "✅ Enhanced resume saved and ready for download: /content/drive/My Drive/CAPSTONE/authentic_resumes/enhanced_filtered_2_page_resumes/6_resume_job5_authentic_0_enhanced.pdf\n",
            "✅ Finished: 6_resume_job5_authentic_0_enhanced.pdf\n",
            "\n",
            "🔄 Processing (TEST 2): 45_resume_job5_authentic_0.pdf\n"
          ]
        },
        {
          "name": "stderr",
          "output_type": "stream",
          "text": [
            "WARNING:pdfminer.pdfpage:CropBox missing from /Page, defaulting to MediaBox\n",
            "WARNING:pdfminer.pdfpage:CropBox missing from /Page, defaulting to MediaBox\n"
          ]
        },
        {
          "name": "stdout",
          "output_type": "stream",
          "text": [
            " Selected Sections for Enhancement (2 total):\n",
            "- Continuing Education\n",
            "- sequential file techniques with online relational databases. I also have experience in the installation,\n",
            "\n",
            "🔹 Enhancing the following sections:\n",
            "✨ Enhancing: Continuing Education\n",
            "✨ Enhancing: sequential file techniques with online relational databases. I also have experience in the installation,\n",
            "✅ Enhanced resume saved and ready for download: /content/drive/My Drive/CAPSTONE/authentic_resumes/enhanced_filtered_2_page_resumes/45_resume_job5_authentic_0_enhanced.pdf\n",
            "✅ Finished: 45_resume_job5_authentic_0_enhanced.pdf\n",
            "\n",
            "🔄 Processing (TEST 2): 59_resume_job1_authentic_0.pdf\n",
            " Selected Sections for Enhancement (1 total):\n",
            "- Header\n",
            "\n",
            "🔹 Enhancing the following sections:\n",
            "✨ Enhancing: Header\n",
            "✅ Enhanced resume saved and ready for download: /content/drive/My Drive/CAPSTONE/authentic_resumes/enhanced_filtered_2_page_resumes/59_resume_job1_authentic_0_enhanced.pdf\n",
            "✅ Finished: 59_resume_job1_authentic_0_enhanced.pdf\n",
            "\n",
            "🔄 Processing (TEST 2): 32_resume_job5_authentic_0.pdf\n",
            " Selected Sections for Enhancement (2 total):\n",
            "- Skills\n",
            "- Work Experience\n",
            "\n",
            "🔹 Enhancing the following sections:\n",
            "✨ Enhancing: Skills\n",
            "✨ Enhancing: Work Experience\n"
          ]
        },
        {
          "name": "stderr",
          "output_type": "stream",
          "text": [
            "WARNING:pdfminer.pdfpage:CropBox missing from /Page, defaulting to MediaBox\n",
            "WARNING:pdfminer.pdfpage:CropBox missing from /Page, defaulting to MediaBox\n"
          ]
        },
        {
          "name": "stdout",
          "output_type": "stream",
          "text": [
            "✅ Enhanced resume saved and ready for download: /content/drive/My Drive/CAPSTONE/authentic_resumes/enhanced_filtered_2_page_resumes/32_resume_job5_authentic_0_enhanced.pdf\n",
            "✅ Finished: 32_resume_job5_authentic_0_enhanced.pdf\n",
            "\n",
            "🔄 Processing (TEST 2): 42_resume_job5_authentic_0.pdf\n"
          ]
        },
        {
          "name": "stderr",
          "output_type": "stream",
          "text": [
            "WARNING:pdfminer.pdfpage:CropBox missing from /Page, defaulting to MediaBox\n",
            "WARNING:pdfminer.pdfpage:CropBox missing from /Page, defaulting to MediaBox\n"
          ]
        },
        {
          "name": "stdout",
          "output_type": "stream",
          "text": [
            " Selected Sections for Enhancement (2 total):\n",
            "- Header\n",
            "- Summary\n",
            "\n",
            "🔹 Enhancing the following sections:\n",
            "✨ Enhancing: Header\n",
            "✨ Enhancing: Summary\n",
            "✅ Enhanced resume saved and ready for download: /content/drive/My Drive/CAPSTONE/authentic_resumes/enhanced_filtered_2_page_resumes/42_resume_job5_authentic_0_enhanced.pdf\n",
            "✅ Finished: 42_resume_job5_authentic_0_enhanced.pdf\n",
            "\n",
            "🔄 Processing (TEST 2): 52_resume_job1_authentic_0.pdf\n",
            " Selected Sections for Enhancement (2 total):\n",
            "- Education\n",
            "- Skills\n",
            "\n",
            "🔹 Enhancing the following sections:\n",
            "✨ Enhancing: Education\n",
            "✨ Enhancing: Skills\n",
            "✅ Enhanced resume saved and ready for download: /content/drive/My Drive/CAPSTONE/authentic_resumes/enhanced_filtered_2_page_resumes/52_resume_job1_authentic_0_enhanced.pdf\n",
            "✅ Finished: 52_resume_job1_authentic_0_enhanced.pdf\n",
            "\n",
            "🔄 Processing (TEST 2): 92_resume_job1_authentic_0.pdf\n",
            " Selected Sections for Enhancement (1 total):\n",
            "- Skills\n",
            "\n",
            "🔹 Enhancing the following sections:\n",
            "✨ Enhancing: Skills\n"
          ]
        },
        {
          "name": "stderr",
          "output_type": "stream",
          "text": [
            "WARNING:pdfminer.pdfpage:CropBox missing from /Page, defaulting to MediaBox\n",
            "WARNING:pdfminer.pdfpage:CropBox missing from /Page, defaulting to MediaBox\n"
          ]
        },
        {
          "name": "stdout",
          "output_type": "stream",
          "text": [
            "✅ Enhanced resume saved and ready for download: /content/drive/My Drive/CAPSTONE/authentic_resumes/enhanced_filtered_2_page_resumes/92_resume_job1_authentic_0_enhanced.pdf\n",
            "✅ Finished: 92_resume_job1_authentic_0_enhanced.pdf\n",
            "\n",
            "🔄 Processing (TEST 2): 6_resume_job1_authentic_0.pdf\n"
          ]
        },
        {
          "name": "stderr",
          "output_type": "stream",
          "text": [
            "WARNING:pdfminer.pdfpage:CropBox missing from /Page, defaulting to MediaBox\n",
            "WARNING:pdfminer.pdfpage:CropBox missing from /Page, defaulting to MediaBox\n"
          ]
        },
        {
          "name": "stdout",
          "output_type": "stream",
          "text": [
            " Selected Sections for Enhancement (1 total):\n",
            "- 3. Experiences in developing the Mobile web applications using Xamarin, C#.\n",
            "\n",
            "🔹 Enhancing the following sections:\n",
            "✨ Enhancing: 3. Experiences in developing the Mobile web applications using Xamarin, C#.\n",
            "✅ Enhanced resume saved and ready for download: /content/drive/My Drive/CAPSTONE/authentic_resumes/enhanced_filtered_2_page_resumes/6_resume_job1_authentic_0_enhanced.pdf\n",
            "✅ Finished: 6_resume_job1_authentic_0_enhanced.pdf\n",
            "\n",
            "🔄 Processing (TEST 2): 109_resume_job1_authentic_0.pdf\n",
            " Selected Sections for Enhancement (2 total):\n",
            "- Header\n",
            "- · Worked on multiple projects utilizing C#.\n",
            "\n",
            "🔹 Enhancing the following sections:\n",
            "✨ Enhancing: Header\n",
            "✨ Enhancing: · Worked on multiple projects utilizing C#.\n"
          ]
        },
        {
          "name": "stderr",
          "output_type": "stream",
          "text": [
            "WARNING:pdfminer.pdfpage:CropBox missing from /Page, defaulting to MediaBox\n",
            "WARNING:pdfminer.pdfpage:CropBox missing from /Page, defaulting to MediaBox\n"
          ]
        },
        {
          "name": "stdout",
          "output_type": "stream",
          "text": [
            "✅ Enhanced resume saved and ready for download: /content/drive/My Drive/CAPSTONE/authentic_resumes/enhanced_filtered_2_page_resumes/109_resume_job1_authentic_0_enhanced.pdf\n",
            "✅ Finished: 109_resume_job1_authentic_0_enhanced.pdf\n",
            "\n",
            "🔄 Processing (TEST 2): 119_resume_job2_authentic_0.pdf\n"
          ]
        },
        {
          "name": "stderr",
          "output_type": "stream",
          "text": [
            "WARNING:pdfminer.pdfpage:CropBox missing from /Page, defaulting to MediaBox\n",
            "WARNING:pdfminer.pdfpage:CropBox missing from /Page, defaulting to MediaBox\n"
          ]
        },
        {
          "name": "stdout",
          "output_type": "stream",
          "text": [
            " Selected Sections for Enhancement (2 total):\n",
            "- SKILLS\n",
            "-  Led the task to update and revamp the Research schema; Created and maintained data\n",
            "\n",
            "🔹 Enhancing the following sections:\n",
            "✨ Enhancing: SKILLS\n",
            "✨ Enhancing:  Led the task to update and revamp the Research schema; Created and maintained data\n"
          ]
        },
        {
          "name": "stderr",
          "output_type": "stream",
          "text": [
            "WARNING:pdfminer.pdfpage:CropBox missing from /Page, defaulting to MediaBox\n",
            "WARNING:pdfminer.pdfpage:CropBox missing from /Page, defaulting to MediaBox\n"
          ]
        },
        {
          "name": "stdout",
          "output_type": "stream",
          "text": [
            "✅ Enhanced resume saved and ready for download: /content/drive/My Drive/CAPSTONE/authentic_resumes/enhanced_filtered_2_page_resumes/119_resume_job2_authentic_0_enhanced.pdf\n",
            "✅ Finished: 119_resume_job2_authentic_0_enhanced.pdf\n",
            "\n",
            "🔄 Processing (TEST 2): 65_resume_job5_authentic_0.pdf\n"
          ]
        },
        {
          "name": "stderr",
          "output_type": "stream",
          "text": [
            "WARNING:pdfminer.pdfpage:CropBox missing from /Page, defaulting to MediaBox\n",
            "WARNING:pdfminer.pdfpage:CropBox missing from /Page, defaulting to MediaBox\n"
          ]
        },
        {
          "name": "stdout",
          "output_type": "stream",
          "text": [
            " Selected Sections for Enhancement (2 total):\n",
            "- • Perform market research and analysis.\n",
            "- QUALIFICATIONS\n",
            "\n",
            "🔹 Enhancing the following sections:\n",
            "✨ Enhancing: • Perform market research and analysis.\n",
            "✨ Enhancing: QUALIFICATIONS\n"
          ]
        },
        {
          "name": "stderr",
          "output_type": "stream",
          "text": [
            "WARNING:pdfminer.pdfpage:CropBox missing from /Page, defaulting to MediaBox\n",
            "WARNING:pdfminer.pdfpage:CropBox missing from /Page, defaulting to MediaBox\n"
          ]
        },
        {
          "name": "stdout",
          "output_type": "stream",
          "text": [
            "✅ Enhanced resume saved and ready for download: /content/drive/My Drive/CAPSTONE/authentic_resumes/enhanced_filtered_2_page_resumes/65_resume_job5_authentic_0_enhanced.pdf\n",
            "✅ Finished: 65_resume_job5_authentic_0_enhanced.pdf\n",
            "\n",
            "🔄 Processing (TEST 2): 64_resume_job5_authentic_0.pdf\n"
          ]
        },
        {
          "name": "stderr",
          "output_type": "stream",
          "text": [
            "WARNING:pdfminer.pdfpage:CropBox missing from /Page, defaulting to MediaBox\n",
            "WARNING:pdfminer.pdfpage:CropBox missing from /Page, defaulting to MediaBox\n"
          ]
        },
        {
          "name": "stdout",
          "output_type": "stream",
          "text": [
            " Selected Sections for Enhancement (2 total):\n",
            "- PROFESSIONAL EXPERIENCE\n",
            "- • Professional services operations executive with over 17+ years of experience. Expertise in areas of cash\n",
            "\n",
            "🔹 Enhancing the following sections:\n",
            "✨ Enhancing: PROFESSIONAL EXPERIENCE\n",
            "✨ Enhancing: • Professional services operations executive with over 17+ years of experience. Expertise in areas of cash\n"
          ]
        },
        {
          "name": "stderr",
          "output_type": "stream",
          "text": [
            "WARNING:pdfminer.pdfpage:CropBox missing from /Page, defaulting to MediaBox\n",
            "WARNING:pdfminer.pdfpage:CropBox missing from /Page, defaulting to MediaBox\n",
            "WARNING:pdfminer.pdfpage:CropBox missing from /Page, defaulting to MediaBox\n",
            "WARNING:pdfminer.pdfpage:CropBox missing from /Page, defaulting to MediaBox\n"
          ]
        },
        {
          "name": "stdout",
          "output_type": "stream",
          "text": [
            "✅ Enhanced resume saved and ready for download: /content/drive/My Drive/CAPSTONE/authentic_resumes/enhanced_filtered_2_page_resumes/64_resume_job5_authentic_0_enhanced.pdf\n",
            "✅ Finished: 64_resume_job5_authentic_0_enhanced.pdf\n",
            "\n",
            "🔄 Processing (TEST 2): 78_resume_job5_authentic_0.pdf\n",
            " Selected Sections for Enhancement (1 total):\n",
            "- TE’DAJAH BRADLEY\n",
            "\n",
            "🔹 Enhancing the following sections:\n",
            "✨ Enhancing: TE’DAJAH BRADLEY\n",
            "✅ Enhanced resume saved and ready for download: /content/drive/My Drive/CAPSTONE/authentic_resumes/enhanced_filtered_2_page_resumes/78_resume_job5_authentic_0_enhanced.pdf\n",
            "✅ Finished: 78_resume_job5_authentic_0_enhanced.pdf\n",
            "\n",
            "🔄 Processing (TEST 2): 77_resume_job5_authentic_0.pdf\n",
            " Selected Sections for Enhancement (2 total):\n",
            "- Header\n",
            "- Skills\n",
            "\n",
            "🔹 Enhancing the following sections:\n",
            "✨ Enhancing: Header\n",
            "✨ Enhancing: Skills\n",
            "✅ Enhanced resume saved and ready for download: /content/drive/My Drive/CAPSTONE/authentic_resumes/enhanced_filtered_2_page_resumes/77_resume_job5_authentic_0_enhanced.pdf\n",
            "✅ Finished: 77_resume_job5_authentic_0_enhanced.pdf\n",
            "\n",
            "🔄 Processing (TEST 2): 5_resume_job5_authentic_0.pdf\n",
            " Selected Sections for Enhancement (2 total):\n",
            "- • CSS\n",
            "- • REST\n",
            "\n",
            "🔹 Enhancing the following sections:\n",
            "✨ Enhancing: • CSS\n",
            "✨ Enhancing: • REST\n"
          ]
        },
        {
          "name": "stderr",
          "output_type": "stream",
          "text": [
            "WARNING:pdfminer.pdfpage:CropBox missing from /Page, defaulting to MediaBox\n",
            "WARNING:pdfminer.pdfpage:CropBox missing from /Page, defaulting to MediaBox\n"
          ]
        },
        {
          "name": "stdout",
          "output_type": "stream",
          "text": [
            "✅ Enhanced resume saved and ready for download: /content/drive/My Drive/CAPSTONE/authentic_resumes/enhanced_filtered_2_page_resumes/5_resume_job5_authentic_0_enhanced.pdf\n",
            "✅ Finished: 5_resume_job5_authentic_0_enhanced.pdf\n",
            "\n",
            "🔄 Processing (TEST 2): 8_resume_job5_authentic_0.pdf\n"
          ]
        },
        {
          "name": "stderr",
          "output_type": "stream",
          "text": [
            "WARNING:pdfminer.pdfpage:CropBox missing from /Page, defaulting to MediaBox\n",
            "WARNING:pdfminer.pdfpage:CropBox missing from /Page, defaulting to MediaBox\n"
          ]
        },
        {
          "name": "stdout",
          "output_type": "stream",
          "text": [
            " Selected Sections for Enhancement (1 total):\n",
            "- Education\n",
            "\n",
            "🔹 Enhancing the following sections:\n",
            "✨ Enhancing: Education\n"
          ]
        },
        {
          "name": "stderr",
          "output_type": "stream",
          "text": [
            "WARNING:pdfminer.pdfpage:CropBox missing from /Page, defaulting to MediaBox\n",
            "WARNING:pdfminer.pdfpage:CropBox missing from /Page, defaulting to MediaBox\n"
          ]
        },
        {
          "name": "stdout",
          "output_type": "stream",
          "text": [
            "✅ Enhanced resume saved and ready for download: /content/drive/My Drive/CAPSTONE/authentic_resumes/enhanced_filtered_2_page_resumes/8_resume_job5_authentic_0_enhanced.pdf\n",
            "✅ Finished: 8_resume_job5_authentic_0_enhanced.pdf\n",
            "\n",
            "🔄 Processing (TEST 2): 35_resume_job5_authentic_0.pdf\n"
          ]
        },
        {
          "name": "stderr",
          "output_type": "stream",
          "text": [
            "WARNING:pdfminer.pdfpage:CropBox missing from /Page, defaulting to MediaBox\n",
            "WARNING:pdfminer.pdfpage:CropBox missing from /Page, defaulting to MediaBox\n"
          ]
        },
        {
          "name": "stdout",
          "output_type": "stream",
          "text": [
            " Selected Sections for Enhancement (1 total):\n",
            "- Languages Hobbies\n",
            "\n",
            "🔹 Enhancing the following sections:\n",
            "✨ Enhancing: Languages Hobbies\n"
          ]
        },
        {
          "name": "stderr",
          "output_type": "stream",
          "text": [
            "WARNING:pdfminer.pdfpage:CropBox missing from /Page, defaulting to MediaBox\n",
            "WARNING:pdfminer.pdfpage:CropBox missing from /Page, defaulting to MediaBox\n",
            "WARNING:pdfminer.pdfpage:CropBox missing from /Page, defaulting to MediaBox\n",
            "WARNING:pdfminer.pdfpage:CropBox missing from /Page, defaulting to MediaBox\n"
          ]
        },
        {
          "name": "stdout",
          "output_type": "stream",
          "text": [
            "✅ Enhanced resume saved and ready for download: /content/drive/My Drive/CAPSTONE/authentic_resumes/enhanced_filtered_2_page_resumes/35_resume_job5_authentic_0_enhanced.pdf\n",
            "✅ Finished: 35_resume_job5_authentic_0_enhanced.pdf\n",
            "\n",
            "🔄 Processing (TEST 2): 126_resume_job5_authentic_0.pdf\n",
            " Selected Sections for Enhancement (2 total):\n",
            "- Experience\n",
            "- Seeking a challenging position utilizing my extensive experience in data-driven, web-based\n",
            "\n",
            "🔹 Enhancing the following sections:\n",
            "✨ Enhancing: Experience\n",
            "✨ Enhancing: Seeking a challenging position utilizing my extensive experience in data-driven, web-based\n"
          ]
        },
        {
          "name": "stderr",
          "output_type": "stream",
          "text": [
            "WARNING:pdfminer.pdfpage:CropBox missing from /Page, defaulting to MediaBox\n",
            "WARNING:pdfminer.pdfpage:CropBox missing from /Page, defaulting to MediaBox\n"
          ]
        },
        {
          "name": "stdout",
          "output_type": "stream",
          "text": [
            "✅ Enhanced resume saved and ready for download: /content/drive/My Drive/CAPSTONE/authentic_resumes/enhanced_filtered_2_page_resumes/126_resume_job5_authentic_0_enhanced.pdf\n",
            "✅ Finished: 126_resume_job5_authentic_0_enhanced.pdf\n",
            "\n",
            "🔄 Processing (TEST 2): 26_resume_job5_authentic_0.pdf\n"
          ]
        },
        {
          "name": "stderr",
          "output_type": "stream",
          "text": [
            "WARNING:pdfminer.pdfpage:CropBox missing from /Page, defaulting to MediaBox\n",
            "WARNING:pdfminer.pdfpage:CropBox missing from /Page, defaulting to MediaBox\n"
          ]
        },
        {
          "name": "stdout",
          "output_type": "stream",
          "text": [
            " Selected Sections for Enhancement (2 total):\n",
            "- • Implemented a modern user profile feature using React and Typescript,\n",
            "- EXPERIENCE\n",
            "\n",
            "🔹 Enhancing the following sections:\n",
            "✨ Enhancing: • Implemented a modern user profile feature using React and Typescript,\n",
            "✨ Enhancing: EXPERIENCE\n"
          ]
        },
        {
          "name": "stderr",
          "output_type": "stream",
          "text": [
            "WARNING:pdfminer.pdfpage:CropBox missing from /Page, defaulting to MediaBox\n",
            "WARNING:pdfminer.pdfpage:CropBox missing from /Page, defaulting to MediaBox\n"
          ]
        },
        {
          "name": "stdout",
          "output_type": "stream",
          "text": [
            "✅ Enhanced resume saved and ready for download: /content/drive/My Drive/CAPSTONE/authentic_resumes/enhanced_filtered_2_page_resumes/26_resume_job5_authentic_0_enhanced.pdf\n",
            "✅ Finished: 26_resume_job5_authentic_0_enhanced.pdf\n",
            "\n",
            "🔄 Processing (TEST 2): 47_resume_job2_authentic_0.pdf\n"
          ]
        },
        {
          "name": "stderr",
          "output_type": "stream",
          "text": [
            "WARNING:pdfminer.pdfpage:CropBox missing from /Page, defaulting to MediaBox\n",
            "WARNING:pdfminer.pdfpage:CropBox missing from /Page, defaulting to MediaBox\n"
          ]
        },
        {
          "name": "stdout",
          "output_type": "stream",
          "text": [
            " Selected Sections for Enhancement (2 total):\n",
            "- Education\n",
            "- Programming Languages: Python, R, SQL, HTML, CSS, Pyspark, C/C++\n",
            "\n",
            "🔹 Enhancing the following sections:\n",
            "✨ Enhancing: Education\n",
            "✨ Enhancing: Programming Languages: Python, R, SQL, HTML, CSS, Pyspark, C/C++\n"
          ]
        },
        {
          "name": "stderr",
          "output_type": "stream",
          "text": [
            "WARNING:pdfminer.pdfpage:CropBox missing from /Page, defaulting to MediaBox\n",
            "WARNING:pdfminer.pdfpage:CropBox missing from /Page, defaulting to MediaBox\n"
          ]
        },
        {
          "name": "stdout",
          "output_type": "stream",
          "text": [
            "✅ Enhanced resume saved and ready for download: /content/drive/My Drive/CAPSTONE/authentic_resumes/enhanced_filtered_2_page_resumes/47_resume_job2_authentic_0_enhanced.pdf\n",
            "✅ Finished: 47_resume_job2_authentic_0_enhanced.pdf\n",
            "\n",
            "🔄 Processing (TEST 2): 146_resume_job5_authentic_0.pdf\n"
          ]
        },
        {
          "name": "stderr",
          "output_type": "stream",
          "text": [
            "WARNING:pdfminer.pdfpage:CropBox missing from /Page, defaulting to MediaBox\n",
            "WARNING:pdfminer.pdfpage:CropBox missing from /Page, defaulting to MediaBox\n"
          ]
        },
        {
          "name": "stdout",
          "output_type": "stream",
          "text": [
            " Selected Sections for Enhancement (1 total):\n",
            "- CERTIFICATIONS (LINK)\n",
            "\n",
            "🔹 Enhancing the following sections:\n",
            "✨ Enhancing: CERTIFICATIONS (LINK)\n"
          ]
        },
        {
          "name": "stderr",
          "output_type": "stream",
          "text": [
            "WARNING:pdfminer.pdfpage:CropBox missing from /Page, defaulting to MediaBox\n",
            "WARNING:pdfminer.pdfpage:CropBox missing from /Page, defaulting to MediaBox\n",
            "WARNING:pdfminer.pdfpage:CropBox missing from /Page, defaulting to MediaBox\n",
            "WARNING:pdfminer.pdfpage:CropBox missing from /Page, defaulting to MediaBox\n"
          ]
        },
        {
          "name": "stdout",
          "output_type": "stream",
          "text": [
            "✅ Enhanced resume saved and ready for download: /content/drive/My Drive/CAPSTONE/authentic_resumes/enhanced_filtered_2_page_resumes/146_resume_job5_authentic_0_enhanced.pdf\n",
            "✅ Finished: 146_resume_job5_authentic_0_enhanced.pdf\n",
            "\n",
            "🔄 Processing (TEST 2): 54_resume_job1_authentic_0.pdf\n",
            " Selected Sections for Enhancement (1 total):\n",
            "- QUALIFICATIONS SUMMARY\n",
            "\n",
            "🔹 Enhancing the following sections:\n",
            "✨ Enhancing: QUALIFICATIONS SUMMARY\n"
          ]
        },
        {
          "name": "stderr",
          "output_type": "stream",
          "text": [
            "WARNING:pdfminer.pdfpage:CropBox missing from /Page, defaulting to MediaBox\n",
            "WARNING:pdfminer.pdfpage:CropBox missing from /Page, defaulting to MediaBox\n"
          ]
        },
        {
          "name": "stdout",
          "output_type": "stream",
          "text": [
            "✅ Enhanced resume saved and ready for download: /content/drive/My Drive/CAPSTONE/authentic_resumes/enhanced_filtered_2_page_resumes/54_resume_job1_authentic_0_enhanced.pdf\n",
            "✅ Finished: 54_resume_job1_authentic_0_enhanced.pdf\n",
            "\n",
            "🔄 Processing (TEST 2): 142_resume_job2_authentic_0.pdf\n"
          ]
        },
        {
          "name": "stderr",
          "output_type": "stream",
          "text": [
            "WARNING:pdfminer.pdfpage:CropBox missing from /Page, defaulting to MediaBox\n",
            "WARNING:pdfminer.pdfpage:CropBox missing from /Page, defaulting to MediaBox\n"
          ]
        },
        {
          "name": "stdout",
          "output_type": "stream",
          "text": [
            " Selected Sections for Enhancement (2 total):\n",
            "- Header\n",
            "- Closely monitor progress of projects, taking appropriate control action, when required,\n",
            "\n",
            "🔹 Enhancing the following sections:\n",
            "✨ Enhancing: Header\n",
            "✨ Enhancing: Closely monitor progress of projects, taking appropriate control action, when required,\n"
          ]
        },
        {
          "name": "stderr",
          "output_type": "stream",
          "text": [
            "WARNING:pdfminer.pdfpage:CropBox missing from /Page, defaulting to MediaBox\n",
            "WARNING:pdfminer.pdfpage:CropBox missing from /Page, defaulting to MediaBox\n",
            "WARNING:pdfminer.pdfpage:CropBox missing from /Page, defaulting to MediaBox\n",
            "WARNING:pdfminer.pdfpage:CropBox missing from /Page, defaulting to MediaBox\n"
          ]
        },
        {
          "name": "stdout",
          "output_type": "stream",
          "text": [
            "✅ Enhanced resume saved and ready for download: /content/drive/My Drive/CAPSTONE/authentic_resumes/enhanced_filtered_2_page_resumes/142_resume_job2_authentic_0_enhanced.pdf\n",
            "✅ Finished: 142_resume_job2_authentic_0_enhanced.pdf\n",
            "\n",
            "🔄 Processing (TEST 2): 105_resume_job2_authentic_0.pdf\n",
            " Selected Sections for Enhancement (1 total):\n",
            "- Header\n",
            "\n",
            "🔹 Enhancing the following sections:\n",
            "✨ Enhancing: Header\n"
          ]
        },
        {
          "name": "stderr",
          "output_type": "stream",
          "text": [
            "WARNING:pdfminer.pdfpage:CropBox missing from /Page, defaulting to MediaBox\n",
            "WARNING:pdfminer.pdfpage:CropBox missing from /Page, defaulting to MediaBox\n"
          ]
        },
        {
          "name": "stdout",
          "output_type": "stream",
          "text": [
            "✅ Enhanced resume saved and ready for download: /content/drive/My Drive/CAPSTONE/authentic_resumes/enhanced_filtered_2_page_resumes/105_resume_job2_authentic_0_enhanced.pdf\n",
            "✅ Finished: 105_resume_job2_authentic_0_enhanced.pdf\n",
            "\n",
            "🔄 Processing (TEST 2): 112_resume_job2_authentic_0.pdf\n"
          ]
        },
        {
          "name": "stderr",
          "output_type": "stream",
          "text": [
            "WARNING:pdfminer.pdfpage:CropBox missing from /Page, defaulting to MediaBox\n",
            "WARNING:pdfminer.pdfpage:CropBox missing from /Page, defaulting to MediaBox\n"
          ]
        },
        {
          "name": "stdout",
          "output_type": "stream",
          "text": [
            " Selected Sections for Enhancement (1 total):\n",
            "- objectives.\n",
            "\n",
            "🔹 Enhancing the following sections:\n",
            "✨ Enhancing: objectives.\n"
          ]
        },
        {
          "name": "stderr",
          "output_type": "stream",
          "text": [
            "WARNING:pdfminer.pdfpage:CropBox missing from /Page, defaulting to MediaBox\n",
            "WARNING:pdfminer.pdfpage:CropBox missing from /Page, defaulting to MediaBox\n"
          ]
        },
        {
          "name": "stdout",
          "output_type": "stream",
          "text": [
            "✅ Enhanced resume saved and ready for download: /content/drive/My Drive/CAPSTONE/authentic_resumes/enhanced_filtered_2_page_resumes/112_resume_job2_authentic_0_enhanced.pdf\n",
            "✅ Finished: 112_resume_job2_authentic_0_enhanced.pdf\n",
            "\n",
            "🔄 Processing (TEST 2): 140_resume_job5_authentic_0.pdf\n"
          ]
        },
        {
          "name": "stderr",
          "output_type": "stream",
          "text": [
            "WARNING:pdfminer.pdfpage:CropBox missing from /Page, defaulting to MediaBox\n",
            "WARNING:pdfminer.pdfpage:CropBox missing from /Page, defaulting to MediaBox\n"
          ]
        },
        {
          "name": "stdout",
          "output_type": "stream",
          "text": [
            " Selected Sections for Enhancement (1 total):\n",
            "- JIAHAO ZHU\n",
            "\n",
            "🔹 Enhancing the following sections:\n",
            "✨ Enhancing: JIAHAO ZHU\n",
            "✅ Enhanced resume saved and ready for download: /content/drive/My Drive/CAPSTONE/authentic_resumes/enhanced_filtered_2_page_resumes/140_resume_job5_authentic_0_enhanced.pdf\n",
            "✅ Finished: 140_resume_job5_authentic_0_enhanced.pdf\n",
            "\n",
            "🔄 Processing (TEST 2): 28_resume_job1_authentic_0.pdf\n",
            " Selected Sections for Enhancement (1 total):\n",
            "- • OOP\n",
            "\n",
            "🔹 Enhancing the following sections:\n",
            "✨ Enhancing: • OOP\n",
            "✅ Enhanced resume saved and ready for download: /content/drive/My Drive/CAPSTONE/authentic_resumes/enhanced_filtered_2_page_resumes/28_resume_job1_authentic_0_enhanced.pdf\n",
            "✅ Finished: 28_resume_job1_authentic_0_enhanced.pdf\n",
            "\n",
            "🔄 Processing (TEST 2): 97_resume_job5_authentic_0.pdf\n",
            " Selected Sections for Enhancement (2 total):\n",
            "- testing, and monitoring website analytics to improve website performance, security, and user experience\n",
            "- 2+ years of work experience in Frontend /UI/Web Development with specialization in React.js seeking\n",
            "\n",
            "🔹 Enhancing the following sections:\n",
            "✨ Enhancing: testing, and monitoring website analytics to improve website performance, security, and user experience\n",
            "✨ Enhancing: 2+ years of work experience in Frontend /UI/Web Development with specialization in React.js seeking\n"
          ]
        },
        {
          "name": "stderr",
          "output_type": "stream",
          "text": [
            "WARNING:pdfminer.pdfpage:CropBox missing from /Page, defaulting to MediaBox\n",
            "WARNING:pdfminer.pdfpage:CropBox missing from /Page, defaulting to MediaBox\n"
          ]
        },
        {
          "name": "stdout",
          "output_type": "stream",
          "text": [
            "✅ Enhanced resume saved and ready for download: /content/drive/My Drive/CAPSTONE/authentic_resumes/enhanced_filtered_2_page_resumes/97_resume_job5_authentic_0_enhanced.pdf\n",
            "✅ Finished: 97_resume_job5_authentic_0_enhanced.pdf\n",
            "\n",
            "🔄 Processing (TEST 2): 74_resume_job5_authentic_0.pdf\n"
          ]
        },
        {
          "name": "stderr",
          "output_type": "stream",
          "text": [
            "WARNING:pdfminer.pdfpage:CropBox missing from /Page, defaulting to MediaBox\n",
            "WARNING:pdfminer.pdfpage:CropBox missing from /Page, defaulting to MediaBox\n"
          ]
        },
        {
          "name": "stdout",
          "output_type": "stream",
          "text": [
            " Selected Sections for Enhancement (2 total):\n",
            "- Education\n",
            "- Header\n",
            "\n",
            "🔹 Enhancing the following sections:\n",
            "✨ Enhancing: Education\n",
            "✨ Enhancing: Header\n"
          ]
        },
        {
          "name": "stderr",
          "output_type": "stream",
          "text": [
            "WARNING:pdfminer.pdfpage:CropBox missing from /Page, defaulting to MediaBox\n",
            "WARNING:pdfminer.pdfpage:CropBox missing from /Page, defaulting to MediaBox\n"
          ]
        },
        {
          "name": "stdout",
          "output_type": "stream",
          "text": [
            "✅ Enhanced resume saved and ready for download: /content/drive/My Drive/CAPSTONE/authentic_resumes/enhanced_filtered_2_page_resumes/74_resume_job5_authentic_0_enhanced.pdf\n",
            "✅ Finished: 74_resume_job5_authentic_0_enhanced.pdf\n",
            "\n",
            "🔄 Processing (TEST 2): 4_resume_job2_authentic_0.pdf\n"
          ]
        },
        {
          "name": "stderr",
          "output_type": "stream",
          "text": [
            "WARNING:pdfminer.pdfpage:CropBox missing from /Page, defaulting to MediaBox\n",
            "WARNING:pdfminer.pdfpage:CropBox missing from /Page, defaulting to MediaBox\n"
          ]
        },
        {
          "name": "stdout",
          "output_type": "stream",
          "text": [
            " Selected Sections for Enhancement (2 total):\n",
            "- A rigorous, task-driven graduate professional with substantial experience of 3 years in the field of software\n",
            "- TECHNICAL SKILLS\n",
            "\n",
            "🔹 Enhancing the following sections:\n",
            "✨ Enhancing: A rigorous, task-driven graduate professional with substantial experience of 3 years in the field of software\n",
            "✨ Enhancing: TECHNICAL SKILLS\n"
          ]
        },
        {
          "name": "stderr",
          "output_type": "stream",
          "text": [
            "WARNING:pdfminer.pdfpage:CropBox missing from /Page, defaulting to MediaBox\n",
            "WARNING:pdfminer.pdfpage:CropBox missing from /Page, defaulting to MediaBox\n"
          ]
        },
        {
          "name": "stdout",
          "output_type": "stream",
          "text": [
            "✅ Enhanced resume saved and ready for download: /content/drive/My Drive/CAPSTONE/authentic_resumes/enhanced_filtered_2_page_resumes/4_resume_job2_authentic_0_enhanced.pdf\n",
            "✅ Finished: 4_resume_job2_authentic_0_enhanced.pdf\n",
            "\n",
            "🔄 Processing (TEST 2): 115_resume_job1_authentic_0.pdf\n"
          ]
        },
        {
          "name": "stderr",
          "output_type": "stream",
          "text": [
            "WARNING:pdfminer.pdfpage:CropBox missing from /Page, defaulting to MediaBox\n",
            "WARNING:pdfminer.pdfpage:CropBox missing from /Page, defaulting to MediaBox\n"
          ]
        },
        {
          "name": "stdout",
          "output_type": "stream",
          "text": [
            " Selected Sections for Enhancement (1 total):\n",
            "- Possess advanced engineering, mathematical and programming skills. Enjoy solving problems and\n",
            "\n",
            "🔹 Enhancing the following sections:\n",
            "✨ Enhancing: Possess advanced engineering, mathematical and programming skills. Enjoy solving problems and\n"
          ]
        },
        {
          "name": "stderr",
          "output_type": "stream",
          "text": [
            "WARNING:pdfminer.pdfpage:CropBox missing from /Page, defaulting to MediaBox\n",
            "WARNING:pdfminer.pdfpage:CropBox missing from /Page, defaulting to MediaBox\n"
          ]
        },
        {
          "name": "stdout",
          "output_type": "stream",
          "text": [
            "✅ Enhanced resume saved and ready for download: /content/drive/My Drive/CAPSTONE/authentic_resumes/enhanced_filtered_2_page_resumes/115_resume_job1_authentic_0_enhanced.pdf\n",
            "✅ Finished: 115_resume_job1_authentic_0_enhanced.pdf\n",
            "\n",
            "🔄 Processing (TEST 2): 61_resume_job5_authentic_0.pdf\n"
          ]
        },
        {
          "name": "stderr",
          "output_type": "stream",
          "text": [
            "WARNING:pdfminer.pdfpage:CropBox missing from /Page, defaulting to MediaBox\n",
            "WARNING:pdfminer.pdfpage:CropBox missing from /Page, defaulting to MediaBox\n"
          ]
        },
        {
          "name": "stdout",
          "output_type": "stream",
          "text": [
            " Selected Sections for Enhancement (1 total):\n",
            "- • Collected and cataloged library resources including books, films, and publications\n",
            "\n",
            "🔹 Enhancing the following sections:\n",
            "✨ Enhancing: • Collected and cataloged library resources including books, films, and publications\n"
          ]
        },
        {
          "name": "stderr",
          "output_type": "stream",
          "text": [
            "WARNING:pdfminer.pdfpage:CropBox missing from /Page, defaulting to MediaBox\n",
            "WARNING:pdfminer.pdfpage:CropBox missing from /Page, defaulting to MediaBox\n"
          ]
        },
        {
          "name": "stdout",
          "output_type": "stream",
          "text": [
            "✅ Enhanced resume saved and ready for download: /content/drive/My Drive/CAPSTONE/authentic_resumes/enhanced_filtered_2_page_resumes/61_resume_job5_authentic_0_enhanced.pdf\n",
            "✅ Finished: 61_resume_job5_authentic_0_enhanced.pdf\n",
            "\n",
            "🔄 Processing (TEST 2): 81_resume_job5_authentic_0.pdf\n"
          ]
        },
        {
          "name": "stderr",
          "output_type": "stream",
          "text": [
            "WARNING:pdfminer.pdfpage:CropBox missing from /Page, defaulting to MediaBox\n",
            "WARNING:pdfminer.pdfpage:CropBox missing from /Page, defaulting to MediaBox\n"
          ]
        },
        {
          "name": "stdout",
          "output_type": "stream",
          "text": [
            " Selected Sections for Enhancement (1 total):\n",
            "- skills.\n",
            "\n",
            "🔹 Enhancing the following sections:\n",
            "✨ Enhancing: skills.\n"
          ]
        },
        {
          "name": "stderr",
          "output_type": "stream",
          "text": [
            "WARNING:pdfminer.pdfpage:CropBox missing from /Page, defaulting to MediaBox\n",
            "WARNING:pdfminer.pdfpage:CropBox missing from /Page, defaulting to MediaBox\n"
          ]
        },
        {
          "name": "stdout",
          "output_type": "stream",
          "text": [
            "✅ Enhanced resume saved and ready for download: /content/drive/My Drive/CAPSTONE/authentic_resumes/enhanced_filtered_2_page_resumes/81_resume_job5_authentic_0_enhanced.pdf\n",
            "✅ Finished: 81_resume_job5_authentic_0_enhanced.pdf\n",
            "\n",
            "🔄 Processing (TEST 2): 67_resume_job1_authentic_0.pdf\n"
          ]
        },
        {
          "name": "stderr",
          "output_type": "stream",
          "text": [
            "WARNING:pdfminer.pdfpage:CropBox missing from /Page, defaulting to MediaBox\n",
            "WARNING:pdfminer.pdfpage:CropBox missing from /Page, defaulting to MediaBox\n"
          ]
        },
        {
          "name": "stdout",
          "output_type": "stream",
          "text": [
            " Selected Sections for Enhancement (2 total):\n",
            "- ● Great Plains ● Excellent analytical skills\n",
            "- ● Engaged in a focus group to plan business future data systems goals and objectives for clients and internal use. In an acting role of leader\n",
            "\n",
            "🔹 Enhancing the following sections:\n",
            "✨ Enhancing: ● Great Plains ● Excellent analytical skills\n",
            "✨ Enhancing: ● Engaged in a focus group to plan business future data systems goals and objectives for clients and internal use. In an acting role of leader\n"
          ]
        },
        {
          "name": "stderr",
          "output_type": "stream",
          "text": [
            "WARNING:pdfminer.pdfpage:CropBox missing from /Page, defaulting to MediaBox\n",
            "WARNING:pdfminer.pdfpage:CropBox missing from /Page, defaulting to MediaBox\n"
          ]
        },
        {
          "name": "stdout",
          "output_type": "stream",
          "text": [
            "✅ Enhanced resume saved and ready for download: /content/drive/My Drive/CAPSTONE/authentic_resumes/enhanced_filtered_2_page_resumes/67_resume_job1_authentic_0_enhanced.pdf\n",
            "✅ Finished: 67_resume_job1_authentic_0_enhanced.pdf\n",
            "\n",
            "🔄 Processing (TEST 2): 39_resume_job2_authentic_0.pdf\n"
          ]
        },
        {
          "name": "stderr",
          "output_type": "stream",
          "text": [
            "WARNING:pdfminer.pdfpage:CropBox missing from /Page, defaulting to MediaBox\n",
            "WARNING:pdfminer.pdfpage:CropBox missing from /Page, defaulting to MediaBox\n"
          ]
        },
        {
          "name": "stdout",
          "output_type": "stream",
          "text": [
            " Selected Sections for Enhancement (1 total):\n",
            "- Programming Skills: HTML, CSS, JavaScript, C, C++, MySQL, SAP HANA SQL, Crystal\n",
            "\n",
            "🔹 Enhancing the following sections:\n",
            "✨ Enhancing: Programming Skills: HTML, CSS, JavaScript, C, C++, MySQL, SAP HANA SQL, Crystal\n",
            "✅ Enhanced resume saved and ready for download: /content/drive/My Drive/CAPSTONE/authentic_resumes/enhanced_filtered_2_page_resumes/39_resume_job2_authentic_0_enhanced.pdf\n",
            "✅ Finished: 39_resume_job2_authentic_0_enhanced.pdf\n",
            "\n",
            "🔄 Processing (TEST 2): 122_resume_job1_authentic_0.pdf\n",
            " Selected Sections for Enhancement (2 total):\n",
            "- Skills: Excellent oral and written communication skills, securities, finance.\n",
            "- BENJAMIN YASHAR\n",
            "\n",
            "🔹 Enhancing the following sections:\n",
            "✨ Enhancing: Skills: Excellent oral and written communication skills, securities, finance.\n",
            "✨ Enhancing: BENJAMIN YASHAR\n",
            "❌ Failed to process 122_resume_job1_authentic_0.pdf: Error code: 429 - {'error': {'message': 'You exceeded your current quota, please check your plan and billing details. For more information on this error, read the docs: https://platform.openai.com/docs/guides/error-codes/api-errors.', 'type': 'insufficient_quota', 'param': None, 'code': 'insufficient_quota'}}\n"
          ]
        }
      ],
      "source": [
        "print(\"🚀 REMAINING TEST RUN (resumes 11-141):\")\n",
        "\n",
        "for filename in remaining_files:\n",
        "    input_path = os.path.join(input_dir, filename)\n",
        "    output_filename = filename.replace(\".pdf\", \"_enhanced.pdf\")\n",
        "    output_path = os.path.join(output_dir, output_filename)\n",
        "\n",
        "    try:\n",
        "        print(f\"\\n🔄 Processing (TEST 2): {filename}\")\n",
        "        process_and_enhance_resume(input_path, job_description, output_path)\n",
        "        print(f\"✅ Finished: {output_filename}\")\n",
        "    except Exception as e:\n",
        "        print(f\"❌ Failed to process {filename}: {e}\")"
      ]
    },
    {
      "cell_type": "code",
      "execution_count": null,
      "metadata": {
        "colab": {
          "base_uri": "https://localhost:8080/"
        },
        "id": "9yGRJGFF-GUL",
        "outputId": "b94869a2-3bb0-4686-9716-f5d7e15165b4"
      },
      "outputs": [
        {
          "output_type": "stream",
          "name": "stdout",
          "text": [
            "i hope it doesn't disconnect\n"
          ]
        }
      ],
      "source": [
        "print(\"i hope it doesn't disconnect\")"
      ]
    },
    {
      "cell_type": "code",
      "source": [
        "start_index = pdf_files.index(\"122_resume_job1_authentic_0.pdf\")\n",
        "print(start_index)"
      ],
      "metadata": {
        "colab": {
          "base_uri": "https://localhost:8080/"
        },
        "id": "ZwJuOHhttYWR",
        "outputId": "f7543617-f656-4ef2-a367-f1d720631a5b"
      },
      "execution_count": null,
      "outputs": [
        {
          "output_type": "stream",
          "name": "stdout",
          "text": [
            "140\n"
          ]
        }
      ]
    },
    {
      "cell_type": "code",
      "source": [
        "resume_from_here = pdf_files[start_index:]\n"
      ],
      "metadata": {
        "id": "eCfz6pQntk0S"
      },
      "execution_count": null,
      "outputs": []
    },
    {
      "cell_type": "code",
      "source": [
        "print(f\"🚀 RESUMING FROM: {resume_from_here[0]}\")\n",
        "\n",
        "for filename in resume_from_here:\n",
        "    input_path = os.path.join(input_dir, filename)\n",
        "    output_filename = filename.replace(\".pdf\", \"_enhanced.pdf\")\n",
        "    output_path = os.path.join(output_dir, output_filename)\n",
        "\n",
        "    try:\n",
        "        print(f\"\\n🔄 Processing: {filename}\")\n",
        "        process_and_enhance_resume(input_path, job_description, output_path)\n",
        "        print(f\"✅ Finished: {output_filename}\")\n",
        "    except Exception as e:\n",
        "        print(f\"❌ Failed to process {filename}: {e}\")\n"
      ],
      "metadata": {
        "colab": {
          "base_uri": "https://localhost:8080/",
          "height": 207
        },
        "id": "2wyyNrw5tobK",
        "outputId": "85f0add5-4062-4977-e262-22feba0d3666"
      },
      "execution_count": null,
      "outputs": [
        {
          "output_type": "error",
          "ename": "NameError",
          "evalue": "name 'resume_from_here' is not defined",
          "traceback": [
            "\u001b[0;31m---------------------------------------------------------------------------\u001b[0m",
            "\u001b[0;31mNameError\u001b[0m                                 Traceback (most recent call last)",
            "\u001b[0;32m<ipython-input-1-f0f07459eb99>\u001b[0m in \u001b[0;36m<cell line: 0>\u001b[0;34m()\u001b[0m\n\u001b[0;32m----> 1\u001b[0;31m \u001b[0mprint\u001b[0m\u001b[0;34m(\u001b[0m\u001b[0;34mf\"🚀 RESUMING FROM: {resume_from_here[0]}\"\u001b[0m\u001b[0;34m)\u001b[0m\u001b[0;34m\u001b[0m\u001b[0;34m\u001b[0m\u001b[0m\n\u001b[0m\u001b[1;32m      2\u001b[0m \u001b[0;34m\u001b[0m\u001b[0m\n\u001b[1;32m      3\u001b[0m \u001b[0;32mfor\u001b[0m \u001b[0mfilename\u001b[0m \u001b[0;32min\u001b[0m \u001b[0mresume_from_here\u001b[0m\u001b[0;34m:\u001b[0m\u001b[0;34m\u001b[0m\u001b[0;34m\u001b[0m\u001b[0m\n\u001b[1;32m      4\u001b[0m     \u001b[0minput_path\u001b[0m \u001b[0;34m=\u001b[0m \u001b[0mos\u001b[0m\u001b[0;34m.\u001b[0m\u001b[0mpath\u001b[0m\u001b[0;34m.\u001b[0m\u001b[0mjoin\u001b[0m\u001b[0;34m(\u001b[0m\u001b[0minput_dir\u001b[0m\u001b[0;34m,\u001b[0m \u001b[0mfilename\u001b[0m\u001b[0;34m)\u001b[0m\u001b[0;34m\u001b[0m\u001b[0;34m\u001b[0m\u001b[0m\n\u001b[1;32m      5\u001b[0m     \u001b[0moutput_filename\u001b[0m \u001b[0;34m=\u001b[0m \u001b[0mfilename\u001b[0m\u001b[0;34m.\u001b[0m\u001b[0mreplace\u001b[0m\u001b[0;34m(\u001b[0m\u001b[0;34m\".pdf\"\u001b[0m\u001b[0;34m,\u001b[0m \u001b[0;34m\"_enhanced.pdf\"\u001b[0m\u001b[0;34m)\u001b[0m\u001b[0;34m\u001b[0m\u001b[0;34m\u001b[0m\u001b[0m\n",
            "\u001b[0;31mNameError\u001b[0m: name 'resume_from_here' is not defined"
          ]
        }
      ]
    }
  ],
  "metadata": {
    "colab": {
      "provenance": []
    },
    "kernelspec": {
      "display_name": "Python 3",
      "name": "python3"
    },
    "language_info": {
      "name": "python"
    }
  },
  "nbformat": 4,
  "nbformat_minor": 0
}