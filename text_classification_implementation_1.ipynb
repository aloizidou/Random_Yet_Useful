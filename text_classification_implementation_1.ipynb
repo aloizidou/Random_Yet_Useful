{
 "cells": [
  {
   "cell_type": "markdown",
   "id": "8443958a",
   "metadata": {},
   "source": [
    "# Text Classification Implementation\n",
    "\n",
    "In this notebook, we will implement a text classification model using logistic regression. The steps include data loading, preprocessing, feature extraction, model training, and evaluation.\n",
    "\n",
    "## 1. Import Necessary Libraries\n"
   ]
  },
  {
   "cell_type": "code",
   "execution_count": 26,
   "id": "e8d49965",
   "metadata": {},
   "outputs": [],
   "source": [
    "# Importing necessary libraries\n",
    "import pandas as pd\n",
    "import numpy as np\n",
    "import matplotlib.pyplot as plt\n",
    "import seaborn as sns\n",
    "from sklearn.model_selection import train_test_split\n",
    "from sklearn.feature_extraction.text import TfidfVectorizer\n",
    "from sklearn.linear_model import LogisticRegression\n",
    "from sklearn.metrics import accuracy_score, confusion_matrix, classification_report\n"
   ]
  },
  {
   "cell_type": "markdown",
   "id": "5ccdfae0",
   "metadata": {},
   "source": [
    "## 2. Load the Dataset\n",
    "\n",
    "We load the dataset from the specified CSV file into a pandas DataFrame and display the first few rows to understand its structure.\n"
   ]
  },
  {
   "cell_type": "code",
   "execution_count": 27,
   "id": "ee48f671",
   "metadata": {},
   "outputs": [
    {
     "data": {
      "text/html": [
       "<div>\n",
       "<style scoped>\n",
       "    .dataframe tbody tr th:only-of-type {\n",
       "        vertical-align: middle;\n",
       "    }\n",
       "\n",
       "    .dataframe tbody tr th {\n",
       "        vertical-align: top;\n",
       "    }\n",
       "\n",
       "    .dataframe thead th {\n",
       "        text-align: right;\n",
       "    }\n",
       "</style>\n",
       "<table border=\"1\" class=\"dataframe\">\n",
       "  <thead>\n",
       "    <tr style=\"text-align: right;\">\n",
       "      <th></th>\n",
       "      <th>Name</th>\n",
       "      <th>Text</th>\n",
       "      <th>Label</th>\n",
       "    </tr>\n",
       "  </thead>\n",
       "  <tbody>\n",
       "    <tr>\n",
       "      <th>0</th>\n",
       "      <td>2_resume_job2_ChatGPT_1_cleaned</td>\n",
       "      <td>resume name address email phonenumber address ...</td>\n",
       "      <td>1.0</td>\n",
       "    </tr>\n",
       "    <tr>\n",
       "      <th>1</th>\n",
       "      <td>105_resume_job2_authentic_0_cleaned</td>\n",
       "      <td>name address  email phonenumber holding 5 year...</td>\n",
       "      <td>0.0</td>\n",
       "    </tr>\n",
       "    <tr>\n",
       "      <th>2</th>\n",
       "      <td>31_resume_job1_authentic_0_cleaned</td>\n",
       "      <td>name net name address 21704 email phonenumber ...</td>\n",
       "      <td>0.0</td>\n",
       "    </tr>\n",
       "    <tr>\n",
       "      <th>3</th>\n",
       "      <td>142_resume_job2_authentic_0_cleaned</td>\n",
       "      <td>sqlssisssrs name name name email email locatio...</td>\n",
       "      <td>0.0</td>\n",
       "    </tr>\n",
       "    <tr>\n",
       "      <th>4</th>\n",
       "      <td>66_resume_job5_authentic_0_cleaned</td>\n",
       "      <td>name del name namename name address 33144 emai...</td>\n",
       "      <td>0.0</td>\n",
       "    </tr>\n",
       "  </tbody>\n",
       "</table>\n",
       "</div>"
      ],
      "text/plain": [
       "                                  Name  \\\n",
       "0      2_resume_job2_ChatGPT_1_cleaned   \n",
       "1  105_resume_job2_authentic_0_cleaned   \n",
       "2   31_resume_job1_authentic_0_cleaned   \n",
       "3  142_resume_job2_authentic_0_cleaned   \n",
       "4   66_resume_job5_authentic_0_cleaned   \n",
       "\n",
       "                                                Text  Label  \n",
       "0  resume name address email phonenumber address ...    1.0  \n",
       "1  name address  email phonenumber holding 5 year...    0.0  \n",
       "2  name net name address 21704 email phonenumber ...    0.0  \n",
       "3  sqlssisssrs name name name email email locatio...    0.0  \n",
       "4  name del name namename name address 33144 emai...    0.0  "
      ]
     },
     "execution_count": 27,
     "metadata": {},
     "output_type": "execute_result"
    }
   ],
   "source": [
    "# Load the dataset\n",
    "df = pd.read_csv('/Users/andrealoizidou/Desktop/capstone_project/UPDATED_cleaned_resume/data_generation.csv')\n",
    "\n",
    "# Display the first few rows of the dataframe\n",
    "df.head()\n"
   ]
  },
  {
   "cell_type": "code",
   "execution_count": 28,
   "id": "02b04e8d",
   "metadata": {},
   "outputs": [
    {
     "name": "stdout",
     "output_type": "stream",
     "text": [
      "Original dataset size: 1502\n",
      "Dataset size after dropping missing values: 1481\n"
     ]
    }
   ],
   "source": [
    "print(f\"Original dataset size: {df.shape[0]}\")  # Should print 1501\n",
    "df_cleaned = df.dropna()\n",
    "print(f\"Dataset size after dropping missing values: {df_cleaned.shape[0]}\")  # Should print 1481\n"
   ]
  },
  {
   "cell_type": "markdown",
   "id": "bfbb9477",
   "metadata": {},
   "source": [
    "## 3. Data Exploration and Preprocessing\n",
    "\n",
    "Before proceeding, we check for any missing values and handle them appropriately. We also examine the distribution of labels to understand the balance of our dataset.\n",
    "### Exploratory Data Analysis  \n",
    "We visualize the distribution of labels (Authentic vs. Inauthentic resumes).\n",
    "\n"
   ]
  },
  {
   "cell_type": "code",
   "execution_count": 29,
   "id": "5c6338e6",
   "metadata": {
    "scrolled": true
   },
   "outputs": [
    {
     "name": "stdout",
     "output_type": "stream",
     "text": [
      "Missing values in each column:\n",
      "Name      1\n",
      "Text     19\n",
      "Label     3\n",
      "dtype: int64\n",
      "\n",
      "Label distribution:\n",
      "Label\n",
      "1.0    747\n",
      "0.0    734\n",
      "Name: count, dtype: int64\n"
     ]
    }
   ],
   "source": [
    "# Check for missing values\n",
    "print(\"Missing values in each column:\")\n",
    "print(df.isnull().sum())\n",
    "\n",
    "# Drop rows with missing values\n",
    "df.dropna(inplace=True)\n",
    "\n",
    "# Verify the distribution of labels\n",
    "print(\"\\nLabel distribution:\")\n",
    "print(df['Label'].value_counts())\n"
   ]
  },
  {
   "cell_type": "code",
   "execution_count": null,
   "id": "fb7a28ef",
   "metadata": {},
   "outputs": [],
   "source": []
  },
  {
   "cell_type": "markdown",
   "id": "7edfba04",
   "metadata": {},
   "source": [
    "# Feature Engineering"
   ]
  },
  {
   "cell_type": "code",
   "execution_count": 30,
   "id": "b60a9f75",
   "metadata": {},
   "outputs": [
    {
     "name": "stdout",
     "output_type": "stream",
     "text": [
      "Requirement already satisfied: nltk in /Users/andrealoizidou/anaconda3/lib/python3.11/site-packages (3.8.1)\n",
      "Requirement already satisfied: click in /Users/andrealoizidou/anaconda3/lib/python3.11/site-packages (from nltk) (8.0.4)\n",
      "Requirement already satisfied: joblib in /Users/andrealoizidou/anaconda3/lib/python3.11/site-packages (from nltk) (1.2.0)\n",
      "Requirement already satisfied: regex>=2021.8.3 in /Users/andrealoizidou/anaconda3/lib/python3.11/site-packages (from nltk) (2022.7.9)\n",
      "Requirement already satisfied: tqdm in /Users/andrealoizidou/anaconda3/lib/python3.11/site-packages (from nltk) (4.65.0)\n",
      "\u001b[33mWARNING: Error parsing dependencies of textract: .* suffix can only be used with `==` or `!=` operators\n",
      "    extract-msg (<=0.29.*)\n",
      "                 ~~~~~~~^\u001b[0m\u001b[33m\n",
      "\u001b[0m"
     ]
    }
   ],
   "source": [
    "! pip install nltk"
   ]
  },
  {
   "cell_type": "code",
   "execution_count": 32,
   "id": "c706431a",
   "metadata": {},
   "outputs": [],
   "source": [
    "import nltk"
   ]
  },
  {
   "cell_type": "code",
   "execution_count": 34,
   "id": "088b8b1e",
   "metadata": {},
   "outputs": [
    {
     "name": "stdout",
     "output_type": "stream",
     "text": [
      "Number of words: 3\n",
      "Most common words: [('Name', 1), ('Text', 1), ('Label', 1)]\n"
     ]
    }
   ],
   "source": [
    "# print the total number of words and the 15 most common words\n",
    "print('Number of words: {}'.format(len(all_words)))\n",
    "print('Most common words: {}'.format(all_words.most_common(15)))"
   ]
  },
  {
   "cell_type": "markdown",
   "id": "e7ada4c3",
   "metadata": {},
   "source": [
    "# Step 5: Text Preprocessing  \n",
    "We clean the text by:\n",
    "- Converting to lowercase\n",
    "- Removing punctuation and special characters\n",
    "- Removing extra whitespace\n"
   ]
  },
  {
   "cell_type": "code",
   "execution_count": 14,
   "id": "ac6afbe5",
   "metadata": {},
   "outputs": [
    {
     "data": {
      "text/html": [
       "<div>\n",
       "<style scoped>\n",
       "    .dataframe tbody tr th:only-of-type {\n",
       "        vertical-align: middle;\n",
       "    }\n",
       "\n",
       "    .dataframe tbody tr th {\n",
       "        vertical-align: top;\n",
       "    }\n",
       "\n",
       "    .dataframe thead th {\n",
       "        text-align: right;\n",
       "    }\n",
       "</style>\n",
       "<table border=\"1\" class=\"dataframe\">\n",
       "  <thead>\n",
       "    <tr style=\"text-align: right;\">\n",
       "      <th></th>\n",
       "      <th>Name</th>\n",
       "      <th>Text</th>\n",
       "      <th>Label</th>\n",
       "    </tr>\n",
       "  </thead>\n",
       "  <tbody>\n",
       "    <tr>\n",
       "      <th>0</th>\n",
       "      <td>2_resume_job2_ChatGPT_1_cleaned</td>\n",
       "      <td>resume name address email phonenumber address ...</td>\n",
       "      <td>1.0</td>\n",
       "    </tr>\n",
       "    <tr>\n",
       "      <th>1</th>\n",
       "      <td>105_resume_job2_authentic_0_cleaned</td>\n",
       "      <td>name address email phonenumber holding 5 years...</td>\n",
       "      <td>0.0</td>\n",
       "    </tr>\n",
       "    <tr>\n",
       "      <th>2</th>\n",
       "      <td>31_resume_job1_authentic_0_cleaned</td>\n",
       "      <td>name net name address 21704 email phonenumber ...</td>\n",
       "      <td>0.0</td>\n",
       "    </tr>\n",
       "    <tr>\n",
       "      <th>3</th>\n",
       "      <td>142_resume_job2_authentic_0_cleaned</td>\n",
       "      <td>sqlssisssrs name name sharad khanal email emai...</td>\n",
       "      <td>0.0</td>\n",
       "    </tr>\n",
       "    <tr>\n",
       "      <th>4</th>\n",
       "      <td>66_resume_job5_authentic_0_cleaned</td>\n",
       "      <td>name del name namename name address 33144 emai...</td>\n",
       "      <td>0.0</td>\n",
       "    </tr>\n",
       "  </tbody>\n",
       "</table>\n",
       "</div>"
      ],
      "text/plain": [
       "                                  Name  \\\n",
       "0      2_resume_job2_ChatGPT_1_cleaned   \n",
       "1  105_resume_job2_authentic_0_cleaned   \n",
       "2   31_resume_job1_authentic_0_cleaned   \n",
       "3  142_resume_job2_authentic_0_cleaned   \n",
       "4   66_resume_job5_authentic_0_cleaned   \n",
       "\n",
       "                                                Text  Label  \n",
       "0  resume name address email phonenumber address ...    1.0  \n",
       "1  name address email phonenumber holding 5 years...    0.0  \n",
       "2  name net name address 21704 email phonenumber ...    0.0  \n",
       "3  sqlssisssrs name name sharad khanal email emai...    0.0  \n",
       "4  name del name namename name address 33144 emai...    0.0  "
      ]
     },
     "execution_count": 14,
     "metadata": {},
     "output_type": "execute_result"
    }
   ],
   "source": [
    "import re\n",
    "def clean_text(text):\n",
    "    # Convert to lowercase\n",
    "    text = text.lower()\n",
    "    \n",
    "    # Remove punctuation and special characters\n",
    "    text = re.sub(r'[^\\w\\s]', '', text)\n",
    "    \n",
    "    # Remove extra whitespace\n",
    "    text = \" \".join(text.split())\n",
    "    \n",
    "    return text\n",
    "\n",
    "# Apply text cleaning function\n",
    "df['Text'] = df['Text'].apply(clean_text)\n",
    "\n",
    "# Display first few cleaned texts\n",
    "df.head()\n"
   ]
  },
  {
   "cell_type": "markdown",
   "id": "426d432c",
   "metadata": {},
   "source": [
    "## 4. Split the Data into Training and Testing Sets\n",
    "\n",
    "We define our features (`Text`) and target variable (`Label`). The dataset is then split into training and testing sets, with 80% for training and 20% for testing. Stratified sampling ensures the label distribution remains consistent across both sets.\n"
   ]
  },
  {
   "cell_type": "code",
   "execution_count": 15,
   "id": "b82f6f31",
   "metadata": {},
   "outputs": [
    {
     "name": "stdout",
     "output_type": "stream",
     "text": [
      "Training samples: 1184\n",
      "Testing samples: 297\n"
     ]
    }
   ],
   "source": [
    "# Define features and target variable\n",
    "X = df['Text']\n",
    "y = df['Label']\n",
    "\n",
    "# Split dataset into train (80%) and test (20%)\n",
    "X_train, X_test, y_train, y_test = train_test_split(X, y, test_size=0.2, random_state=42, stratify=y)\n",
    "\n",
    "# Display dataset sizes\n",
    "print(f\"Training samples: {len(X_train)}\")\n",
    "print(f\"Testing samples: {len(X_test)}\")\n"
   ]
  },
  {
   "cell_type": "markdown",
   "id": "710ebb34",
   "metadata": {},
   "source": [
    "## 5. Feature Extraction Using TF-IDF Vectorization\n",
    "\n",
    "We use TF-IDF to convert text into numerical features:\n",
    "- Maximum 5,000 most important words are selected.\n",
    "- Stopwords (common words like 'the', 'is') are removed.\n",
    "\n"
   ]
  },
  {
   "cell_type": "code",
   "execution_count": 16,
   "id": "6d3ac49b",
   "metadata": {},
   "outputs": [
    {
     "name": "stdout",
     "output_type": "stream",
     "text": [
      "TF-IDF Train Shape: (1184, 5000)\n",
      "TF-IDF Test Shape: (297, 5000)\n"
     ]
    }
   ],
   "source": [
    "# Initialize TF-IDF Vectorizer\n",
    "tfidf_vectorizer = TfidfVectorizer(max_features=5000, stop_words='english')\n",
    "\n",
    "# Fit and transform training data\n",
    "X_train_tfidf = tfidf_vectorizer.fit_transform(X_train)\n",
    "\n",
    "# Transform test data\n",
    "X_test_tfidf = tfidf_vectorizer.transform(X_test)\n",
    "\n",
    "# Display shape of transformed data\n",
    "print(f\"TF-IDF Train Shape: {X_train_tfidf.shape}\")\n",
    "print(f\"TF-IDF Test Shape: {X_test_tfidf.shape}\")\n"
   ]
  },
  {
   "cell_type": "markdown",
   "id": "e995efe6",
   "metadata": {},
   "source": [
    "\n",
    "## Train a Logistic Regression Model  \n",
    "We train a Logistic Regression model on the TF-IDF transformed text data.\n"
   ]
  },
  {
   "cell_type": "code",
   "execution_count": 17,
   "id": "34f3c29c",
   "metadata": {},
   "outputs": [
    {
     "data": {
      "text/html": [
       "<style>#sk-container-id-2 {color: black;background-color: white;}#sk-container-id-2 pre{padding: 0;}#sk-container-id-2 div.sk-toggleable {background-color: white;}#sk-container-id-2 label.sk-toggleable__label {cursor: pointer;display: block;width: 100%;margin-bottom: 0;padding: 0.3em;box-sizing: border-box;text-align: center;}#sk-container-id-2 label.sk-toggleable__label-arrow:before {content: \"▸\";float: left;margin-right: 0.25em;color: #696969;}#sk-container-id-2 label.sk-toggleable__label-arrow:hover:before {color: black;}#sk-container-id-2 div.sk-estimator:hover label.sk-toggleable__label-arrow:before {color: black;}#sk-container-id-2 div.sk-toggleable__content {max-height: 0;max-width: 0;overflow: hidden;text-align: left;background-color: #f0f8ff;}#sk-container-id-2 div.sk-toggleable__content pre {margin: 0.2em;color: black;border-radius: 0.25em;background-color: #f0f8ff;}#sk-container-id-2 input.sk-toggleable__control:checked~div.sk-toggleable__content {max-height: 200px;max-width: 100%;overflow: auto;}#sk-container-id-2 input.sk-toggleable__control:checked~label.sk-toggleable__label-arrow:before {content: \"▾\";}#sk-container-id-2 div.sk-estimator input.sk-toggleable__control:checked~label.sk-toggleable__label {background-color: #d4ebff;}#sk-container-id-2 div.sk-label input.sk-toggleable__control:checked~label.sk-toggleable__label {background-color: #d4ebff;}#sk-container-id-2 input.sk-hidden--visually {border: 0;clip: rect(1px 1px 1px 1px);clip: rect(1px, 1px, 1px, 1px);height: 1px;margin: -1px;overflow: hidden;padding: 0;position: absolute;width: 1px;}#sk-container-id-2 div.sk-estimator {font-family: monospace;background-color: #f0f8ff;border: 1px dotted black;border-radius: 0.25em;box-sizing: border-box;margin-bottom: 0.5em;}#sk-container-id-2 div.sk-estimator:hover {background-color: #d4ebff;}#sk-container-id-2 div.sk-parallel-item::after {content: \"\";width: 100%;border-bottom: 1px solid gray;flex-grow: 1;}#sk-container-id-2 div.sk-label:hover label.sk-toggleable__label {background-color: #d4ebff;}#sk-container-id-2 div.sk-serial::before {content: \"\";position: absolute;border-left: 1px solid gray;box-sizing: border-box;top: 0;bottom: 0;left: 50%;z-index: 0;}#sk-container-id-2 div.sk-serial {display: flex;flex-direction: column;align-items: center;background-color: white;padding-right: 0.2em;padding-left: 0.2em;position: relative;}#sk-container-id-2 div.sk-item {position: relative;z-index: 1;}#sk-container-id-2 div.sk-parallel {display: flex;align-items: stretch;justify-content: center;background-color: white;position: relative;}#sk-container-id-2 div.sk-item::before, #sk-container-id-2 div.sk-parallel-item::before {content: \"\";position: absolute;border-left: 1px solid gray;box-sizing: border-box;top: 0;bottom: 0;left: 50%;z-index: -1;}#sk-container-id-2 div.sk-parallel-item {display: flex;flex-direction: column;z-index: 1;position: relative;background-color: white;}#sk-container-id-2 div.sk-parallel-item:first-child::after {align-self: flex-end;width: 50%;}#sk-container-id-2 div.sk-parallel-item:last-child::after {align-self: flex-start;width: 50%;}#sk-container-id-2 div.sk-parallel-item:only-child::after {width: 0;}#sk-container-id-2 div.sk-dashed-wrapped {border: 1px dashed gray;margin: 0 0.4em 0.5em 0.4em;box-sizing: border-box;padding-bottom: 0.4em;background-color: white;}#sk-container-id-2 div.sk-label label {font-family: monospace;font-weight: bold;display: inline-block;line-height: 1.2em;}#sk-container-id-2 div.sk-label-container {text-align: center;}#sk-container-id-2 div.sk-container {/* jupyter's `normalize.less` sets `[hidden] { display: none; }` but bootstrap.min.css set `[hidden] { display: none !important; }` so we also need the `!important` here to be able to override the default hidden behavior on the sphinx rendered scikit-learn.org. See: https://github.com/scikit-learn/scikit-learn/issues/21755 */display: inline-block !important;position: relative;}#sk-container-id-2 div.sk-text-repr-fallback {display: none;}</style><div id=\"sk-container-id-2\" class=\"sk-top-container\"><div class=\"sk-text-repr-fallback\"><pre>LogisticRegression(max_iter=1000, random_state=42)</pre><b>In a Jupyter environment, please rerun this cell to show the HTML representation or trust the notebook. <br />On GitHub, the HTML representation is unable to render, please try loading this page with nbviewer.org.</b></div><div class=\"sk-container\" hidden><div class=\"sk-item\"><div class=\"sk-estimator sk-toggleable\"><input class=\"sk-toggleable__control sk-hidden--visually\" id=\"sk-estimator-id-2\" type=\"checkbox\" checked><label for=\"sk-estimator-id-2\" class=\"sk-toggleable__label sk-toggleable__label-arrow\">LogisticRegression</label><div class=\"sk-toggleable__content\"><pre>LogisticRegression(max_iter=1000, random_state=42)</pre></div></div></div></div></div>"
      ],
      "text/plain": [
       "LogisticRegression(max_iter=1000, random_state=42)"
      ]
     },
     "execution_count": 17,
     "metadata": {},
     "output_type": "execute_result"
    }
   ],
   "source": [
    "# Initialize and train Logistic Regression model\n",
    "logreg = LogisticRegression(max_iter=1000, random_state=42)\n",
    "logreg.fit(X_train_tfidf, y_train)\n"
   ]
  },
  {
   "cell_type": "markdown",
   "id": "b6b4c78a",
   "metadata": {},
   "source": [
    "## 7. Evaluate the Model\n",
    "\n",
    "We assess the performance of our model by:\n",
    "- Calculating the accuracy on the test set.\n",
    "- Displaying a confusion matrix to visualize the model's performance across different classes.\n",
    "- Providing a detailed classification report that includes precision, recall, and F1-score for each class.\n"
   ]
  },
  {
   "cell_type": "code",
   "execution_count": 18,
   "id": "ad5172cb",
   "metadata": {
    "scrolled": false
   },
   "outputs": [
    {
     "name": "stdout",
     "output_type": "stream",
     "text": [
      "Accuracy: 0.99\n"
     ]
    },
    {
     "data": {
      "image/png": "[encoded data removed]",
      "text/plain": [
       "<Figure size 600x400 with 2 Axes>"
      ]
     },
     "metadata": {},
     "output_type": "display_data"
    },
    {
     "name": "stdout",
     "output_type": "stream",
     "text": [
      "\n",
      "Classification Report:\n",
      "              precision    recall  f1-score   support\n",
      "\n",
      "   Authentic       0.99      0.99      0.99       147\n",
      " Inauthentic       0.99      0.99      0.99       150\n",
      "\n",
      "    accuracy                           0.99       297\n",
      "   macro avg       0.99      0.99      0.99       297\n",
      "weighted avg       0.99      0.99      0.99       297\n",
      "\n"
     ]
    }
   ],
   "source": [
    "# Predict on the test set\n",
    "y_pred = logreg.predict(X_test_tfidf)\n",
    "\n",
    "# Calculate accuracy\n",
    "accuracy = accuracy_score(y_test, y_pred)\n",
    "print(f\"Accuracy: {accuracy:.2f}\")\n",
    "\n",
    "# Generate confusion matrix\n",
    "conf_matrix = confusion_matrix(y_test, y_pred)\n",
    "\n",
    "# Plot confusion matrix\n",
    "plt.figure(figsize=(6, 4))\n",
    "sns.heatmap(conf_matrix, annot=True, fmt='d', cmap='Blues', xticklabels=['Authentic', 'Inauthentic'], yticklabels=['Authentic', 'Inauthentic'])\n",
    "plt.xlabel('Predicted Label')\n",
    "plt.ylabel('True Label')\n",
    "plt.title('Confusion Matrix')\n",
    "plt.show()\n",
    "\n",
    "# Classification report\n",
    "print(\"\\nClassification Report:\")\n",
    "print(classification_report(y_test, y_pred, target_names=['Authentic', 'Inauthentic']))\n"
   ]
  },
  {
   "cell_type": "code",
   "execution_count": 8,
   "id": "b3c2c9eb",
   "metadata": {},
   "outputs": [
    {
     "name": "stdout",
     "output_type": "stream",
     "text": [
      "Training samples: 1184\n",
      "Testing samples: 297\n"
     ]
    }
   ],
   "source": [
    "print(f\"Training samples: {len(X_train)}\")\n",
    "print(f\"Testing samples: {len(X_test)}\")\n"
   ]
  },
  {
   "cell_type": "code",
   "execution_count": 9,
   "id": "0e6bc0fa",
   "metadata": {},
   "outputs": [
    {
     "name": "stdout",
     "output_type": "stream",
     "text": [
      "Name     0\n",
      "Text     0\n",
      "Label    0\n",
      "dtype: int64\n",
      "count    1481.000000\n",
      "mean      502.098582\n",
      "std       539.987970\n",
      "min        11.000000\n",
      "25%       177.000000\n",
      "50%       323.000000\n",
      "75%       587.000000\n",
      "max      3954.000000\n",
      "Name: Text, dtype: float64\n"
     ]
    }
   ],
   "source": [
    "print(df.isnull().sum())  # Check for missing values\n",
    "print(df['Text'].apply(lambda x: len(x.split())).describe())  # Word count analysis\n"
   ]
  },
  {
   "cell_type": "code",
   "execution_count": 10,
   "id": "7cf959c5",
   "metadata": {},
   "outputs": [
    {
     "name": "stdout",
     "output_type": "stream",
     "text": [
      "TF-IDF Train Shape: (1184, 5000)\n",
      "TF-IDF Test Shape: (297, 5000)\n"
     ]
    }
   ],
   "source": [
    "print(f\"TF-IDF Train Shape: {X_train_tfidf.shape}\")\n",
    "print(f\"TF-IDF Test Shape: {X_test_tfidf.shape}\")\n"
   ]
  },
  {
   "cell_type": "markdown",
   "id": "9bf5c455",
   "metadata": {},
   "source": [
    "## 8. Save the Model and Vectorizer\n",
    "\n",
    "To facilitate future predictions without retraining, we save the trained logistic regression model and the TF-IDF vectorizer to disk using `joblib`.\n"
   ]
  },
  {
   "cell_type": "code",
   "execution_count": null,
   "id": "5d2665e6",
   "metadata": {},
   "outputs": [],
   "source": [
    "# import joblib\n",
    "\n",
    "# # Save the trained model\n",
    "# joblib.dump(logreg, '/Users/andrealoizidou/Desktop/capstone_project/UPDATED_cleaned_resume/logistic_regression_model.pkl')\n",
    "\n",
    "# # Save the TF-IDF vectorizer\n",
    "# joblib.dump(tfidf_vectorizer, '/Users/andrealoizidou/Desktop/capstone_project/UPDATED_cleaned_resume/tfidf_vectorizer.pkl')\n"
   ]
  }
 ],
 "metadata": {
  "kernelspec": {
   "display_name": "Python 3 (ipykernel)",
   "language": "python",
   "name": "python3"
  },
  "language_info": {
   "codemirror_mode": {
    "name": "ipython",
    "version": 3
   },
   "file_extension": ".py",
   "mimetype": "text/x-python",
   "name": "python",
   "nbconvert_exporter": "python",
   "pygments_lexer": "ipython3",
   "version": "3.11.5"
  }
 },
 "nbformat": 4,
 "nbformat_minor": 5
}
